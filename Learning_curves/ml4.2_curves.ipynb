{
 "cells": [
  {
   "cell_type": "markdown",
   "source": [
    "## Лабораторная работа № 11. Диагностика и кривые обучения.\n",
    "### (Валяев Георгий, ПИ20-6)"
   ],
   "metadata": {
    "collapsed": false,
    "pycharm": {
     "name": "#%% md\n"
    }
   }
  },
  {
   "cell_type": "code",
   "execution_count": 23,
   "outputs": [],
   "source": [
    "import numpy as np\n",
    "import pandas as pd\n",
    "import matplotlib.pyplot as plt\n",
    "from sklearn.datasets import load_breast_cancer\n",
    "from sklearn.model_selection import train_test_split\n",
    "from sklearn.svm import SVC\n",
    "from sklearn.linear_model import LogisticRegression\n",
    "import plotly.express as px\n",
    "from tqdm.notebook import tqdm"
   ],
   "metadata": {
    "collapsed": false,
    "pycharm": {
     "name": "#%%\n"
    }
   }
  },
  {
   "cell_type": "markdown",
   "source": [
    "### Задания для выполнения"
   ],
   "metadata": {
    "collapsed": false,
    "pycharm": {
     "name": "#%% md\n"
    }
   },
   "execution_count": 0
  },
  {
   "cell_type": "markdown",
   "source": [
    "##### 1. Загрузите датасет breast_cancer.\n"
   ],
   "metadata": {
    "collapsed": false,
    "pycharm": {
     "name": "#%% md\n"
    }
   }
  },
  {
   "cell_type": "code",
   "execution_count": 2,
   "outputs": [
    {
     "name": "stdout",
     "output_type": "stream",
     "text": [
      "Основные ключи датасета:\n",
      "data\t\ttarget\t\tframe\t\ttarget_names\t\tDESCR\t\tfeature_names\t\tfilename\n"
     ]
    }
   ],
   "source": [
    "breast_cancer = load_breast_cancer()\n",
    "print(\"Основные ключи датасета:\")\n",
    "print(*list(breast_cancer.keys()), sep='\\t\\t')"
   ],
   "metadata": {
    "collapsed": false,
    "pycharm": {
     "name": "#%%\n"
    }
   }
  },
  {
   "cell_type": "code",
   "execution_count": 3,
   "outputs": [
    {
     "name": "stdout",
     "output_type": "stream",
     "text": [
      ".. _breast_cancer_dataset:\n",
      "\n",
      "Breast cancer wisconsin (diagnostic) dataset\n",
      "--------------------------------------------\n",
      "\n",
      "**Data Set Characteristics:**\n",
      "\n",
      "    :Number of Instances: 569\n",
      "\n",
      "    :Number of Attributes: 30 numeric, predictive attributes and the class\n",
      "\n",
      "    :Attribute Information:\n",
      "        - radius (mean of distances from center to points on the perimeter)\n",
      "        - texture (standard deviation of gray-scale values)\n",
      "        - perimeter\n",
      "        - area\n",
      "        - smoothness (local variation in radius lengths)\n",
      "        - compactness (perimeter^2 / area - 1.0)\n",
      "        - concavity (severity of concave portions of the contour)\n",
      "        - concave points (number of concave portions of the contour)\n",
      "        - symmetry\n",
      "        - fractal dimension (\"coastline approximation\" - 1)\n",
      "\n",
      "        The mean, standard error, and \"worst\" or largest (mean of the three\n",
      "        worst/largest values) of these features were computed for each image,\n",
      "        resulting in 30 features.  For instance, field 0 is Mean Radius, field\n",
      "        10 is Radius SE, field 20 is Worst Radius.\n",
      "\n",
      "        - class:\n",
      "                - WDBC-Malignant\n",
      "                - WDBC-Benign\n",
      "\n",
      "    :Summary Statistics:\n",
      "\n",
      "    ===================================== ====== ======\n",
      "                                           Min    Max\n",
      "    ===================================== ====== ======\n",
      "    radius (mean):                        6.981  28.11\n",
      "    texture (mean):                       9.71   39.28\n",
      "    perimeter (mean):                     43.79  188.5\n",
      "    area (mean):                          143.5  2501.0\n",
      "    smoothness (mean):                    0.053  0.163\n",
      "    compactness (mean):                   0.019  0.345\n",
      "    concavity (mean):                     0.0    0.427\n",
      "    concave points (mean):                0.0    0.201\n",
      "    symmetry (mean):                      0.106  0.304\n",
      "    fractal dimension (mean):             0.05   0.097\n",
      "    radius (standard error):              0.112  2.873\n",
      "    texture (standard error):             0.36   4.885\n",
      "    perimeter (standard error):           0.757  21.98\n",
      "    area (standard error):                6.802  542.2\n",
      "    smoothness (standard error):          0.002  0.031\n",
      "    compactness (standard error):         0.002  0.135\n",
      "    concavity (standard error):           0.0    0.396\n",
      "    concave points (standard error):      0.0    0.053\n",
      "    symmetry (standard error):            0.008  0.079\n",
      "    fractal dimension (standard error):   0.001  0.03\n",
      "    radius (worst):                       7.93   36.04\n",
      "    texture (worst):                      12.02  49.54\n",
      "    perimeter (worst):                    50.41  251.2\n",
      "    area (worst):                         185.2  4254.0\n",
      "    smoothness (worst):                   0.071  0.223\n",
      "    compactness (worst):                  0.027  1.058\n",
      "    concavity (worst):                    0.0    1.252\n",
      "    concave points (worst):               0.0    0.291\n",
      "    symmetry (worst):                     0.156  0.664\n",
      "    fractal dimension (worst):            0.055  0.208\n",
      "    ===================================== ====== ======\n",
      "\n",
      "    :Missing Attribute Values: None\n",
      "\n",
      "    :Class Distribution: 212 - Malignant, 357 - Benign\n",
      "\n",
      "    :Creator:  Dr. William H. Wolberg, W. Nick Street, Olvi L. Mangasarian\n",
      "\n",
      "    :Donor: Nick Street\n",
      "\n",
      "    :Date: November, 1995\n",
      "\n",
      "This is a copy of UCI ML Breast Cancer Wisconsin (Diagnostic) datasets.\n",
      "https://goo.gl/U2Uwz2\n",
      "\n",
      "Features are computed from a digitized image of a fine needle\n",
      "aspirate (FNA) of a breast mass.  They describe\n",
      "characteristics of the cell nuclei present in the image.\n",
      "\n",
      "Separating plane described above was obtained using\n",
      "Multisurface Method-Tree (MSM-T) [K. P. Bennett, \"Decision Tree\n",
      "Construction Via Linear Programming.\" Proceedings of the 4th\n",
      "Midwest Artificial Intelligence and Cognitive Science Society,\n",
      "pp. 97-101, 1992], a classification method which uses linear\n",
      "programming to construct a decision tree.  Relevant features\n",
      "were selected using an exhaustive search in the space of 1-4\n",
      "features and 1-3 separating planes.\n",
      "\n",
      "The actual linear program used to obtain the separating plane\n",
      "in the 3-dimensional space is that described in:\n",
      "[K. P. Bennett and O. L. Mangasarian: \"Robust Linear\n",
      "Programming Discrimination of Two Linearly Inseparable Sets\",\n",
      "Optimization Methods and Software 1, 1992, 23-34].\n",
      "\n",
      "This database is also available through the UW CS ftp server:\n",
      "\n",
      "ftp ftp.cs.wisc.edu\n",
      "cd math-prog/cpo-dataset/machine-learn/WDBC/\n",
      "\n",
      ".. topic:: References\n",
      "\n",
      "   - W.N. Street, W.H. Wolberg and O.L. Mangasarian. Nuclear feature extraction \n",
      "     for breast tumor diagnosis. IS&T/SPIE 1993 International Symposium on \n",
      "     Electronic Imaging: Science and Technology, volume 1905, pages 861-870,\n",
      "     San Jose, CA, 1993.\n",
      "   - O.L. Mangasarian, W.N. Street and W.H. Wolberg. Breast cancer diagnosis and \n",
      "     prognosis via linear programming. Operations Research, 43(4), pages 570-577, \n",
      "     July-August 1995.\n",
      "   - W.H. Wolberg, W.N. Street, and O.L. Mangasarian. Machine learning techniques\n",
      "     to diagnose breast cancer from fine-needle aspirates. Cancer Letters 77 (1994) \n",
      "     163-171.\n"
     ]
    }
   ],
   "source": [
    "print(breast_cancer.DESCR)"
   ],
   "metadata": {
    "collapsed": false,
    "pycharm": {
     "name": "#%%\n"
    }
   }
  },
  {
   "cell_type": "markdown",
   "source": [
    "##### 2. Выберите два первых признака. Таким образом мы уменьшим размерность задачи. У нас была задача множественной классификации, а стала - бинарная.\n",
    "##### 3. Разделите датасет на обучающую и тестовую выборки в пропорции 80-20."
   ],
   "metadata": {
    "collapsed": false,
    "pycharm": {
     "name": "#%% md\n"
    }
   }
  },
  {
   "cell_type": "code",
   "execution_count": 4,
   "outputs": [
    {
     "name": "stdout",
     "output_type": "stream",
     "text": [
      "x_train shape: (455, 2)\n",
      "y_train shape: (455,)\n",
      "x_test shape: (114, 2)\n",
      "y_test shape: (114,)\n"
     ]
    }
   ],
   "source": [
    "x = breast_cancer.data\n",
    "y = breast_cancer.target\n",
    "x_2d = x[:, :2]\n",
    "x_train, x_test, y_train, y_test = train_test_split(x_2d, y, test_size=0.2, random_state=False)\n",
    "print(\"x_train shape:\", x_train.shape)\n",
    "print(\"y_train shape: {}\".format(y_train.shape))\n",
    "print(\"x_test shape:\", x_test.shape)\n",
    "print(\"y_test shape: {}\".format(y_test.shape))"
   ],
   "metadata": {
    "collapsed": false,
    "pycharm": {
     "name": "#%%\n"
    }
   }
  },
  {
   "cell_type": "markdown",
   "source": [
    "##### 4. Постройте классификатор на опорных векторах с гауссовым ядром с параметром регуляризации C=0.01. Выведите на экран значение точности на тестовой и обучающей выборке. Сделайте предварительный вывод о степени обученности модели."
   ],
   "metadata": {
    "collapsed": false,
    "pycharm": {
     "name": "#%% md\n"
    }
   }
  },
  {
   "cell_type": "code",
   "execution_count": 5,
   "outputs": [
    {
     "name": "stdout",
     "output_type": "stream",
     "text": [
      "Результат обучения на обучающей выборке:  0.6923076923076923\n",
      "Результат обучения на тестовой выборке:  0.6666666666666666\n"
     ]
    }
   ],
   "source": [
    "clf = SVC(C=0.01)\n",
    "clf.fit(x_train, y_train)\n",
    "print('Результат обучения на обучающей выборке: ', clf.score(x_train, y_train))\n",
    "print('Результат обучения на тестовой выборке: ', clf.score(x_test, y_test))"
   ],
   "metadata": {
    "collapsed": false,
    "pycharm": {
     "name": "#%%\n"
    }
   }
  },
  {
   "cell_type": "markdown",
   "source": [
    "##### Опираясь на значения выше, можно сказать, что модель недообучается => при использовании более сложных моделей точность можно улучшить!"
   ],
   "metadata": {
    "collapsed": false,
    "pycharm": {
     "name": "#%% md\n"
    }
   }
  },
  {
   "cell_type": "markdown",
   "source": [
    "##### 5. Постройте графически зависимость тестовой и обучающей точности от размера обучающей выборки. Прокомментируйте получившийся результат. Сделайте вывод о том, недообучается или переобучается модель? В зависимости от этого выберите варианты, которые могут привести к увеличению точности модели (обычно подходит больше одного варианта):\n",
    "    1. собрать больше объектов наблюдения;\n",
    "    2. провести обучение на меньшем объеме данных;\n",
    "    3. исключить часть признаков из модели;\n",
    "    4. добавить новые признаки в модель;\n",
    "    5. добавить полиномиальные признаки;\n",
    "    6. попробовать более сложные модели;\n",
    "    7. попробовать более простые модели;\n",
    "    8. увеличить регуляризацию модели;\n",
    "    9. уменьшить регуляризацию модели;"
   ],
   "metadata": {
    "collapsed": false,
    "pycharm": {
     "name": "#%% md\n"
    }
   }
  },
  {
   "cell_type": "code",
   "execution_count": 10,
   "outputs": [
    {
     "data": {
      "text/plain": "<Figure size 1080x576 with 1 Axes>",
      "image/png": "[encoded data removed]"
     },
     "metadata": {
      "needs_background": "light"
     },
     "output_type": "display_data"
    }
   ],
   "source": [
    "training_scores, test_scores, numbers = [], [], []\n",
    "for i in np.linspace(20, len(x_train), 50, dtype=int):\n",
    "    clf = SVC(C=0.01, kernel='rbf')\n",
    "    X = x_train[:i]\n",
    "    y = y_train[:i]\n",
    "    clf.fit(X, y)\n",
    "    numbers.append(int(i))\n",
    "    training_scores.append(clf.score(x_train, y_train))\n",
    "    test_scores.append(clf.score(x_test, y_test))\n",
    "\n",
    "plt.figure(figsize=(15, 8))\n",
    "plt.plot(numbers, test_scores, label=\"test scores\")\n",
    "plt.plot(numbers, training_scores, label=\"training scores\")\n",
    "plt.title(\"Зависимость тестовой и обучающей точности от размера обучающей выборки\", fontsize=15)\n",
    "plt.xlabel(\"Размер выборки\", fontsize=14)\n",
    "plt.ylabel(\"Точность модели\", fontsize=14)\n",
    "plt.legend(loc=\"best\")\n",
    "plt.show()"
   ],
   "metadata": {
    "collapsed": false,
    "pycharm": {
     "name": "#%%\n"
    }
   }
  },
  {
   "cell_type": "markdown",
   "source": [
    "###### Проанализировав график, формируется вывод о 100%-ом недообучении модели: точность модели сама по себе мала, а также с ростом выборки в самом конце только возрастают метрики train_score & test_score\n",
    "##### Для увеличения показателей можно:\n",
    "1. Увеличить выборку каким-либо способом\n",
    "2. Увеличить регуляризацию модели\n",
    "3. Попробовать другие, более сложные модели"
   ],
   "metadata": {
    "collapsed": false,
    "pycharm": {
     "name": "#%% md\n"
    }
   }
  },
  {
   "cell_type": "markdown",
   "source": [
    "##### 6. Проверьте выдвинутую гипотезу и попробуйте улучшить модель в соответствии с выбранными рекомендациями. Проверьте, увеличивается ли тестовая точность. Сделайте вывод."
   ],
   "metadata": {
    "collapsed": false,
    "pycharm": {
     "name": "#%% md\n"
    }
   }
  },
  {
   "cell_type": "code",
   "execution_count": 11,
   "outputs": [
    {
     "name": "stdout",
     "output_type": "stream",
     "text": [
      "Результат обучения на обучающей выборке:  0.6923076923076923\n",
      "Результат обучения на тестовой выборке:  0.6666666666666666\n"
     ]
    }
   ],
   "source": [
    "clf = SVC(C=0.01, kernel='rbf')\n",
    "clf.fit(x_train, y_train)\n",
    "print('Результат обучения на обучающей выборке: ', clf.score(x_train, y_train))\n",
    "print('Результат обучения на тестовой выборке: ', clf.score(x_test, y_test))"
   ],
   "metadata": {
    "collapsed": false,
    "pycharm": {
     "name": "#%%\n"
    }
   }
  },
  {
   "cell_type": "markdown",
   "source": [
    "##### Увеличиваем параметр регуляризации модели"
   ],
   "metadata": {
    "collapsed": false,
    "pycharm": {
     "name": "#%% md\n"
    }
   }
  },
  {
   "cell_type": "code",
   "execution_count": 12,
   "outputs": [
    {
     "name": "stdout",
     "output_type": "stream",
     "text": [
      "Результат обучения на обучающей выборке:  0.9142857142857143\n",
      "Результат обучения на тестовой выборке:  0.868421052631579\n"
     ]
    }
   ],
   "source": [
    "clf = SVC(C=100, kernel='rbf')\n",
    "clf.fit(x_train, y_train)\n",
    "print('Результат обучения на обучающей выборке: ', clf.score(x_train, y_train))\n",
    "print('Результат обучения на тестовой выборке: ', clf.score(x_test, y_test))"
   ],
   "metadata": {
    "collapsed": false,
    "pycharm": {
     "name": "#%%\n"
    }
   }
  },
  {
   "cell_type": "markdown",
   "source": [
    "###### Увеличение дало нам значительный рост итоговой точности модели, что можно и нужно использовать в дальнейшем"
   ],
   "metadata": {
    "collapsed": false,
    "pycharm": {
     "name": "#%% md\n"
    }
   }
  },
  {
   "cell_type": "markdown",
   "source": [
    "##### Использование модели логистической регрессии"
   ],
   "metadata": {
    "collapsed": false,
    "pycharm": {
     "name": "#%% md\n"
    }
   }
  },
  {
   "cell_type": "code",
   "execution_count": 16,
   "outputs": [
    {
     "name": "stdout",
     "output_type": "stream",
     "text": [
      "Результат обучения на обучающей выборке:  0.8989010989010989\n",
      "Результат обучения на тестовой выборке:  0.8947368421052632\n"
     ]
    }
   ],
   "source": [
    "reg = LogisticRegression(max_iter=5000, n_jobs=6).fit(x_train, y_train)\n",
    "print('Результат обучения на обучающей выборке: ', reg.score(x_train, y_train))\n",
    "print('Результат обучения на тестовой выборке: ', reg.score(x_test, y_test))"
   ],
   "metadata": {
    "collapsed": false,
    "pycharm": {
     "name": "#%%\n"
    }
   }
  },
  {
   "cell_type": "markdown",
   "source": [
    "###### Использование другой модели классификации дало отличный и высокий результат в переобучении"
   ],
   "metadata": {
    "collapsed": false,
    "pycharm": {
     "name": "#%% md\n"
    }
   }
  },
  {
   "cell_type": "markdown",
   "source": [
    "##### 7. Повторите предыдущий пункт для различных значений C в диапазоне от 0,0001 до 1 000 000. Обратите внимание на шкалу по вертикальной оси. Для каких значений тестовая точность оптимальна? Какие значения дают недообучение? Какие - переобучение?\n",
    "##### 8. Постройте график зависимости тестовой и обучающей точности от значения регуляризационного параметра. Сделайте вывод о зависимости степени регуляризации на точность модели."
   ],
   "metadata": {
    "collapsed": false,
    "pycharm": {
     "name": "#%% md\n"
    }
   }
  },
  {
   "cell_type": "code",
   "execution_count": 62,
   "outputs": [
    {
     "data": {
      "text/plain": "  0%|          | 0/500 [00:00<?, ?it/s]",
      "application/vnd.jupyter.widget-view+json": {
       "version_major": 2,
       "version_minor": 0,
       "model_id": "2262281950414f97932fd85924741c93"
      }
     },
     "metadata": {},
     "output_type": "display_data"
    },
    {
     "data": {
      "text/plain": "0.8771929824561403"
     },
     "execution_count": 62,
     "metadata": {},
     "output_type": "execute_result"
    },
    {
     "data": {
      "text/plain": "<Figure size 432x288 with 1 Axes>",
      "image/png": "[encoded data removed]"
     },
     "metadata": {
      "needs_background": "light"
     },
     "output_type": "display_data"
    }
   ],
   "source": [
    "data = np.linspace(0.0001, 1, 500)\n",
    "\n",
    "test_scores = []\n",
    "train_scores = []\n",
    "\n",
    "for i in tqdm(data):\n",
    "    clf = SVC(C=i, kernel=\"rbf\")\n",
    "    clf.fit(x_train, y_train)\n",
    "    test_scores.append(clf.score(x_test, y_test))\n",
    "    train_scores.append(clf.score(x_train, y_train))\n",
    "\n",
    "ax = plt.axes()\n",
    "ax.plot(data, test_scores, label=\"test\")\n",
    "ax.plot(data, train_scores, label=\"train\")\n",
    "ax.set_xlabel('С')\n",
    "ax.set_ylabel('score')\n",
    "ax.set_ylim([0.75, 1])\n",
    "ax.legend()\n",
    "\n",
    "max(test_scores)"
   ],
   "metadata": {
    "collapsed": false,
    "pycharm": {
     "name": "#%%\n"
    }
   }
  },
  {
   "cell_type": "code",
   "execution_count": 63,
   "outputs": [
    {
     "data": {
      "text/plain": "      C_value   type_score     score\n0    0.000100  train_score  0.637363\n1    0.002104  train_score  0.637363\n2    0.004108  train_score  0.637363\n3    0.006111  train_score  0.637363\n4    0.008115  train_score  0.637363\n..        ...          ...       ...\n995  0.991985   test_score  0.877193\n996  0.993989   test_score  0.877193\n997  0.995992   test_score  0.877193\n998  0.997996   test_score  0.877193\n999  1.000000   test_score  0.877193\n\n[1000 rows x 3 columns]",
      "text/html": "<div>\n<style scoped>\n    .dataframe tbody tr th:only-of-type {\n        vertical-align: middle;\n    }\n\n    .dataframe tbody tr th {\n        vertical-align: top;\n    }\n\n    .dataframe thead th {\n        text-align: right;\n    }\n</style>\n<table border=\"1\" class=\"dataframe\">\n  <thead>\n    <tr style=\"text-align: right;\">\n      <th></th>\n      <th>C_value</th>\n      <th>type_score</th>\n      <th>score</th>\n    </tr>\n  </thead>\n  <tbody>\n    <tr>\n      <th>0</th>\n      <td>0.000100</td>\n      <td>train_score</td>\n      <td>0.637363</td>\n    </tr>\n    <tr>\n      <th>1</th>\n      <td>0.002104</td>\n      <td>train_score</td>\n      <td>0.637363</td>\n    </tr>\n    <tr>\n      <th>2</th>\n      <td>0.004108</td>\n      <td>train_score</td>\n      <td>0.637363</td>\n    </tr>\n    <tr>\n      <th>3</th>\n      <td>0.006111</td>\n      <td>train_score</td>\n      <td>0.637363</td>\n    </tr>\n    <tr>\n      <th>4</th>\n      <td>0.008115</td>\n      <td>train_score</td>\n      <td>0.637363</td>\n    </tr>\n    <tr>\n      <th>...</th>\n      <td>...</td>\n      <td>...</td>\n      <td>...</td>\n    </tr>\n    <tr>\n      <th>995</th>\n      <td>0.991985</td>\n      <td>test_score</td>\n      <td>0.877193</td>\n    </tr>\n    <tr>\n      <th>996</th>\n      <td>0.993989</td>\n      <td>test_score</td>\n      <td>0.877193</td>\n    </tr>\n    <tr>\n      <th>997</th>\n      <td>0.995992</td>\n      <td>test_score</td>\n      <td>0.877193</td>\n    </tr>\n    <tr>\n      <th>998</th>\n      <td>0.997996</td>\n      <td>test_score</td>\n      <td>0.877193</td>\n    </tr>\n    <tr>\n      <th>999</th>\n      <td>1.000000</td>\n      <td>test_score</td>\n      <td>0.877193</td>\n    </tr>\n  </tbody>\n</table>\n<p>1000 rows × 3 columns</p>\n</div>"
     },
     "execution_count": 63,
     "metadata": {},
     "output_type": "execute_result"
    }
   ],
   "source": [
    "df = pd.DataFrame()\n",
    "df['C_value'] = list(np.linspace(0.0001, 1, 500)) + list(np.linspace(0.0001, 1, 500))\n",
    "df['type_score'] = ['train_score' if ind <= 499 else 'test_score' for ind in range(1000)]\n",
    "df['score'] = train_scores + test_scores\n",
    "df"
   ],
   "metadata": {
    "collapsed": false,
    "pycharm": {
     "name": "#%%\n"
    }
   }
  },
  {
   "cell_type": "code",
   "execution_count": 64,
   "outputs": [
    {
     "data": {
      "application/vnd.plotly.v1+json": {
       "data": [
        {
         "hovertemplate": "type_score=train_score<br>C_value=%{x}<br>score=%{y}<extra></extra>",
         "legendgroup": "train_score",
         "line": {
          "color": "#636efa",
          "dash": "solid"
         },
         "marker": {
          "symbol": "circle"
         },
         "mode": "lines",
         "name": "train_score",
         "orientation": "v",
         "showlegend": true,
         "x": [
          1.0E-4,
          0.002103807615230461,
          0.004107615230460922,
          0.006111422845691383,
          0.008115230460921843,
          0.010119038076152304,
          0.012122845691382765,
          0.014126653306613227,
          0.016130460921843687,
          0.018134268537074148,
          0.020138076152304608,
          0.02214188376753507,
          0.02414569138276553,
          0.02614949899799599,
          0.028153306613226455,
          0.030157114228456915,
          0.03216092184368738,
          0.03416472945891784,
          0.0361685370741483,
          0.03817234468937876,
          0.04017615230460922,
          0.04217995991983969,
          0.04418376753507015,
          0.04618757515030061,
          0.04819138276553107,
          0.05019519038076153,
          0.05219899799599199,
          0.05420280561122245,
          0.056206613226452914,
          0.058210420841683375,
          0.060214228456913835,
          0.062218036072144295,
          0.06422184368737476,
          0.06622565130260522,
          0.06822945891783568,
          0.07023326653306614,
          0.0722370741482966,
          0.07424088176352706,
          0.07624468937875752,
          0.07824849699398798,
          0.08025230460921844,
          0.08225611222444891,
          0.08425991983967937,
          0.08626372745490983,
          0.08826753507014029,
          0.09027134268537075,
          0.09227515030060121,
          0.09427895791583167,
          0.09628276553106213,
          0.09828657314629259,
          0.10029038076152305,
          0.10229418837675351,
          0.10429799599198397,
          0.10630180360721443,
          0.10830561122244489,
          0.11030941883767535,
          0.11231322645290583,
          0.11431703406813629,
          0.11632084168336675,
          0.1183246492985972,
          0.12032845691382767,
          0.12233226452905813,
          0.12433607214428859,
          0.12633987975951902,
          0.1283436873747495,
          0.13034749498997997,
          0.1323513026052104,
          0.1343551102204409,
          0.13635891783567133,
          0.1383627254509018,
          0.14036653306613225,
          0.14237034068136273,
          0.14437414829659317,
          0.14637795591182365,
          0.1483817635270541,
          0.15038557114228457,
          0.15238937875751501,
          0.1543931863727455,
          0.15639699398797594,
          0.1584008016032064,
          0.16040460921843686,
          0.16240841683366733,
          0.1644122244488978,
          0.16641603206412825,
          0.16841983967935872,
          0.17042364729458917,
          0.17242745490981964,
          0.1744312625250501,
          0.17643507014028056,
          0.178438877755511,
          0.18044268537074148,
          0.18244649298597193,
          0.1844503006012024,
          0.18645410821643285,
          0.18845791583166333,
          0.19046172344689377,
          0.19246553106212425,
          0.19446933867735472,
          0.19647314629258517,
          0.19847695390781564,
          0.20048076152304609,
          0.20248456913827656,
          0.204488376753507,
          0.20649218436873748,
          0.20849599198396793,
          0.2104997995991984,
          0.21250360721442885,
          0.21450741482965932,
          0.21651122244488977,
          0.21851503006012024,
          0.2205188376753507,
          0.22252264529058116,
          0.22452645290581164,
          0.22653026052104208,
          0.22853406813627256,
          0.230537875751503,
          0.23254168336673348,
          0.23454549098196392,
          0.2365492985971944,
          0.23855310621242484,
          0.24055691382765532,
          0.24256072144288576,
          0.24456452905811624,
          0.24656833667334668,
          0.24857214428857716,
          0.2505759519038076,
          0.25257975951903805,
          0.25458356713426855,
          0.256587374749499,
          0.25859118236472944,
          0.26059498997995995,
          0.2625987975951904,
          0.26460260521042084,
          0.2666064128256513,
          0.2686102204408818,
          0.27061402805611223,
          0.2726178356713427,
          0.2746216432865731,
          0.2766254509018036,
          0.2786292585170341,
          0.2806330661322645,
          0.28263687374749497,
          0.28464068136272547,
          0.2866444889779559,
          0.28864829659318636,
          0.29065210420841686,
          0.2926559118236473,
          0.29465971943887775,
          0.2966635270541082,
          0.2986673346693387,
          0.30067114228456915,
          0.3026749498997996,
          0.30467875751503004,
          0.30668256513026054,
          0.308686372745491,
          0.31069018036072144,
          0.3126939879759519,
          0.3146977955911824,
          0.31670160320641283,
          0.3187054108216433,
          0.3207092184368737,
          0.3227130260521042,
          0.32471683366733467,
          0.3267206412825651,
          0.3287244488977956,
          0.33072825651302606,
          0.3327320641282565,
          0.33473587174348696,
          0.33673967935871746,
          0.3387434869739479,
          0.34074729458917835,
          0.3427511022044088,
          0.3447549098196393,
          0.34675871743486975,
          0.3487625250501002,
          0.35076633266533064,
          0.35277014028056114,
          0.3547739478957916,
          0.35677775551102203,
          0.35878156312625253,
          0.360785370741483,
          0.3627891783567134,
          0.3647929859719439,
          0.3667967935871744,
          0.3688006012024048,
          0.37080440881763527,
          0.3728082164328657,
          0.3748120240480962,
          0.37681583166332666,
          0.3788196392785571,
          0.38082344689378755,
          0.38282725450901806,
          0.3848310621242485,
          0.38683486973947895,
          0.38883867735470945,
          0.3908424849699399,
          0.39284629258517034,
          0.3948501002004008,
          0.3968539078156313,
          0.39885771543086174,
          0.4008615230460922,
          0.40286533066132263,
          0.40486913827655313,
          0.4068729458917836,
          0.408876753507014,
          0.41088056112224447,
          0.41288436873747497,
          0.4148881763527054,
          0.41689198396793586,
          0.41889579158316637,
          0.4208995991983968,
          0.42290340681362726,
          0.4249072144288577,
          0.4269110220440882,
          0.42891482965931865,
          0.4309186372745491,
          0.43292244488977955,
          0.43492625250501005,
          0.4369300601202405,
          0.43893386773547094,
          0.4409376753507014,
          0.4429414829659319,
          0.44494529058116233,
          0.4469490981963928,
          0.4489529058116233,
          0.45095671342685373,
          0.4529605210420842,
          0.4549643286573146,
          0.4569681362725451,
          0.45897194388777557,
          0.460975751503006,
          0.46297955911823646,
          0.46498336673346696,
          0.4669871743486974,
          0.46899098196392786,
          0.4709947895791583,
          0.4729985971943888,
          0.47500240480961925,
          0.4770062124248497,
          0.47901002004008014,
          0.48101382765531064,
          0.4830176352705411,
          0.48502144288577154,
          0.48702525050100204,
          0.4890290581162325,
          0.49103286573146293,
          0.4930366733466934,
          0.4950404809619239,
          0.4970442885771543,
          0.49904809619238477,
          0.5010519038076152,
          0.5030557114228457,
          0.5050595190380761,
          0.5070633266533067,
          0.5090671342685371,
          0.5110709418837676,
          0.513074749498998,
          0.5150785571142285,
          0.5170823647294589,
          0.5190861723446893,
          0.5210899799599199,
          0.5230937875751503,
          0.5250975951903808,
          0.5271014028056112,
          0.5291052104208417,
          0.5311090180360721,
          0.5331128256513026,
          0.535116633266533,
          0.5371204408817636,
          0.539124248496994,
          0.5411280561122245,
          0.5431318637274549,
          0.5451356713426854,
          0.5471394789579158,
          0.5491432865731463,
          0.5511470941883768,
          0.5531509018036073,
          0.5551547094188377,
          0.5571585170340682,
          0.5591623246492986,
          0.561166132264529,
          0.5631699398797595,
          0.5651737474949899,
          0.5671775551102205,
          0.569181362725451,
          0.5711851703406814,
          0.5731889779559118,
          0.5751927855711423,
          0.5771965931863727,
          0.5792004008016032,
          0.5812042084168337,
          0.5832080160320642,
          0.5852118236472946,
          0.5872156312625251,
          0.5892194388777555,
          0.591223246492986,
          0.5932270541082164,
          0.5952308617234469,
          0.5972346693386774,
          0.5992384769539079,
          0.6012422845691383,
          0.6032460921843688,
          0.6052498997995992,
          0.6072537074148296,
          0.6092575150300601,
          0.6112613226452907,
          0.6132651302605211,
          0.6152689378757515,
          0.617272745490982,
          0.6192765531062124,
          0.6212803607214429,
          0.6232841683366733,
          0.6252879759519038,
          0.6272917835671343,
          0.6292955911823648,
          0.6312993987975952,
          0.6333032064128257,
          0.6353070140280561,
          0.6373108216432866,
          0.639314629258517,
          0.6413184368737475,
          0.643322244488978,
          0.6453260521042085,
          0.6473298597194389,
          0.6493336673346694,
          0.6513374749498998,
          0.6533412825651302,
          0.6553450901803607,
          0.6573488977955912,
          0.6593527054108217,
          0.6613565130260521,
          0.6633603206412826,
          0.665364128256513,
          0.6673679358717435,
          0.6693717434869739,
          0.6713755511022044,
          0.6733793587174349,
          0.6753831663326654,
          0.6773869739478958,
          0.6793907815631263,
          0.6813945891783567,
          0.6833983967935872,
          0.6854022044088176,
          0.6874060120240482,
          0.6894098196392786,
          0.6914136272545091,
          0.6934174348697395,
          0.69542124248497,
          0.6974250501002004,
          0.6994288577154308,
          0.7014326653306613,
          0.7034364729458918,
          0.7054402805611223,
          0.7074440881763527,
          0.7094478957915832,
          0.7114517034068136,
          0.7134555110220441,
          0.7154593186372745,
          0.7174631262525051,
          0.7194669338677355,
          0.721470741482966,
          0.7234745490981964,
          0.7254783567134269,
          0.7274821643286573,
          0.7294859719438878,
          0.7314897795591182,
          0.7334935871743488,
          0.7354973947895792,
          0.7375012024048097,
          0.7395050100200401,
          0.7415088176352705,
          0.743512625250501,
          0.7455164328657314,
          0.747520240480962,
          0.7495240480961924,
          0.7515278557114229,
          0.7535316633266533,
          0.7555354709418838,
          0.7575392785571142,
          0.7595430861723447,
          0.7615468937875751,
          0.7635507014028057,
          0.7655545090180361,
          0.7675583166332666,
          0.769562124248497,
          0.7715659318637275,
          0.7735697394789579,
          0.7755735470941884,
          0.7775773547094189,
          0.7795811623246494,
          0.7815849699398798,
          0.7835887775551102,
          0.7855925851703407,
          0.7875963927855711,
          0.7896002004008016,
          0.791604008016032,
          0.7936078156312626,
          0.795611623246493,
          0.7976154308617235,
          0.7996192384769539,
          0.8016230460921844,
          0.8036268537074148,
          0.8056306613226453,
          0.8076344689378758,
          0.8096382765531063,
          0.8116420841683367,
          0.8136458917835672,
          0.8156496993987976,
          0.8176535070140281,
          0.8196573146292585,
          0.821661122244489,
          0.8236649298597195,
          0.82566873747495,
          0.8276725450901804,
          0.8296763527054108,
          0.8316801603206413,
          0.8336839679358717,
          0.8356877755511022,
          0.8376915831663327,
          0.8396953907815632,
          0.8416991983967936,
          0.8437030060120241,
          0.8457068136272545,
          0.847710621242485,
          0.8497144288577154,
          0.8517182364729459,
          0.8537220440881764,
          0.8557258517034069,
          0.8577296593186373,
          0.8597334669338678,
          0.8617372745490982,
          0.8637410821643287,
          0.8657448897795591,
          0.8677486973947897,
          0.8697525050100201,
          0.8717563126252506,
          0.873760120240481,
          0.8757639278557114,
          0.8777677354709419,
          0.8797715430861723,
          0.8817753507014028,
          0.8837791583166333,
          0.8857829659318638,
          0.8877867735470942,
          0.8897905811623247,
          0.8917943887775551,
          0.8937981963927856,
          0.895802004008016,
          0.8978058116232466,
          0.899809619238477,
          0.9018134268537075,
          0.9038172344689379,
          0.9058210420841684,
          0.9078248496993988,
          0.9098286573146293,
          0.9118324649298597,
          0.9138362725450903,
          0.9158400801603207,
          0.9178438877755511,
          0.9198476953907816,
          0.921851503006012,
          0.9238553106212425,
          0.9258591182364729,
          0.9278629258517034,
          0.9298667334669339,
          0.9318705410821644,
          0.9338743486973948,
          0.9358781563126253,
          0.9378819639278557,
          0.9398857715430862,
          0.9418895791583166,
          0.9438933867735472,
          0.9458971943887776,
          0.9479010020040081,
          0.9499048096192385,
          0.951908617234469,
          0.9539124248496994,
          0.9559162324649298,
          0.9579200400801603,
          0.9599238476953909,
          0.9619276553106213,
          0.9639314629258517,
          0.9659352705410822,
          0.9679390781563126,
          0.9699428857715431,
          0.9719466933867735,
          0.9739505010020041,
          0.9759543086172345,
          0.977958116232465,
          0.9799619238476954,
          0.9819657314629259,
          0.9839695390781563,
          0.9859733466933868,
          0.9879771543086172,
          0.9899809619238478,
          0.9919847695390782,
          0.9939885771543087,
          0.9959923847695391,
          0.9979961923847696,
          1.0
         ],
         "xaxis": "x",
         "y": [
          0.6373626373626373,
          0.6373626373626373,
          0.6373626373626373,
          0.6373626373626373,
          0.6373626373626373,
          0.6945054945054945,
          0.7736263736263737,
          0.8197802197802198,
          0.8505494505494505,
          0.8725274725274725,
          0.8703296703296703,
          0.8725274725274725,
          0.8725274725274725,
          0.8769230769230769,
          0.8791208791208791,
          0.8791208791208791,
          0.8835164835164835,
          0.8857142857142857,
          0.8879120879120879,
          0.8879120879120879,
          0.8901098901098901,
          0.8923076923076924,
          0.8923076923076924,
          0.8923076923076924,
          0.8945054945054945,
          0.8945054945054945,
          0.8967032967032967,
          0.8989010989010989,
          0.8989010989010989,
          0.8989010989010989,
          0.9010989010989011,
          0.9010989010989011,
          0.9010989010989011,
          0.9010989010989011,
          0.9010989010989011,
          0.9010989010989011,
          0.9010989010989011,
          0.9010989010989011,
          0.9032967032967033,
          0.9032967032967033,
          0.9032967032967033,
          0.9032967032967033,
          0.9032967032967033,
          0.9032967032967033,
          0.9054945054945055,
          0.9054945054945055,
          0.9054945054945055,
          0.9054945054945055,
          0.9054945054945055,
          0.9054945054945055,
          0.9054945054945055,
          0.9054945054945055,
          0.9054945054945055,
          0.9054945054945055,
          0.9054945054945055,
          0.9054945054945055,
          0.9054945054945055,
          0.9054945054945055,
          0.9054945054945055,
          0.9054945054945055,
          0.9076923076923077,
          0.9076923076923077,
          0.9076923076923077,
          0.9076923076923077,
          0.9054945054945055,
          0.9076923076923077,
          0.9076923076923077,
          0.9076923076923077,
          0.9076923076923077,
          0.9076923076923077,
          0.9098901098901099,
          0.9120879120879121,
          0.9120879120879121,
          0.9120879120879121,
          0.9142857142857143,
          0.9142857142857143,
          0.9142857142857143,
          0.9142857142857143,
          0.9142857142857143,
          0.9142857142857143,
          0.9142857142857143,
          0.9142857142857143,
          0.9142857142857143,
          0.9142857142857143,
          0.9142857142857143,
          0.9142857142857143,
          0.9142857142857143,
          0.9142857142857143,
          0.9142857142857143,
          0.9142857142857143,
          0.9142857142857143,
          0.9142857142857143,
          0.9142857142857143,
          0.9142857142857143,
          0.9142857142857143,
          0.9142857142857143,
          0.9142857142857143,
          0.9142857142857143,
          0.9142857142857143,
          0.9142857142857143,
          0.9142857142857143,
          0.9142857142857143,
          0.9142857142857143,
          0.9142857142857143,
          0.9142857142857143,
          0.9142857142857143,
          0.9142857142857143,
          0.9142857142857143,
          0.9142857142857143,
          0.9142857142857143,
          0.9142857142857143,
          0.9142857142857143,
          0.9142857142857143,
          0.9142857142857143,
          0.9142857142857143,
          0.9142857142857143,
          0.9142857142857143,
          0.9142857142857143,
          0.9142857142857143,
          0.9142857142857143,
          0.9142857142857143,
          0.9142857142857143,
          0.9142857142857143,
          0.9142857142857143,
          0.9142857142857143,
          0.9142857142857143,
          0.9142857142857143,
          0.9142857142857143,
          0.9142857142857143,
          0.9142857142857143,
          0.9120879120879121,
          0.9120879120879121,
          0.9098901098901099,
          0.9098901098901099,
          0.9098901098901099,
          0.9098901098901099,
          0.9076923076923077,
          0.9076923076923077,
          0.9076923076923077,
          0.9076923076923077,
          0.9076923076923077,
          0.9076923076923077,
          0.9076923076923077,
          0.9076923076923077,
          0.9076923076923077,
          0.9076923076923077,
          0.9076923076923077,
          0.9076923076923077,
          0.9076923076923077,
          0.9076923076923077,
          0.9076923076923077,
          0.9076923076923077,
          0.9076923076923077,
          0.9076923076923077,
          0.9076923076923077,
          0.9076923076923077,
          0.9076923076923077,
          0.9076923076923077,
          0.9076923076923077,
          0.9076923076923077,
          0.9076923076923077,
          0.9098901098901099,
          0.9098901098901099,
          0.9098901098901099,
          0.9098901098901099,
          0.9098901098901099,
          0.9098901098901099,
          0.9098901098901099,
          0.9098901098901099,
          0.9098901098901099,
          0.9098901098901099,
          0.9098901098901099,
          0.9098901098901099,
          0.9098901098901099,
          0.9098901098901099,
          0.9098901098901099,
          0.9120879120879121,
          0.9120879120879121,
          0.9098901098901099,
          0.9098901098901099,
          0.9098901098901099,
          0.9098901098901099,
          0.9098901098901099,
          0.9076923076923077,
          0.9076923076923077,
          0.9076923076923077,
          0.9076923076923077,
          0.9076923076923077,
          0.9076923076923077,
          0.9076923076923077,
          0.9076923076923077,
          0.9076923076923077,
          0.9076923076923077,
          0.9076923076923077,
          0.9076923076923077,
          0.9076923076923077,
          0.9076923076923077,
          0.9076923076923077,
          0.9098901098901099,
          0.9098901098901099,
          0.9098901098901099,
          0.9098901098901099,
          0.9098901098901099,
          0.9098901098901099,
          0.9098901098901099,
          0.9098901098901099,
          0.9076923076923077,
          0.9076923076923077,
          0.9076923076923077,
          0.9076923076923077,
          0.9076923076923077,
          0.9076923076923077,
          0.9076923076923077,
          0.9076923076923077,
          0.9076923076923077,
          0.9076923076923077,
          0.9076923076923077,
          0.9076923076923077,
          0.9076923076923077,
          0.9076923076923077,
          0.9076923076923077,
          0.9076923076923077,
          0.9076923076923077,
          0.9076923076923077,
          0.9076923076923077,
          0.9076923076923077,
          0.9076923076923077,
          0.9076923076923077,
          0.9098901098901099,
          0.9098901098901099,
          0.9098901098901099,
          0.9098901098901099,
          0.9098901098901099,
          0.9076923076923077,
          0.9076923076923077,
          0.9076923076923077,
          0.9076923076923077,
          0.9076923076923077,
          0.9098901098901099,
          0.9098901098901099,
          0.9098901098901099,
          0.9098901098901099,
          0.9098901098901099,
          0.9098901098901099,
          0.9098901098901099,
          0.9098901098901099,
          0.9076923076923077,
          0.9076923076923077,
          0.9076923076923077,
          0.9076923076923077,
          0.9076923076923077,
          0.9098901098901099,
          0.9098901098901099,
          0.9098901098901099,
          0.9098901098901099,
          0.9098901098901099,
          0.9098901098901099,
          0.9098901098901099,
          0.9098901098901099,
          0.9098901098901099,
          0.9098901098901099,
          0.9098901098901099,
          0.9098901098901099,
          0.9098901098901099,
          0.9098901098901099,
          0.9098901098901099,
          0.9098901098901099,
          0.9098901098901099,
          0.9098901098901099,
          0.9098901098901099,
          0.9098901098901099,
          0.9098901098901099,
          0.9098901098901099,
          0.9098901098901099,
          0.9098901098901099,
          0.9098901098901099,
          0.9098901098901099,
          0.9098901098901099,
          0.9098901098901099,
          0.9098901098901099,
          0.9098901098901099,
          0.9098901098901099,
          0.9098901098901099,
          0.9098901098901099,
          0.9098901098901099,
          0.9098901098901099,
          0.9098901098901099,
          0.9076923076923077,
          0.9076923076923077,
          0.9076923076923077,
          0.9076923076923077,
          0.9076923076923077,
          0.9098901098901099,
          0.9098901098901099,
          0.9098901098901099,
          0.9098901098901099,
          0.9098901098901099,
          0.9098901098901099,
          0.9098901098901099,
          0.9098901098901099,
          0.9098901098901099,
          0.9098901098901099,
          0.9098901098901099,
          0.9098901098901099,
          0.9098901098901099,
          0.9098901098901099,
          0.9098901098901099,
          0.9098901098901099,
          0.9098901098901099,
          0.9098901098901099,
          0.9098901098901099,
          0.9098901098901099,
          0.9098901098901099,
          0.9098901098901099,
          0.9098901098901099,
          0.9098901098901099,
          0.9098901098901099,
          0.9098901098901099,
          0.9098901098901099,
          0.9098901098901099,
          0.9076923076923077,
          0.9076923076923077,
          0.9076923076923077,
          0.9076923076923077,
          0.9076923076923077,
          0.9076923076923077,
          0.9076923076923077,
          0.9076923076923077,
          0.9076923076923077,
          0.9076923076923077,
          0.9076923076923077,
          0.9076923076923077,
          0.9076923076923077,
          0.9076923076923077,
          0.9076923076923077,
          0.9076923076923077,
          0.9076923076923077,
          0.9076923076923077,
          0.9076923076923077,
          0.9076923076923077,
          0.9076923076923077,
          0.9076923076923077,
          0.9076923076923077,
          0.9076923076923077,
          0.9076923076923077,
          0.9076923076923077,
          0.9076923076923077,
          0.9098901098901099,
          0.9098901098901099,
          0.9098901098901099,
          0.9098901098901099,
          0.9098901098901099,
          0.9098901098901099,
          0.9098901098901099,
          0.9098901098901099,
          0.9098901098901099,
          0.9098901098901099,
          0.9098901098901099,
          0.9098901098901099,
          0.9098901098901099,
          0.9098901098901099,
          0.9098901098901099,
          0.9098901098901099,
          0.9098901098901099,
          0.9098901098901099,
          0.9098901098901099,
          0.9098901098901099,
          0.9098901098901099,
          0.9098901098901099,
          0.9098901098901099,
          0.9098901098901099,
          0.9098901098901099,
          0.9098901098901099,
          0.9098901098901099,
          0.9098901098901099,
          0.9098901098901099,
          0.9120879120879121,
          0.9120879120879121,
          0.9120879120879121,
          0.9120879120879121,
          0.9120879120879121,
          0.9120879120879121,
          0.9120879120879121,
          0.9120879120879121,
          0.9120879120879121,
          0.9120879120879121,
          0.9120879120879121,
          0.9120879120879121,
          0.9120879120879121,
          0.9120879120879121,
          0.9120879120879121,
          0.9120879120879121,
          0.9120879120879121,
          0.9120879120879121,
          0.9120879120879121,
          0.9120879120879121,
          0.9120879120879121,
          0.9120879120879121,
          0.9120879120879121,
          0.9120879120879121,
          0.9120879120879121,
          0.9120879120879121,
          0.9120879120879121,
          0.9120879120879121,
          0.9120879120879121,
          0.9120879120879121,
          0.9120879120879121,
          0.9120879120879121,
          0.9098901098901099,
          0.9098901098901099,
          0.9098901098901099,
          0.9098901098901099,
          0.9098901098901099,
          0.9120879120879121,
          0.9142857142857143,
          0.9142857142857143,
          0.9142857142857143,
          0.9142857142857143,
          0.9142857142857143,
          0.9142857142857143,
          0.9142857142857143,
          0.9142857142857143,
          0.9142857142857143,
          0.9142857142857143,
          0.9120879120879121,
          0.9120879120879121,
          0.9120879120879121,
          0.9120879120879121,
          0.9120879120879121,
          0.9120879120879121,
          0.9120879120879121,
          0.9120879120879121,
          0.9120879120879121,
          0.9120879120879121,
          0.9120879120879121,
          0.9120879120879121,
          0.9120879120879121,
          0.9120879120879121,
          0.9120879120879121,
          0.9120879120879121,
          0.9120879120879121,
          0.9120879120879121,
          0.9120879120879121,
          0.9120879120879121,
          0.9120879120879121,
          0.9120879120879121,
          0.9120879120879121,
          0.9120879120879121,
          0.9120879120879121,
          0.9120879120879121,
          0.9120879120879121,
          0.9120879120879121,
          0.9120879120879121,
          0.9120879120879121,
          0.9120879120879121,
          0.9120879120879121,
          0.9120879120879121,
          0.9120879120879121,
          0.9120879120879121,
          0.9120879120879121,
          0.9120879120879121,
          0.9120879120879121,
          0.9120879120879121,
          0.9120879120879121,
          0.9120879120879121,
          0.9120879120879121,
          0.9120879120879121,
          0.9120879120879121,
          0.9120879120879121,
          0.9120879120879121,
          0.9120879120879121,
          0.9120879120879121,
          0.9120879120879121,
          0.9120879120879121,
          0.9120879120879121,
          0.9120879120879121,
          0.9120879120879121,
          0.9120879120879121,
          0.9120879120879121,
          0.9120879120879121,
          0.9120879120879121,
          0.9120879120879121,
          0.9120879120879121,
          0.9120879120879121,
          0.9120879120879121,
          0.9120879120879121,
          0.9120879120879121,
          0.9120879120879121,
          0.9120879120879121,
          0.9120879120879121,
          0.9120879120879121,
          0.9120879120879121,
          0.9120879120879121,
          0.9120879120879121,
          0.9120879120879121,
          0.9120879120879121,
          0.9098901098901099,
          0.9098901098901099,
          0.9098901098901099,
          0.9098901098901099
         ],
         "yaxis": "y",
         "type": "scatter"
        },
        {
         "hovertemplate": "type_score=test_score<br>C_value=%{x}<br>score=%{y}<extra></extra>",
         "legendgroup": "test_score",
         "line": {
          "color": "#EF553B",
          "dash": "solid"
         },
         "marker": {
          "symbol": "circle"
         },
         "mode": "lines",
         "name": "test_score",
         "orientation": "v",
         "showlegend": true,
         "x": [
          1.0E-4,
          0.002103807615230461,
          0.004107615230460922,
          0.006111422845691383,
          0.008115230460921843,
          0.010119038076152304,
          0.012122845691382765,
          0.014126653306613227,
          0.016130460921843687,
          0.018134268537074148,
          0.020138076152304608,
          0.02214188376753507,
          0.02414569138276553,
          0.02614949899799599,
          0.028153306613226455,
          0.030157114228456915,
          0.03216092184368738,
          0.03416472945891784,
          0.0361685370741483,
          0.03817234468937876,
          0.04017615230460922,
          0.04217995991983969,
          0.04418376753507015,
          0.04618757515030061,
          0.04819138276553107,
          0.05019519038076153,
          0.05219899799599199,
          0.05420280561122245,
          0.056206613226452914,
          0.058210420841683375,
          0.060214228456913835,
          0.062218036072144295,
          0.06422184368737476,
          0.06622565130260522,
          0.06822945891783568,
          0.07023326653306614,
          0.0722370741482966,
          0.07424088176352706,
          0.07624468937875752,
          0.07824849699398798,
          0.08025230460921844,
          0.08225611222444891,
          0.08425991983967937,
          0.08626372745490983,
          0.08826753507014029,
          0.09027134268537075,
          0.09227515030060121,
          0.09427895791583167,
          0.09628276553106213,
          0.09828657314629259,
          0.10029038076152305,
          0.10229418837675351,
          0.10429799599198397,
          0.10630180360721443,
          0.10830561122244489,
          0.11030941883767535,
          0.11231322645290583,
          0.11431703406813629,
          0.11632084168336675,
          0.1183246492985972,
          0.12032845691382767,
          0.12233226452905813,
          0.12433607214428859,
          0.12633987975951902,
          0.1283436873747495,
          0.13034749498997997,
          0.1323513026052104,
          0.1343551102204409,
          0.13635891783567133,
          0.1383627254509018,
          0.14036653306613225,
          0.14237034068136273,
          0.14437414829659317,
          0.14637795591182365,
          0.1483817635270541,
          0.15038557114228457,
          0.15238937875751501,
          0.1543931863727455,
          0.15639699398797594,
          0.1584008016032064,
          0.16040460921843686,
          0.16240841683366733,
          0.1644122244488978,
          0.16641603206412825,
          0.16841983967935872,
          0.17042364729458917,
          0.17242745490981964,
          0.1744312625250501,
          0.17643507014028056,
          0.178438877755511,
          0.18044268537074148,
          0.18244649298597193,
          0.1844503006012024,
          0.18645410821643285,
          0.18845791583166333,
          0.19046172344689377,
          0.19246553106212425,
          0.19446933867735472,
          0.19647314629258517,
          0.19847695390781564,
          0.20048076152304609,
          0.20248456913827656,
          0.204488376753507,
          0.20649218436873748,
          0.20849599198396793,
          0.2104997995991984,
          0.21250360721442885,
          0.21450741482965932,
          0.21651122244488977,
          0.21851503006012024,
          0.2205188376753507,
          0.22252264529058116,
          0.22452645290581164,
          0.22653026052104208,
          0.22853406813627256,
          0.230537875751503,
          0.23254168336673348,
          0.23454549098196392,
          0.2365492985971944,
          0.23855310621242484,
          0.24055691382765532,
          0.24256072144288576,
          0.24456452905811624,
          0.24656833667334668,
          0.24857214428857716,
          0.2505759519038076,
          0.25257975951903805,
          0.25458356713426855,
          0.256587374749499,
          0.25859118236472944,
          0.26059498997995995,
          0.2625987975951904,
          0.26460260521042084,
          0.2666064128256513,
          0.2686102204408818,
          0.27061402805611223,
          0.2726178356713427,
          0.2746216432865731,
          0.2766254509018036,
          0.2786292585170341,
          0.2806330661322645,
          0.28263687374749497,
          0.28464068136272547,
          0.2866444889779559,
          0.28864829659318636,
          0.29065210420841686,
          0.2926559118236473,
          0.29465971943887775,
          0.2966635270541082,
          0.2986673346693387,
          0.30067114228456915,
          0.3026749498997996,
          0.30467875751503004,
          0.30668256513026054,
          0.308686372745491,
          0.31069018036072144,
          0.3126939879759519,
          0.3146977955911824,
          0.31670160320641283,
          0.3187054108216433,
          0.3207092184368737,
          0.3227130260521042,
          0.32471683366733467,
          0.3267206412825651,
          0.3287244488977956,
          0.33072825651302606,
          0.3327320641282565,
          0.33473587174348696,
          0.33673967935871746,
          0.3387434869739479,
          0.34074729458917835,
          0.3427511022044088,
          0.3447549098196393,
          0.34675871743486975,
          0.3487625250501002,
          0.35076633266533064,
          0.35277014028056114,
          0.3547739478957916,
          0.35677775551102203,
          0.35878156312625253,
          0.360785370741483,
          0.3627891783567134,
          0.3647929859719439,
          0.3667967935871744,
          0.3688006012024048,
          0.37080440881763527,
          0.3728082164328657,
          0.3748120240480962,
          0.37681583166332666,
          0.3788196392785571,
          0.38082344689378755,
          0.38282725450901806,
          0.3848310621242485,
          0.38683486973947895,
          0.38883867735470945,
          0.3908424849699399,
          0.39284629258517034,
          0.3948501002004008,
          0.3968539078156313,
          0.39885771543086174,
          0.4008615230460922,
          0.40286533066132263,
          0.40486913827655313,
          0.4068729458917836,
          0.408876753507014,
          0.41088056112224447,
          0.41288436873747497,
          0.4148881763527054,
          0.41689198396793586,
          0.41889579158316637,
          0.4208995991983968,
          0.42290340681362726,
          0.4249072144288577,
          0.4269110220440882,
          0.42891482965931865,
          0.4309186372745491,
          0.43292244488977955,
          0.43492625250501005,
          0.4369300601202405,
          0.43893386773547094,
          0.4409376753507014,
          0.4429414829659319,
          0.44494529058116233,
          0.4469490981963928,
          0.4489529058116233,
          0.45095671342685373,
          0.4529605210420842,
          0.4549643286573146,
          0.4569681362725451,
          0.45897194388777557,
          0.460975751503006,
          0.46297955911823646,
          0.46498336673346696,
          0.4669871743486974,
          0.46899098196392786,
          0.4709947895791583,
          0.4729985971943888,
          0.47500240480961925,
          0.4770062124248497,
          0.47901002004008014,
          0.48101382765531064,
          0.4830176352705411,
          0.48502144288577154,
          0.48702525050100204,
          0.4890290581162325,
          0.49103286573146293,
          0.4930366733466934,
          0.4950404809619239,
          0.4970442885771543,
          0.49904809619238477,
          0.5010519038076152,
          0.5030557114228457,
          0.5050595190380761,
          0.5070633266533067,
          0.5090671342685371,
          0.5110709418837676,
          0.513074749498998,
          0.5150785571142285,
          0.5170823647294589,
          0.5190861723446893,
          0.5210899799599199,
          0.5230937875751503,
          0.5250975951903808,
          0.5271014028056112,
          0.5291052104208417,
          0.5311090180360721,
          0.5331128256513026,
          0.535116633266533,
          0.5371204408817636,
          0.539124248496994,
          0.5411280561122245,
          0.5431318637274549,
          0.5451356713426854,
          0.5471394789579158,
          0.5491432865731463,
          0.5511470941883768,
          0.5531509018036073,
          0.5551547094188377,
          0.5571585170340682,
          0.5591623246492986,
          0.561166132264529,
          0.5631699398797595,
          0.5651737474949899,
          0.5671775551102205,
          0.569181362725451,
          0.5711851703406814,
          0.5731889779559118,
          0.5751927855711423,
          0.5771965931863727,
          0.5792004008016032,
          0.5812042084168337,
          0.5832080160320642,
          0.5852118236472946,
          0.5872156312625251,
          0.5892194388777555,
          0.591223246492986,
          0.5932270541082164,
          0.5952308617234469,
          0.5972346693386774,
          0.5992384769539079,
          0.6012422845691383,
          0.6032460921843688,
          0.6052498997995992,
          0.6072537074148296,
          0.6092575150300601,
          0.6112613226452907,
          0.6132651302605211,
          0.6152689378757515,
          0.617272745490982,
          0.6192765531062124,
          0.6212803607214429,
          0.6232841683366733,
          0.6252879759519038,
          0.6272917835671343,
          0.6292955911823648,
          0.6312993987975952,
          0.6333032064128257,
          0.6353070140280561,
          0.6373108216432866,
          0.639314629258517,
          0.6413184368737475,
          0.643322244488978,
          0.6453260521042085,
          0.6473298597194389,
          0.6493336673346694,
          0.6513374749498998,
          0.6533412825651302,
          0.6553450901803607,
          0.6573488977955912,
          0.6593527054108217,
          0.6613565130260521,
          0.6633603206412826,
          0.665364128256513,
          0.6673679358717435,
          0.6693717434869739,
          0.6713755511022044,
          0.6733793587174349,
          0.6753831663326654,
          0.6773869739478958,
          0.6793907815631263,
          0.6813945891783567,
          0.6833983967935872,
          0.6854022044088176,
          0.6874060120240482,
          0.6894098196392786,
          0.6914136272545091,
          0.6934174348697395,
          0.69542124248497,
          0.6974250501002004,
          0.6994288577154308,
          0.7014326653306613,
          0.7034364729458918,
          0.7054402805611223,
          0.7074440881763527,
          0.7094478957915832,
          0.7114517034068136,
          0.7134555110220441,
          0.7154593186372745,
          0.7174631262525051,
          0.7194669338677355,
          0.721470741482966,
          0.7234745490981964,
          0.7254783567134269,
          0.7274821643286573,
          0.7294859719438878,
          0.7314897795591182,
          0.7334935871743488,
          0.7354973947895792,
          0.7375012024048097,
          0.7395050100200401,
          0.7415088176352705,
          0.743512625250501,
          0.7455164328657314,
          0.747520240480962,
          0.7495240480961924,
          0.7515278557114229,
          0.7535316633266533,
          0.7555354709418838,
          0.7575392785571142,
          0.7595430861723447,
          0.7615468937875751,
          0.7635507014028057,
          0.7655545090180361,
          0.7675583166332666,
          0.769562124248497,
          0.7715659318637275,
          0.7735697394789579,
          0.7755735470941884,
          0.7775773547094189,
          0.7795811623246494,
          0.7815849699398798,
          0.7835887775551102,
          0.7855925851703407,
          0.7875963927855711,
          0.7896002004008016,
          0.791604008016032,
          0.7936078156312626,
          0.795611623246493,
          0.7976154308617235,
          0.7996192384769539,
          0.8016230460921844,
          0.8036268537074148,
          0.8056306613226453,
          0.8076344689378758,
          0.8096382765531063,
          0.8116420841683367,
          0.8136458917835672,
          0.8156496993987976,
          0.8176535070140281,
          0.8196573146292585,
          0.821661122244489,
          0.8236649298597195,
          0.82566873747495,
          0.8276725450901804,
          0.8296763527054108,
          0.8316801603206413,
          0.8336839679358717,
          0.8356877755511022,
          0.8376915831663327,
          0.8396953907815632,
          0.8416991983967936,
          0.8437030060120241,
          0.8457068136272545,
          0.847710621242485,
          0.8497144288577154,
          0.8517182364729459,
          0.8537220440881764,
          0.8557258517034069,
          0.8577296593186373,
          0.8597334669338678,
          0.8617372745490982,
          0.8637410821643287,
          0.8657448897795591,
          0.8677486973947897,
          0.8697525050100201,
          0.8717563126252506,
          0.873760120240481,
          0.8757639278557114,
          0.8777677354709419,
          0.8797715430861723,
          0.8817753507014028,
          0.8837791583166333,
          0.8857829659318638,
          0.8877867735470942,
          0.8897905811623247,
          0.8917943887775551,
          0.8937981963927856,
          0.895802004008016,
          0.8978058116232466,
          0.899809619238477,
          0.9018134268537075,
          0.9038172344689379,
          0.9058210420841684,
          0.9078248496993988,
          0.9098286573146293,
          0.9118324649298597,
          0.9138362725450903,
          0.9158400801603207,
          0.9178438877755511,
          0.9198476953907816,
          0.921851503006012,
          0.9238553106212425,
          0.9258591182364729,
          0.9278629258517034,
          0.9298667334669339,
          0.9318705410821644,
          0.9338743486973948,
          0.9358781563126253,
          0.9378819639278557,
          0.9398857715430862,
          0.9418895791583166,
          0.9438933867735472,
          0.9458971943887776,
          0.9479010020040081,
          0.9499048096192385,
          0.951908617234469,
          0.9539124248496994,
          0.9559162324649298,
          0.9579200400801603,
          0.9599238476953909,
          0.9619276553106213,
          0.9639314629258517,
          0.9659352705410822,
          0.9679390781563126,
          0.9699428857715431,
          0.9719466933867735,
          0.9739505010020041,
          0.9759543086172345,
          0.977958116232465,
          0.9799619238476954,
          0.9819657314629259,
          0.9839695390781563,
          0.9859733466933868,
          0.9879771543086172,
          0.9899809619238478,
          0.9919847695390782,
          0.9939885771543087,
          0.9959923847695391,
          0.9979961923847696,
          1.0
         ],
         "xaxis": "x",
         "y": [
          0.5877192982456141,
          0.5877192982456141,
          0.5877192982456141,
          0.5877192982456141,
          0.5877192982456141,
          0.6666666666666666,
          0.7543859649122807,
          0.8070175438596491,
          0.8333333333333334,
          0.8508771929824561,
          0.868421052631579,
          0.868421052631579,
          0.868421052631579,
          0.868421052631579,
          0.868421052631579,
          0.8771929824561403,
          0.8771929824561403,
          0.8771929824561403,
          0.8771929824561403,
          0.8771929824561403,
          0.8771929824561403,
          0.8771929824561403,
          0.8771929824561403,
          0.8771929824561403,
          0.868421052631579,
          0.868421052631579,
          0.868421052631579,
          0.868421052631579,
          0.868421052631579,
          0.868421052631579,
          0.868421052631579,
          0.868421052631579,
          0.868421052631579,
          0.8596491228070176,
          0.8596491228070176,
          0.8596491228070176,
          0.8596491228070176,
          0.8596491228070176,
          0.8596491228070176,
          0.8596491228070176,
          0.8596491228070176,
          0.8596491228070176,
          0.8596491228070176,
          0.8596491228070176,
          0.8596491228070176,
          0.8596491228070176,
          0.8596491228070176,
          0.8596491228070176,
          0.8596491228070176,
          0.8596491228070176,
          0.8596491228070176,
          0.8596491228070176,
          0.8596491228070176,
          0.8596491228070176,
          0.8596491228070176,
          0.8596491228070176,
          0.8596491228070176,
          0.8596491228070176,
          0.8596491228070176,
          0.8596491228070176,
          0.8596491228070176,
          0.8596491228070176,
          0.8596491228070176,
          0.8596491228070176,
          0.8596491228070176,
          0.8596491228070176,
          0.8596491228070176,
          0.8596491228070176,
          0.8596491228070176,
          0.8596491228070176,
          0.8596491228070176,
          0.868421052631579,
          0.868421052631579,
          0.868421052631579,
          0.868421052631579,
          0.868421052631579,
          0.868421052631579,
          0.868421052631579,
          0.868421052631579,
          0.8596491228070176,
          0.8596491228070176,
          0.868421052631579,
          0.868421052631579,
          0.868421052631579,
          0.868421052631579,
          0.868421052631579,
          0.868421052631579,
          0.868421052631579,
          0.868421052631579,
          0.868421052631579,
          0.868421052631579,
          0.868421052631579,
          0.868421052631579,
          0.868421052631579,
          0.868421052631579,
          0.868421052631579,
          0.868421052631579,
          0.868421052631579,
          0.868421052631579,
          0.868421052631579,
          0.868421052631579,
          0.868421052631579,
          0.868421052631579,
          0.868421052631579,
          0.868421052631579,
          0.868421052631579,
          0.868421052631579,
          0.868421052631579,
          0.868421052631579,
          0.8596491228070176,
          0.8596491228070176,
          0.8596491228070176,
          0.8596491228070176,
          0.8596491228070176,
          0.8596491228070176,
          0.8596491228070176,
          0.8596491228070176,
          0.8596491228070176,
          0.8596491228070176,
          0.8596491228070176,
          0.8596491228070176,
          0.868421052631579,
          0.868421052631579,
          0.868421052631579,
          0.868421052631579,
          0.8596491228070176,
          0.8596491228070176,
          0.868421052631579,
          0.8771929824561403,
          0.8771929824561403,
          0.8771929824561403,
          0.8771929824561403,
          0.8771929824561403,
          0.8771929824561403,
          0.8771929824561403,
          0.8771929824561403,
          0.8771929824561403,
          0.8771929824561403,
          0.8771929824561403,
          0.8771929824561403,
          0.8771929824561403,
          0.8771929824561403,
          0.8771929824561403,
          0.8771929824561403,
          0.8771929824561403,
          0.8771929824561403,
          0.8771929824561403,
          0.8771929824561403,
          0.8771929824561403,
          0.8771929824561403,
          0.8771929824561403,
          0.8771929824561403,
          0.8771929824561403,
          0.8771929824561403,
          0.8771929824561403,
          0.8771929824561403,
          0.8771929824561403,
          0.8771929824561403,
          0.8771929824561403,
          0.8771929824561403,
          0.8771929824561403,
          0.8771929824561403,
          0.8771929824561403,
          0.8771929824561403,
          0.8771929824561403,
          0.8771929824561403,
          0.8771929824561403,
          0.8771929824561403,
          0.8771929824561403,
          0.8771929824561403,
          0.8771929824561403,
          0.8771929824561403,
          0.8771929824561403,
          0.8771929824561403,
          0.8771929824561403,
          0.8771929824561403,
          0.8771929824561403,
          0.8771929824561403,
          0.8771929824561403,
          0.8771929824561403,
          0.8771929824561403,
          0.8771929824561403,
          0.8771929824561403,
          0.8771929824561403,
          0.8771929824561403,
          0.8771929824561403,
          0.8771929824561403,
          0.8771929824561403,
          0.8771929824561403,
          0.8771929824561403,
          0.8771929824561403,
          0.8771929824561403,
          0.8771929824561403,
          0.8771929824561403,
          0.8771929824561403,
          0.8771929824561403,
          0.8771929824561403,
          0.8771929824561403,
          0.8771929824561403,
          0.8771929824561403,
          0.8771929824561403,
          0.8771929824561403,
          0.8771929824561403,
          0.8771929824561403,
          0.8771929824561403,
          0.8771929824561403,
          0.8771929824561403,
          0.8771929824561403,
          0.8771929824561403,
          0.8771929824561403,
          0.8771929824561403,
          0.8771929824561403,
          0.8771929824561403,
          0.8771929824561403,
          0.8771929824561403,
          0.8771929824561403,
          0.8771929824561403,
          0.8771929824561403,
          0.8771929824561403,
          0.8771929824561403,
          0.8771929824561403,
          0.8771929824561403,
          0.8771929824561403,
          0.8771929824561403,
          0.8771929824561403,
          0.8771929824561403,
          0.8771929824561403,
          0.8771929824561403,
          0.8771929824561403,
          0.8771929824561403,
          0.8771929824561403,
          0.8771929824561403,
          0.8771929824561403,
          0.8771929824561403,
          0.8771929824561403,
          0.8771929824561403,
          0.8771929824561403,
          0.8771929824561403,
          0.8771929824561403,
          0.8771929824561403,
          0.8771929824561403,
          0.8771929824561403,
          0.8771929824561403,
          0.8771929824561403,
          0.8771929824561403,
          0.8771929824561403,
          0.8771929824561403,
          0.8771929824561403,
          0.8771929824561403,
          0.8771929824561403,
          0.8771929824561403,
          0.8771929824561403,
          0.8771929824561403,
          0.8771929824561403,
          0.8771929824561403,
          0.8771929824561403,
          0.8771929824561403,
          0.8771929824561403,
          0.8771929824561403,
          0.8771929824561403,
          0.8771929824561403,
          0.8771929824561403,
          0.8771929824561403,
          0.8771929824561403,
          0.8771929824561403,
          0.8771929824561403,
          0.8771929824561403,
          0.8771929824561403,
          0.8771929824561403,
          0.8771929824561403,
          0.8771929824561403,
          0.8771929824561403,
          0.8771929824561403,
          0.8771929824561403,
          0.8771929824561403,
          0.8771929824561403,
          0.8771929824561403,
          0.8771929824561403,
          0.8771929824561403,
          0.8771929824561403,
          0.8771929824561403,
          0.8771929824561403,
          0.8771929824561403,
          0.8771929824561403,
          0.8771929824561403,
          0.8771929824561403,
          0.8771929824561403,
          0.8771929824561403,
          0.8771929824561403,
          0.8771929824561403,
          0.8771929824561403,
          0.8771929824561403,
          0.8771929824561403,
          0.8771929824561403,
          0.8771929824561403,
          0.8771929824561403,
          0.8771929824561403,
          0.8771929824561403,
          0.8771929824561403,
          0.8771929824561403,
          0.8771929824561403,
          0.8771929824561403,
          0.8771929824561403,
          0.8771929824561403,
          0.8771929824561403,
          0.8771929824561403,
          0.8771929824561403,
          0.8771929824561403,
          0.8771929824561403,
          0.8771929824561403,
          0.8771929824561403,
          0.8771929824561403,
          0.8771929824561403,
          0.8771929824561403,
          0.8771929824561403,
          0.8771929824561403,
          0.8771929824561403,
          0.8771929824561403,
          0.8771929824561403,
          0.8771929824561403,
          0.8771929824561403,
          0.8771929824561403,
          0.8771929824561403,
          0.8771929824561403,
          0.8771929824561403,
          0.8771929824561403,
          0.8771929824561403,
          0.8771929824561403,
          0.8771929824561403,
          0.8771929824561403,
          0.8771929824561403,
          0.8771929824561403,
          0.8771929824561403,
          0.8771929824561403,
          0.8771929824561403,
          0.8771929824561403,
          0.8771929824561403,
          0.8771929824561403,
          0.8771929824561403,
          0.8771929824561403,
          0.8771929824561403,
          0.8771929824561403,
          0.8771929824561403,
          0.8771929824561403,
          0.8771929824561403,
          0.8771929824561403,
          0.8771929824561403,
          0.8771929824561403,
          0.8771929824561403,
          0.8771929824561403,
          0.8771929824561403,
          0.8771929824561403,
          0.8771929824561403,
          0.8771929824561403,
          0.8771929824561403,
          0.8771929824561403,
          0.8771929824561403,
          0.8771929824561403,
          0.8771929824561403,
          0.8771929824561403,
          0.8771929824561403,
          0.8771929824561403,
          0.8771929824561403,
          0.8771929824561403,
          0.8771929824561403,
          0.8771929824561403,
          0.8771929824561403,
          0.8771929824561403,
          0.8771929824561403,
          0.8771929824561403,
          0.8771929824561403,
          0.8771929824561403,
          0.8771929824561403,
          0.8771929824561403,
          0.8771929824561403,
          0.8771929824561403,
          0.8771929824561403,
          0.8771929824561403,
          0.8771929824561403,
          0.8771929824561403,
          0.8771929824561403,
          0.8771929824561403,
          0.8771929824561403,
          0.8771929824561403,
          0.8771929824561403,
          0.8771929824561403,
          0.8771929824561403,
          0.8771929824561403,
          0.8771929824561403,
          0.8771929824561403,
          0.8771929824561403,
          0.8771929824561403,
          0.8771929824561403,
          0.8771929824561403,
          0.8771929824561403,
          0.8771929824561403,
          0.8771929824561403,
          0.8771929824561403,
          0.8771929824561403,
          0.8771929824561403,
          0.8771929824561403,
          0.8771929824561403,
          0.8771929824561403,
          0.8771929824561403,
          0.8771929824561403,
          0.8771929824561403,
          0.8771929824561403,
          0.8771929824561403,
          0.8771929824561403,
          0.8771929824561403,
          0.8771929824561403,
          0.8771929824561403,
          0.8771929824561403,
          0.8771929824561403,
          0.8771929824561403,
          0.8771929824561403,
          0.8771929824561403,
          0.8771929824561403,
          0.8771929824561403,
          0.8771929824561403,
          0.8771929824561403,
          0.8771929824561403,
          0.8771929824561403,
          0.8771929824561403,
          0.8771929824561403,
          0.8771929824561403,
          0.8771929824561403,
          0.8771929824561403,
          0.8771929824561403,
          0.8771929824561403,
          0.8771929824561403,
          0.8771929824561403,
          0.8771929824561403,
          0.8771929824561403,
          0.8771929824561403,
          0.8771929824561403,
          0.8771929824561403,
          0.8771929824561403,
          0.8771929824561403,
          0.8771929824561403,
          0.8771929824561403,
          0.8771929824561403,
          0.8771929824561403,
          0.8771929824561403,
          0.8771929824561403,
          0.8771929824561403,
          0.8771929824561403,
          0.8771929824561403,
          0.8771929824561403,
          0.8771929824561403,
          0.8771929824561403,
          0.8771929824561403,
          0.8771929824561403,
          0.8771929824561403,
          0.8771929824561403,
          0.8771929824561403,
          0.8771929824561403,
          0.8771929824561403,
          0.8771929824561403,
          0.8771929824561403,
          0.8771929824561403,
          0.8771929824561403,
          0.8771929824561403,
          0.8771929824561403,
          0.8771929824561403,
          0.8771929824561403,
          0.8771929824561403,
          0.8771929824561403,
          0.8771929824561403,
          0.8771929824561403,
          0.8771929824561403,
          0.8771929824561403,
          0.8771929824561403,
          0.8771929824561403,
          0.8771929824561403,
          0.8771929824561403,
          0.8771929824561403,
          0.8771929824561403,
          0.8771929824561403,
          0.8771929824561403,
          0.8771929824561403,
          0.8771929824561403,
          0.8771929824561403,
          0.8771929824561403,
          0.8771929824561403,
          0.8771929824561403,
          0.8771929824561403,
          0.8771929824561403,
          0.8771929824561403,
          0.8771929824561403,
          0.8771929824561403,
          0.8771929824561403,
          0.8771929824561403,
          0.8771929824561403,
          0.8771929824561403,
          0.8771929824561403,
          0.8771929824561403,
          0.8771929824561403,
          0.8771929824561403,
          0.8771929824561403
         ],
         "yaxis": "y",
         "type": "scatter"
        }
       ],
       "layout": {
        "template": {
         "data": {
          "histogram2dcontour": [
           {
            "type": "histogram2dcontour",
            "colorbar": {
             "outlinewidth": 0,
             "ticks": ""
            },
            "colorscale": [
             [
              0.0,
              "#0d0887"
             ],
             [
              0.1111111111111111,
              "#46039f"
             ],
             [
              0.2222222222222222,
              "#7201a8"
             ],
             [
              0.3333333333333333,
              "#9c179e"
             ],
             [
              0.4444444444444444,
              "#bd3786"
             ],
             [
              0.5555555555555556,
              "#d8576b"
             ],
             [
              0.6666666666666666,
              "#ed7953"
             ],
             [
              0.7777777777777778,
              "#fb9f3a"
             ],
             [
              0.8888888888888888,
              "#fdca26"
             ],
             [
              1.0,
              "#f0f921"
             ]
            ]
           }
          ],
          "choropleth": [
           {
            "type": "choropleth",
            "colorbar": {
             "outlinewidth": 0,
             "ticks": ""
            }
           }
          ],
          "histogram2d": [
           {
            "type": "histogram2d",
            "colorbar": {
             "outlinewidth": 0,
             "ticks": ""
            },
            "colorscale": [
             [
              0.0,
              "#0d0887"
             ],
             [
              0.1111111111111111,
              "#46039f"
             ],
             [
              0.2222222222222222,
              "#7201a8"
             ],
             [
              0.3333333333333333,
              "#9c179e"
             ],
             [
              0.4444444444444444,
              "#bd3786"
             ],
             [
              0.5555555555555556,
              "#d8576b"
             ],
             [
              0.6666666666666666,
              "#ed7953"
             ],
             [
              0.7777777777777778,
              "#fb9f3a"
             ],
             [
              0.8888888888888888,
              "#fdca26"
             ],
             [
              1.0,
              "#f0f921"
             ]
            ]
           }
          ],
          "heatmap": [
           {
            "type": "heatmap",
            "colorbar": {
             "outlinewidth": 0,
             "ticks": ""
            },
            "colorscale": [
             [
              0.0,
              "#0d0887"
             ],
             [
              0.1111111111111111,
              "#46039f"
             ],
             [
              0.2222222222222222,
              "#7201a8"
             ],
             [
              0.3333333333333333,
              "#9c179e"
             ],
             [
              0.4444444444444444,
              "#bd3786"
             ],
             [
              0.5555555555555556,
              "#d8576b"
             ],
             [
              0.6666666666666666,
              "#ed7953"
             ],
             [
              0.7777777777777778,
              "#fb9f3a"
             ],
             [
              0.8888888888888888,
              "#fdca26"
             ],
             [
              1.0,
              "#f0f921"
             ]
            ]
           }
          ],
          "heatmapgl": [
           {
            "type": "heatmapgl",
            "colorbar": {
             "outlinewidth": 0,
             "ticks": ""
            },
            "colorscale": [
             [
              0.0,
              "#0d0887"
             ],
             [
              0.1111111111111111,
              "#46039f"
             ],
             [
              0.2222222222222222,
              "#7201a8"
             ],
             [
              0.3333333333333333,
              "#9c179e"
             ],
             [
              0.4444444444444444,
              "#bd3786"
             ],
             [
              0.5555555555555556,
              "#d8576b"
             ],
             [
              0.6666666666666666,
              "#ed7953"
             ],
             [
              0.7777777777777778,
              "#fb9f3a"
             ],
             [
              0.8888888888888888,
              "#fdca26"
             ],
             [
              1.0,
              "#f0f921"
             ]
            ]
           }
          ],
          "contourcarpet": [
           {
            "type": "contourcarpet",
            "colorbar": {
             "outlinewidth": 0,
             "ticks": ""
            }
           }
          ],
          "contour": [
           {
            "type": "contour",
            "colorbar": {
             "outlinewidth": 0,
             "ticks": ""
            },
            "colorscale": [
             [
              0.0,
              "#0d0887"
             ],
             [
              0.1111111111111111,
              "#46039f"
             ],
             [
              0.2222222222222222,
              "#7201a8"
             ],
             [
              0.3333333333333333,
              "#9c179e"
             ],
             [
              0.4444444444444444,
              "#bd3786"
             ],
             [
              0.5555555555555556,
              "#d8576b"
             ],
             [
              0.6666666666666666,
              "#ed7953"
             ],
             [
              0.7777777777777778,
              "#fb9f3a"
             ],
             [
              0.8888888888888888,
              "#fdca26"
             ],
             [
              1.0,
              "#f0f921"
             ]
            ]
           }
          ],
          "surface": [
           {
            "type": "surface",
            "colorbar": {
             "outlinewidth": 0,
             "ticks": ""
            },
            "colorscale": [
             [
              0.0,
              "#0d0887"
             ],
             [
              0.1111111111111111,
              "#46039f"
             ],
             [
              0.2222222222222222,
              "#7201a8"
             ],
             [
              0.3333333333333333,
              "#9c179e"
             ],
             [
              0.4444444444444444,
              "#bd3786"
             ],
             [
              0.5555555555555556,
              "#d8576b"
             ],
             [
              0.6666666666666666,
              "#ed7953"
             ],
             [
              0.7777777777777778,
              "#fb9f3a"
             ],
             [
              0.8888888888888888,
              "#fdca26"
             ],
             [
              1.0,
              "#f0f921"
             ]
            ]
           }
          ],
          "mesh3d": [
           {
            "type": "mesh3d",
            "colorbar": {
             "outlinewidth": 0,
             "ticks": ""
            }
           }
          ],
          "scatter": [
           {
            "fillpattern": {
             "fillmode": "overlay",
             "size": 10,
             "solidity": 0.2
            },
            "type": "scatter"
           }
          ],
          "parcoords": [
           {
            "type": "parcoords",
            "line": {
             "colorbar": {
              "outlinewidth": 0,
              "ticks": ""
             }
            }
           }
          ],
          "scatterpolargl": [
           {
            "type": "scatterpolargl",
            "marker": {
             "colorbar": {
              "outlinewidth": 0,
              "ticks": ""
             }
            }
           }
          ],
          "bar": [
           {
            "error_x": {
             "color": "#2a3f5f"
            },
            "error_y": {
             "color": "#2a3f5f"
            },
            "marker": {
             "line": {
              "color": "#E5ECF6",
              "width": 0.5
             },
             "pattern": {
              "fillmode": "overlay",
              "size": 10,
              "solidity": 0.2
             }
            },
            "type": "bar"
           }
          ],
          "scattergeo": [
           {
            "type": "scattergeo",
            "marker": {
             "colorbar": {
              "outlinewidth": 0,
              "ticks": ""
             }
            }
           }
          ],
          "scatterpolar": [
           {
            "type": "scatterpolar",
            "marker": {
             "colorbar": {
              "outlinewidth": 0,
              "ticks": ""
             }
            }
           }
          ],
          "histogram": [
           {
            "marker": {
             "pattern": {
              "fillmode": "overlay",
              "size": 10,
              "solidity": 0.2
             }
            },
            "type": "histogram"
           }
          ],
          "scattergl": [
           {
            "type": "scattergl",
            "marker": {
             "colorbar": {
              "outlinewidth": 0,
              "ticks": ""
             }
            }
           }
          ],
          "scatter3d": [
           {
            "type": "scatter3d",
            "line": {
             "colorbar": {
              "outlinewidth": 0,
              "ticks": ""
             }
            },
            "marker": {
             "colorbar": {
              "outlinewidth": 0,
              "ticks": ""
             }
            }
           }
          ],
          "scattermapbox": [
           {
            "type": "scattermapbox",
            "marker": {
             "colorbar": {
              "outlinewidth": 0,
              "ticks": ""
             }
            }
           }
          ],
          "scatterternary": [
           {
            "type": "scatterternary",
            "marker": {
             "colorbar": {
              "outlinewidth": 0,
              "ticks": ""
             }
            }
           }
          ],
          "scattercarpet": [
           {
            "type": "scattercarpet",
            "marker": {
             "colorbar": {
              "outlinewidth": 0,
              "ticks": ""
             }
            }
           }
          ],
          "carpet": [
           {
            "aaxis": {
             "endlinecolor": "#2a3f5f",
             "gridcolor": "white",
             "linecolor": "white",
             "minorgridcolor": "white",
             "startlinecolor": "#2a3f5f"
            },
            "baxis": {
             "endlinecolor": "#2a3f5f",
             "gridcolor": "white",
             "linecolor": "white",
             "minorgridcolor": "white",
             "startlinecolor": "#2a3f5f"
            },
            "type": "carpet"
           }
          ],
          "table": [
           {
            "cells": {
             "fill": {
              "color": "#EBF0F8"
             },
             "line": {
              "color": "white"
             }
            },
            "header": {
             "fill": {
              "color": "#C8D4E3"
             },
             "line": {
              "color": "white"
             }
            },
            "type": "table"
           }
          ],
          "barpolar": [
           {
            "marker": {
             "line": {
              "color": "#E5ECF6",
              "width": 0.5
             },
             "pattern": {
              "fillmode": "overlay",
              "size": 10,
              "solidity": 0.2
             }
            },
            "type": "barpolar"
           }
          ],
          "pie": [
           {
            "automargin": true,
            "type": "pie"
           }
          ]
         },
         "layout": {
          "autotypenumbers": "strict",
          "colorway": [
           "#636efa",
           "#EF553B",
           "#00cc96",
           "#ab63fa",
           "#FFA15A",
           "#19d3f3",
           "#FF6692",
           "#B6E880",
           "#FF97FF",
           "#FECB52"
          ],
          "font": {
           "color": "#2a3f5f"
          },
          "hovermode": "closest",
          "hoverlabel": {
           "align": "left"
          },
          "paper_bgcolor": "white",
          "plot_bgcolor": "#E5ECF6",
          "polar": {
           "bgcolor": "#E5ECF6",
           "angularaxis": {
            "gridcolor": "white",
            "linecolor": "white",
            "ticks": ""
           },
           "radialaxis": {
            "gridcolor": "white",
            "linecolor": "white",
            "ticks": ""
           }
          },
          "ternary": {
           "bgcolor": "#E5ECF6",
           "aaxis": {
            "gridcolor": "white",
            "linecolor": "white",
            "ticks": ""
           },
           "baxis": {
            "gridcolor": "white",
            "linecolor": "white",
            "ticks": ""
           },
           "caxis": {
            "gridcolor": "white",
            "linecolor": "white",
            "ticks": ""
           }
          },
          "coloraxis": {
           "colorbar": {
            "outlinewidth": 0,
            "ticks": ""
           }
          },
          "colorscale": {
           "sequential": [
            [
             0.0,
             "#0d0887"
            ],
            [
             0.1111111111111111,
             "#46039f"
            ],
            [
             0.2222222222222222,
             "#7201a8"
            ],
            [
             0.3333333333333333,
             "#9c179e"
            ],
            [
             0.4444444444444444,
             "#bd3786"
            ],
            [
             0.5555555555555556,
             "#d8576b"
            ],
            [
             0.6666666666666666,
             "#ed7953"
            ],
            [
             0.7777777777777778,
             "#fb9f3a"
            ],
            [
             0.8888888888888888,
             "#fdca26"
            ],
            [
             1.0,
             "#f0f921"
            ]
           ],
           "sequentialminus": [
            [
             0.0,
             "#0d0887"
            ],
            [
             0.1111111111111111,
             "#46039f"
            ],
            [
             0.2222222222222222,
             "#7201a8"
            ],
            [
             0.3333333333333333,
             "#9c179e"
            ],
            [
             0.4444444444444444,
             "#bd3786"
            ],
            [
             0.5555555555555556,
             "#d8576b"
            ],
            [
             0.6666666666666666,
             "#ed7953"
            ],
            [
             0.7777777777777778,
             "#fb9f3a"
            ],
            [
             0.8888888888888888,
             "#fdca26"
            ],
            [
             1.0,
             "#f0f921"
            ]
           ],
           "diverging": [
            [
             0,
             "#8e0152"
            ],
            [
             0.1,
             "#c51b7d"
            ],
            [
             0.2,
             "#de77ae"
            ],
            [
             0.3,
             "#f1b6da"
            ],
            [
             0.4,
             "#fde0ef"
            ],
            [
             0.5,
             "#f7f7f7"
            ],
            [
             0.6,
             "#e6f5d0"
            ],
            [
             0.7,
             "#b8e186"
            ],
            [
             0.8,
             "#7fbc41"
            ],
            [
             0.9,
             "#4d9221"
            ],
            [
             1,
             "#276419"
            ]
           ]
          },
          "xaxis": {
           "gridcolor": "white",
           "linecolor": "white",
           "ticks": "",
           "title": {
            "standoff": 15
           },
           "zerolinecolor": "white",
           "automargin": true,
           "zerolinewidth": 2
          },
          "yaxis": {
           "gridcolor": "white",
           "linecolor": "white",
           "ticks": "",
           "title": {
            "standoff": 15
           },
           "zerolinecolor": "white",
           "automargin": true,
           "zerolinewidth": 2
          },
          "scene": {
           "xaxis": {
            "backgroundcolor": "#E5ECF6",
            "gridcolor": "white",
            "linecolor": "white",
            "showbackground": true,
            "ticks": "",
            "zerolinecolor": "white",
            "gridwidth": 2
           },
           "yaxis": {
            "backgroundcolor": "#E5ECF6",
            "gridcolor": "white",
            "linecolor": "white",
            "showbackground": true,
            "ticks": "",
            "zerolinecolor": "white",
            "gridwidth": 2
           },
           "zaxis": {
            "backgroundcolor": "#E5ECF6",
            "gridcolor": "white",
            "linecolor": "white",
            "showbackground": true,
            "ticks": "",
            "zerolinecolor": "white",
            "gridwidth": 2
           }
          },
          "shapedefaults": {
           "line": {
            "color": "#2a3f5f"
           }
          },
          "annotationdefaults": {
           "arrowcolor": "#2a3f5f",
           "arrowhead": 0,
           "arrowwidth": 1
          },
          "geo": {
           "bgcolor": "white",
           "landcolor": "#E5ECF6",
           "subunitcolor": "white",
           "showland": true,
           "showlakes": true,
           "lakecolor": "white"
          },
          "title": {
           "x": 0.05
          },
          "mapbox": {
           "style": "light"
          }
         }
        },
        "xaxis": {
         "anchor": "y",
         "domain": [
          0.0,
          1.0
         ],
         "title": {
          "text": "C_value"
         }
        },
        "yaxis": {
         "anchor": "x",
         "domain": [
          0.0,
          1.0
         ],
         "title": {
          "text": "score"
         }
        },
        "legend": {
         "title": {
          "text": "type_score"
         },
         "tracegroupgap": 0
        },
        "margin": {
         "t": 60
        },
        "title": {
         "text": "Зависимость обучающей и тестовой точностей от параметра регуляризации C"
        }
       },
       "config": {
        "plotlyServerURL": "https://plot.ly"
       }
      },
      "text/html": "<div>                            <div id=\"0983c3ea-2097-4c89-9c69-43cd9382d1bb\" class=\"plotly-graph-div\" style=\"height:525px; width:100%;\"></div>            <script type=\"text/javascript\">                require([\"plotly\"], function(Plotly) {                    window.PLOTLYENV=window.PLOTLYENV || {};                                    if (document.getElementById(\"0983c3ea-2097-4c89-9c69-43cd9382d1bb\")) {                    Plotly.newPlot(                        \"0983c3ea-2097-4c89-9c69-43cd9382d1bb\",                        [{\"hovertemplate\":\"type_score=train_score<br>C_value=%{x}<br>score=%{y}<extra></extra>\",\"legendgroup\":\"train_score\",\"line\":{\"color\":\"#636efa\",\"dash\":\"solid\"},\"marker\":{\"symbol\":\"circle\"},\"mode\":\"lines\",\"name\":\"train_score\",\"orientation\":\"v\",\"showlegend\":true,\"x\":[0.0001,0.002103807615230461,0.004107615230460922,0.006111422845691383,0.008115230460921843,0.010119038076152304,0.012122845691382765,0.014126653306613227,0.016130460921843687,0.018134268537074148,0.020138076152304608,0.02214188376753507,0.02414569138276553,0.02614949899799599,0.028153306613226455,0.030157114228456915,0.03216092184368738,0.03416472945891784,0.0361685370741483,0.03817234468937876,0.04017615230460922,0.04217995991983969,0.04418376753507015,0.04618757515030061,0.04819138276553107,0.05019519038076153,0.05219899799599199,0.05420280561122245,0.056206613226452914,0.058210420841683375,0.060214228456913835,0.062218036072144295,0.06422184368737476,0.06622565130260522,0.06822945891783568,0.07023326653306614,0.0722370741482966,0.07424088176352706,0.07624468937875752,0.07824849699398798,0.08025230460921844,0.08225611222444891,0.08425991983967937,0.08626372745490983,0.08826753507014029,0.09027134268537075,0.09227515030060121,0.09427895791583167,0.09628276553106213,0.09828657314629259,0.10029038076152305,0.10229418837675351,0.10429799599198397,0.10630180360721443,0.10830561122244489,0.11030941883767535,0.11231322645290583,0.11431703406813629,0.11632084168336675,0.1183246492985972,0.12032845691382767,0.12233226452905813,0.12433607214428859,0.12633987975951902,0.1283436873747495,0.13034749498997997,0.1323513026052104,0.1343551102204409,0.13635891783567133,0.1383627254509018,0.14036653306613225,0.14237034068136273,0.14437414829659317,0.14637795591182365,0.1483817635270541,0.15038557114228457,0.15238937875751501,0.1543931863727455,0.15639699398797594,0.1584008016032064,0.16040460921843686,0.16240841683366733,0.1644122244488978,0.16641603206412825,0.16841983967935872,0.17042364729458917,0.17242745490981964,0.1744312625250501,0.17643507014028056,0.178438877755511,0.18044268537074148,0.18244649298597193,0.1844503006012024,0.18645410821643285,0.18845791583166333,0.19046172344689377,0.19246553106212425,0.19446933867735472,0.19647314629258517,0.19847695390781564,0.20048076152304609,0.20248456913827656,0.204488376753507,0.20649218436873748,0.20849599198396793,0.2104997995991984,0.21250360721442885,0.21450741482965932,0.21651122244488977,0.21851503006012024,0.2205188376753507,0.22252264529058116,0.22452645290581164,0.22653026052104208,0.22853406813627256,0.230537875751503,0.23254168336673348,0.23454549098196392,0.2365492985971944,0.23855310621242484,0.24055691382765532,0.24256072144288576,0.24456452905811624,0.24656833667334668,0.24857214428857716,0.2505759519038076,0.25257975951903805,0.25458356713426855,0.256587374749499,0.25859118236472944,0.26059498997995995,0.2625987975951904,0.26460260521042084,0.2666064128256513,0.2686102204408818,0.27061402805611223,0.2726178356713427,0.2746216432865731,0.2766254509018036,0.2786292585170341,0.2806330661322645,0.28263687374749497,0.28464068136272547,0.2866444889779559,0.28864829659318636,0.29065210420841686,0.2926559118236473,0.29465971943887775,0.2966635270541082,0.2986673346693387,0.30067114228456915,0.3026749498997996,0.30467875751503004,0.30668256513026054,0.308686372745491,0.31069018036072144,0.3126939879759519,0.3146977955911824,0.31670160320641283,0.3187054108216433,0.3207092184368737,0.3227130260521042,0.32471683366733467,0.3267206412825651,0.3287244488977956,0.33072825651302606,0.3327320641282565,0.33473587174348696,0.33673967935871746,0.3387434869739479,0.34074729458917835,0.3427511022044088,0.3447549098196393,0.34675871743486975,0.3487625250501002,0.35076633266533064,0.35277014028056114,0.3547739478957916,0.35677775551102203,0.35878156312625253,0.360785370741483,0.3627891783567134,0.3647929859719439,0.3667967935871744,0.3688006012024048,0.37080440881763527,0.3728082164328657,0.3748120240480962,0.37681583166332666,0.3788196392785571,0.38082344689378755,0.38282725450901806,0.3848310621242485,0.38683486973947895,0.38883867735470945,0.3908424849699399,0.39284629258517034,0.3948501002004008,0.3968539078156313,0.39885771543086174,0.4008615230460922,0.40286533066132263,0.40486913827655313,0.4068729458917836,0.408876753507014,0.41088056112224447,0.41288436873747497,0.4148881763527054,0.41689198396793586,0.41889579158316637,0.4208995991983968,0.42290340681362726,0.4249072144288577,0.4269110220440882,0.42891482965931865,0.4309186372745491,0.43292244488977955,0.43492625250501005,0.4369300601202405,0.43893386773547094,0.4409376753507014,0.4429414829659319,0.44494529058116233,0.4469490981963928,0.4489529058116233,0.45095671342685373,0.4529605210420842,0.4549643286573146,0.4569681362725451,0.45897194388777557,0.460975751503006,0.46297955911823646,0.46498336673346696,0.4669871743486974,0.46899098196392786,0.4709947895791583,0.4729985971943888,0.47500240480961925,0.4770062124248497,0.47901002004008014,0.48101382765531064,0.4830176352705411,0.48502144288577154,0.48702525050100204,0.4890290581162325,0.49103286573146293,0.4930366733466934,0.4950404809619239,0.4970442885771543,0.49904809619238477,0.5010519038076152,0.5030557114228457,0.5050595190380761,0.5070633266533067,0.5090671342685371,0.5110709418837676,0.513074749498998,0.5150785571142285,0.5170823647294589,0.5190861723446893,0.5210899799599199,0.5230937875751503,0.5250975951903808,0.5271014028056112,0.5291052104208417,0.5311090180360721,0.5331128256513026,0.535116633266533,0.5371204408817636,0.539124248496994,0.5411280561122245,0.5431318637274549,0.5451356713426854,0.5471394789579158,0.5491432865731463,0.5511470941883768,0.5531509018036073,0.5551547094188377,0.5571585170340682,0.5591623246492986,0.561166132264529,0.5631699398797595,0.5651737474949899,0.5671775551102205,0.569181362725451,0.5711851703406814,0.5731889779559118,0.5751927855711423,0.5771965931863727,0.5792004008016032,0.5812042084168337,0.5832080160320642,0.5852118236472946,0.5872156312625251,0.5892194388777555,0.591223246492986,0.5932270541082164,0.5952308617234469,0.5972346693386774,0.5992384769539079,0.6012422845691383,0.6032460921843688,0.6052498997995992,0.6072537074148296,0.6092575150300601,0.6112613226452907,0.6132651302605211,0.6152689378757515,0.617272745490982,0.6192765531062124,0.6212803607214429,0.6232841683366733,0.6252879759519038,0.6272917835671343,0.6292955911823648,0.6312993987975952,0.6333032064128257,0.6353070140280561,0.6373108216432866,0.639314629258517,0.6413184368737475,0.643322244488978,0.6453260521042085,0.6473298597194389,0.6493336673346694,0.6513374749498998,0.6533412825651302,0.6553450901803607,0.6573488977955912,0.6593527054108217,0.6613565130260521,0.6633603206412826,0.665364128256513,0.6673679358717435,0.6693717434869739,0.6713755511022044,0.6733793587174349,0.6753831663326654,0.6773869739478958,0.6793907815631263,0.6813945891783567,0.6833983967935872,0.6854022044088176,0.6874060120240482,0.6894098196392786,0.6914136272545091,0.6934174348697395,0.69542124248497,0.6974250501002004,0.6994288577154308,0.7014326653306613,0.7034364729458918,0.7054402805611223,0.7074440881763527,0.7094478957915832,0.7114517034068136,0.7134555110220441,0.7154593186372745,0.7174631262525051,0.7194669338677355,0.721470741482966,0.7234745490981964,0.7254783567134269,0.7274821643286573,0.7294859719438878,0.7314897795591182,0.7334935871743488,0.7354973947895792,0.7375012024048097,0.7395050100200401,0.7415088176352705,0.743512625250501,0.7455164328657314,0.747520240480962,0.7495240480961924,0.7515278557114229,0.7535316633266533,0.7555354709418838,0.7575392785571142,0.7595430861723447,0.7615468937875751,0.7635507014028057,0.7655545090180361,0.7675583166332666,0.769562124248497,0.7715659318637275,0.7735697394789579,0.7755735470941884,0.7775773547094189,0.7795811623246494,0.7815849699398798,0.7835887775551102,0.7855925851703407,0.7875963927855711,0.7896002004008016,0.791604008016032,0.7936078156312626,0.795611623246493,0.7976154308617235,0.7996192384769539,0.8016230460921844,0.8036268537074148,0.8056306613226453,0.8076344689378758,0.8096382765531063,0.8116420841683367,0.8136458917835672,0.8156496993987976,0.8176535070140281,0.8196573146292585,0.821661122244489,0.8236649298597195,0.82566873747495,0.8276725450901804,0.8296763527054108,0.8316801603206413,0.8336839679358717,0.8356877755511022,0.8376915831663327,0.8396953907815632,0.8416991983967936,0.8437030060120241,0.8457068136272545,0.847710621242485,0.8497144288577154,0.8517182364729459,0.8537220440881764,0.8557258517034069,0.8577296593186373,0.8597334669338678,0.8617372745490982,0.8637410821643287,0.8657448897795591,0.8677486973947897,0.8697525050100201,0.8717563126252506,0.873760120240481,0.8757639278557114,0.8777677354709419,0.8797715430861723,0.8817753507014028,0.8837791583166333,0.8857829659318638,0.8877867735470942,0.8897905811623247,0.8917943887775551,0.8937981963927856,0.895802004008016,0.8978058116232466,0.899809619238477,0.9018134268537075,0.9038172344689379,0.9058210420841684,0.9078248496993988,0.9098286573146293,0.9118324649298597,0.9138362725450903,0.9158400801603207,0.9178438877755511,0.9198476953907816,0.921851503006012,0.9238553106212425,0.9258591182364729,0.9278629258517034,0.9298667334669339,0.9318705410821644,0.9338743486973948,0.9358781563126253,0.9378819639278557,0.9398857715430862,0.9418895791583166,0.9438933867735472,0.9458971943887776,0.9479010020040081,0.9499048096192385,0.951908617234469,0.9539124248496994,0.9559162324649298,0.9579200400801603,0.9599238476953909,0.9619276553106213,0.9639314629258517,0.9659352705410822,0.9679390781563126,0.9699428857715431,0.9719466933867735,0.9739505010020041,0.9759543086172345,0.977958116232465,0.9799619238476954,0.9819657314629259,0.9839695390781563,0.9859733466933868,0.9879771543086172,0.9899809619238478,0.9919847695390782,0.9939885771543087,0.9959923847695391,0.9979961923847696,1.0],\"xaxis\":\"x\",\"y\":[0.6373626373626373,0.6373626373626373,0.6373626373626373,0.6373626373626373,0.6373626373626373,0.6945054945054945,0.7736263736263737,0.8197802197802198,0.8505494505494505,0.8725274725274725,0.8703296703296703,0.8725274725274725,0.8725274725274725,0.8769230769230769,0.8791208791208791,0.8791208791208791,0.8835164835164835,0.8857142857142857,0.8879120879120879,0.8879120879120879,0.8901098901098901,0.8923076923076924,0.8923076923076924,0.8923076923076924,0.8945054945054945,0.8945054945054945,0.8967032967032967,0.8989010989010989,0.8989010989010989,0.8989010989010989,0.9010989010989011,0.9010989010989011,0.9010989010989011,0.9010989010989011,0.9010989010989011,0.9010989010989011,0.9010989010989011,0.9010989010989011,0.9032967032967033,0.9032967032967033,0.9032967032967033,0.9032967032967033,0.9032967032967033,0.9032967032967033,0.9054945054945055,0.9054945054945055,0.9054945054945055,0.9054945054945055,0.9054945054945055,0.9054945054945055,0.9054945054945055,0.9054945054945055,0.9054945054945055,0.9054945054945055,0.9054945054945055,0.9054945054945055,0.9054945054945055,0.9054945054945055,0.9054945054945055,0.9054945054945055,0.9076923076923077,0.9076923076923077,0.9076923076923077,0.9076923076923077,0.9054945054945055,0.9076923076923077,0.9076923076923077,0.9076923076923077,0.9076923076923077,0.9076923076923077,0.9098901098901099,0.9120879120879121,0.9120879120879121,0.9120879120879121,0.9142857142857143,0.9142857142857143,0.9142857142857143,0.9142857142857143,0.9142857142857143,0.9142857142857143,0.9142857142857143,0.9142857142857143,0.9142857142857143,0.9142857142857143,0.9142857142857143,0.9142857142857143,0.9142857142857143,0.9142857142857143,0.9142857142857143,0.9142857142857143,0.9142857142857143,0.9142857142857143,0.9142857142857143,0.9142857142857143,0.9142857142857143,0.9142857142857143,0.9142857142857143,0.9142857142857143,0.9142857142857143,0.9142857142857143,0.9142857142857143,0.9142857142857143,0.9142857142857143,0.9142857142857143,0.9142857142857143,0.9142857142857143,0.9142857142857143,0.9142857142857143,0.9142857142857143,0.9142857142857143,0.9142857142857143,0.9142857142857143,0.9142857142857143,0.9142857142857143,0.9142857142857143,0.9142857142857143,0.9142857142857143,0.9142857142857143,0.9142857142857143,0.9142857142857143,0.9142857142857143,0.9142857142857143,0.9142857142857143,0.9142857142857143,0.9142857142857143,0.9142857142857143,0.9142857142857143,0.9142857142857143,0.9142857142857143,0.9142857142857143,0.9120879120879121,0.9120879120879121,0.9098901098901099,0.9098901098901099,0.9098901098901099,0.9098901098901099,0.9076923076923077,0.9076923076923077,0.9076923076923077,0.9076923076923077,0.9076923076923077,0.9076923076923077,0.9076923076923077,0.9076923076923077,0.9076923076923077,0.9076923076923077,0.9076923076923077,0.9076923076923077,0.9076923076923077,0.9076923076923077,0.9076923076923077,0.9076923076923077,0.9076923076923077,0.9076923076923077,0.9076923076923077,0.9076923076923077,0.9076923076923077,0.9076923076923077,0.9076923076923077,0.9076923076923077,0.9076923076923077,0.9098901098901099,0.9098901098901099,0.9098901098901099,0.9098901098901099,0.9098901098901099,0.9098901098901099,0.9098901098901099,0.9098901098901099,0.9098901098901099,0.9098901098901099,0.9098901098901099,0.9098901098901099,0.9098901098901099,0.9098901098901099,0.9098901098901099,0.9120879120879121,0.9120879120879121,0.9098901098901099,0.9098901098901099,0.9098901098901099,0.9098901098901099,0.9098901098901099,0.9076923076923077,0.9076923076923077,0.9076923076923077,0.9076923076923077,0.9076923076923077,0.9076923076923077,0.9076923076923077,0.9076923076923077,0.9076923076923077,0.9076923076923077,0.9076923076923077,0.9076923076923077,0.9076923076923077,0.9076923076923077,0.9076923076923077,0.9098901098901099,0.9098901098901099,0.9098901098901099,0.9098901098901099,0.9098901098901099,0.9098901098901099,0.9098901098901099,0.9098901098901099,0.9076923076923077,0.9076923076923077,0.9076923076923077,0.9076923076923077,0.9076923076923077,0.9076923076923077,0.9076923076923077,0.9076923076923077,0.9076923076923077,0.9076923076923077,0.9076923076923077,0.9076923076923077,0.9076923076923077,0.9076923076923077,0.9076923076923077,0.9076923076923077,0.9076923076923077,0.9076923076923077,0.9076923076923077,0.9076923076923077,0.9076923076923077,0.9076923076923077,0.9098901098901099,0.9098901098901099,0.9098901098901099,0.9098901098901099,0.9098901098901099,0.9076923076923077,0.9076923076923077,0.9076923076923077,0.9076923076923077,0.9076923076923077,0.9098901098901099,0.9098901098901099,0.9098901098901099,0.9098901098901099,0.9098901098901099,0.9098901098901099,0.9098901098901099,0.9098901098901099,0.9076923076923077,0.9076923076923077,0.9076923076923077,0.9076923076923077,0.9076923076923077,0.9098901098901099,0.9098901098901099,0.9098901098901099,0.9098901098901099,0.9098901098901099,0.9098901098901099,0.9098901098901099,0.9098901098901099,0.9098901098901099,0.9098901098901099,0.9098901098901099,0.9098901098901099,0.9098901098901099,0.9098901098901099,0.9098901098901099,0.9098901098901099,0.9098901098901099,0.9098901098901099,0.9098901098901099,0.9098901098901099,0.9098901098901099,0.9098901098901099,0.9098901098901099,0.9098901098901099,0.9098901098901099,0.9098901098901099,0.9098901098901099,0.9098901098901099,0.9098901098901099,0.9098901098901099,0.9098901098901099,0.9098901098901099,0.9098901098901099,0.9098901098901099,0.9098901098901099,0.9098901098901099,0.9076923076923077,0.9076923076923077,0.9076923076923077,0.9076923076923077,0.9076923076923077,0.9098901098901099,0.9098901098901099,0.9098901098901099,0.9098901098901099,0.9098901098901099,0.9098901098901099,0.9098901098901099,0.9098901098901099,0.9098901098901099,0.9098901098901099,0.9098901098901099,0.9098901098901099,0.9098901098901099,0.9098901098901099,0.9098901098901099,0.9098901098901099,0.9098901098901099,0.9098901098901099,0.9098901098901099,0.9098901098901099,0.9098901098901099,0.9098901098901099,0.9098901098901099,0.9098901098901099,0.9098901098901099,0.9098901098901099,0.9098901098901099,0.9098901098901099,0.9076923076923077,0.9076923076923077,0.9076923076923077,0.9076923076923077,0.9076923076923077,0.9076923076923077,0.9076923076923077,0.9076923076923077,0.9076923076923077,0.9076923076923077,0.9076923076923077,0.9076923076923077,0.9076923076923077,0.9076923076923077,0.9076923076923077,0.9076923076923077,0.9076923076923077,0.9076923076923077,0.9076923076923077,0.9076923076923077,0.9076923076923077,0.9076923076923077,0.9076923076923077,0.9076923076923077,0.9076923076923077,0.9076923076923077,0.9076923076923077,0.9098901098901099,0.9098901098901099,0.9098901098901099,0.9098901098901099,0.9098901098901099,0.9098901098901099,0.9098901098901099,0.9098901098901099,0.9098901098901099,0.9098901098901099,0.9098901098901099,0.9098901098901099,0.9098901098901099,0.9098901098901099,0.9098901098901099,0.9098901098901099,0.9098901098901099,0.9098901098901099,0.9098901098901099,0.9098901098901099,0.9098901098901099,0.9098901098901099,0.9098901098901099,0.9098901098901099,0.9098901098901099,0.9098901098901099,0.9098901098901099,0.9098901098901099,0.9098901098901099,0.9120879120879121,0.9120879120879121,0.9120879120879121,0.9120879120879121,0.9120879120879121,0.9120879120879121,0.9120879120879121,0.9120879120879121,0.9120879120879121,0.9120879120879121,0.9120879120879121,0.9120879120879121,0.9120879120879121,0.9120879120879121,0.9120879120879121,0.9120879120879121,0.9120879120879121,0.9120879120879121,0.9120879120879121,0.9120879120879121,0.9120879120879121,0.9120879120879121,0.9120879120879121,0.9120879120879121,0.9120879120879121,0.9120879120879121,0.9120879120879121,0.9120879120879121,0.9120879120879121,0.9120879120879121,0.9120879120879121,0.9120879120879121,0.9098901098901099,0.9098901098901099,0.9098901098901099,0.9098901098901099,0.9098901098901099,0.9120879120879121,0.9142857142857143,0.9142857142857143,0.9142857142857143,0.9142857142857143,0.9142857142857143,0.9142857142857143,0.9142857142857143,0.9142857142857143,0.9142857142857143,0.9142857142857143,0.9120879120879121,0.9120879120879121,0.9120879120879121,0.9120879120879121,0.9120879120879121,0.9120879120879121,0.9120879120879121,0.9120879120879121,0.9120879120879121,0.9120879120879121,0.9120879120879121,0.9120879120879121,0.9120879120879121,0.9120879120879121,0.9120879120879121,0.9120879120879121,0.9120879120879121,0.9120879120879121,0.9120879120879121,0.9120879120879121,0.9120879120879121,0.9120879120879121,0.9120879120879121,0.9120879120879121,0.9120879120879121,0.9120879120879121,0.9120879120879121,0.9120879120879121,0.9120879120879121,0.9120879120879121,0.9120879120879121,0.9120879120879121,0.9120879120879121,0.9120879120879121,0.9120879120879121,0.9120879120879121,0.9120879120879121,0.9120879120879121,0.9120879120879121,0.9120879120879121,0.9120879120879121,0.9120879120879121,0.9120879120879121,0.9120879120879121,0.9120879120879121,0.9120879120879121,0.9120879120879121,0.9120879120879121,0.9120879120879121,0.9120879120879121,0.9120879120879121,0.9120879120879121,0.9120879120879121,0.9120879120879121,0.9120879120879121,0.9120879120879121,0.9120879120879121,0.9120879120879121,0.9120879120879121,0.9120879120879121,0.9120879120879121,0.9120879120879121,0.9120879120879121,0.9120879120879121,0.9120879120879121,0.9120879120879121,0.9120879120879121,0.9120879120879121,0.9120879120879121,0.9120879120879121,0.9120879120879121,0.9120879120879121,0.9098901098901099,0.9098901098901099,0.9098901098901099,0.9098901098901099],\"yaxis\":\"y\",\"type\":\"scatter\"},{\"hovertemplate\":\"type_score=test_score<br>C_value=%{x}<br>score=%{y}<extra></extra>\",\"legendgroup\":\"test_score\",\"line\":{\"color\":\"#EF553B\",\"dash\":\"solid\"},\"marker\":{\"symbol\":\"circle\"},\"mode\":\"lines\",\"name\":\"test_score\",\"orientation\":\"v\",\"showlegend\":true,\"x\":[0.0001,0.002103807615230461,0.004107615230460922,0.006111422845691383,0.008115230460921843,0.010119038076152304,0.012122845691382765,0.014126653306613227,0.016130460921843687,0.018134268537074148,0.020138076152304608,0.02214188376753507,0.02414569138276553,0.02614949899799599,0.028153306613226455,0.030157114228456915,0.03216092184368738,0.03416472945891784,0.0361685370741483,0.03817234468937876,0.04017615230460922,0.04217995991983969,0.04418376753507015,0.04618757515030061,0.04819138276553107,0.05019519038076153,0.05219899799599199,0.05420280561122245,0.056206613226452914,0.058210420841683375,0.060214228456913835,0.062218036072144295,0.06422184368737476,0.06622565130260522,0.06822945891783568,0.07023326653306614,0.0722370741482966,0.07424088176352706,0.07624468937875752,0.07824849699398798,0.08025230460921844,0.08225611222444891,0.08425991983967937,0.08626372745490983,0.08826753507014029,0.09027134268537075,0.09227515030060121,0.09427895791583167,0.09628276553106213,0.09828657314629259,0.10029038076152305,0.10229418837675351,0.10429799599198397,0.10630180360721443,0.10830561122244489,0.11030941883767535,0.11231322645290583,0.11431703406813629,0.11632084168336675,0.1183246492985972,0.12032845691382767,0.12233226452905813,0.12433607214428859,0.12633987975951902,0.1283436873747495,0.13034749498997997,0.1323513026052104,0.1343551102204409,0.13635891783567133,0.1383627254509018,0.14036653306613225,0.14237034068136273,0.14437414829659317,0.14637795591182365,0.1483817635270541,0.15038557114228457,0.15238937875751501,0.1543931863727455,0.15639699398797594,0.1584008016032064,0.16040460921843686,0.16240841683366733,0.1644122244488978,0.16641603206412825,0.16841983967935872,0.17042364729458917,0.17242745490981964,0.1744312625250501,0.17643507014028056,0.178438877755511,0.18044268537074148,0.18244649298597193,0.1844503006012024,0.18645410821643285,0.18845791583166333,0.19046172344689377,0.19246553106212425,0.19446933867735472,0.19647314629258517,0.19847695390781564,0.20048076152304609,0.20248456913827656,0.204488376753507,0.20649218436873748,0.20849599198396793,0.2104997995991984,0.21250360721442885,0.21450741482965932,0.21651122244488977,0.21851503006012024,0.2205188376753507,0.22252264529058116,0.22452645290581164,0.22653026052104208,0.22853406813627256,0.230537875751503,0.23254168336673348,0.23454549098196392,0.2365492985971944,0.23855310621242484,0.24055691382765532,0.24256072144288576,0.24456452905811624,0.24656833667334668,0.24857214428857716,0.2505759519038076,0.25257975951903805,0.25458356713426855,0.256587374749499,0.25859118236472944,0.26059498997995995,0.2625987975951904,0.26460260521042084,0.2666064128256513,0.2686102204408818,0.27061402805611223,0.2726178356713427,0.2746216432865731,0.2766254509018036,0.2786292585170341,0.2806330661322645,0.28263687374749497,0.28464068136272547,0.2866444889779559,0.28864829659318636,0.29065210420841686,0.2926559118236473,0.29465971943887775,0.2966635270541082,0.2986673346693387,0.30067114228456915,0.3026749498997996,0.30467875751503004,0.30668256513026054,0.308686372745491,0.31069018036072144,0.3126939879759519,0.3146977955911824,0.31670160320641283,0.3187054108216433,0.3207092184368737,0.3227130260521042,0.32471683366733467,0.3267206412825651,0.3287244488977956,0.33072825651302606,0.3327320641282565,0.33473587174348696,0.33673967935871746,0.3387434869739479,0.34074729458917835,0.3427511022044088,0.3447549098196393,0.34675871743486975,0.3487625250501002,0.35076633266533064,0.35277014028056114,0.3547739478957916,0.35677775551102203,0.35878156312625253,0.360785370741483,0.3627891783567134,0.3647929859719439,0.3667967935871744,0.3688006012024048,0.37080440881763527,0.3728082164328657,0.3748120240480962,0.37681583166332666,0.3788196392785571,0.38082344689378755,0.38282725450901806,0.3848310621242485,0.38683486973947895,0.38883867735470945,0.3908424849699399,0.39284629258517034,0.3948501002004008,0.3968539078156313,0.39885771543086174,0.4008615230460922,0.40286533066132263,0.40486913827655313,0.4068729458917836,0.408876753507014,0.41088056112224447,0.41288436873747497,0.4148881763527054,0.41689198396793586,0.41889579158316637,0.4208995991983968,0.42290340681362726,0.4249072144288577,0.4269110220440882,0.42891482965931865,0.4309186372745491,0.43292244488977955,0.43492625250501005,0.4369300601202405,0.43893386773547094,0.4409376753507014,0.4429414829659319,0.44494529058116233,0.4469490981963928,0.4489529058116233,0.45095671342685373,0.4529605210420842,0.4549643286573146,0.4569681362725451,0.45897194388777557,0.460975751503006,0.46297955911823646,0.46498336673346696,0.4669871743486974,0.46899098196392786,0.4709947895791583,0.4729985971943888,0.47500240480961925,0.4770062124248497,0.47901002004008014,0.48101382765531064,0.4830176352705411,0.48502144288577154,0.48702525050100204,0.4890290581162325,0.49103286573146293,0.4930366733466934,0.4950404809619239,0.4970442885771543,0.49904809619238477,0.5010519038076152,0.5030557114228457,0.5050595190380761,0.5070633266533067,0.5090671342685371,0.5110709418837676,0.513074749498998,0.5150785571142285,0.5170823647294589,0.5190861723446893,0.5210899799599199,0.5230937875751503,0.5250975951903808,0.5271014028056112,0.5291052104208417,0.5311090180360721,0.5331128256513026,0.535116633266533,0.5371204408817636,0.539124248496994,0.5411280561122245,0.5431318637274549,0.5451356713426854,0.5471394789579158,0.5491432865731463,0.5511470941883768,0.5531509018036073,0.5551547094188377,0.5571585170340682,0.5591623246492986,0.561166132264529,0.5631699398797595,0.5651737474949899,0.5671775551102205,0.569181362725451,0.5711851703406814,0.5731889779559118,0.5751927855711423,0.5771965931863727,0.5792004008016032,0.5812042084168337,0.5832080160320642,0.5852118236472946,0.5872156312625251,0.5892194388777555,0.591223246492986,0.5932270541082164,0.5952308617234469,0.5972346693386774,0.5992384769539079,0.6012422845691383,0.6032460921843688,0.6052498997995992,0.6072537074148296,0.6092575150300601,0.6112613226452907,0.6132651302605211,0.6152689378757515,0.617272745490982,0.6192765531062124,0.6212803607214429,0.6232841683366733,0.6252879759519038,0.6272917835671343,0.6292955911823648,0.6312993987975952,0.6333032064128257,0.6353070140280561,0.6373108216432866,0.639314629258517,0.6413184368737475,0.643322244488978,0.6453260521042085,0.6473298597194389,0.6493336673346694,0.6513374749498998,0.6533412825651302,0.6553450901803607,0.6573488977955912,0.6593527054108217,0.6613565130260521,0.6633603206412826,0.665364128256513,0.6673679358717435,0.6693717434869739,0.6713755511022044,0.6733793587174349,0.6753831663326654,0.6773869739478958,0.6793907815631263,0.6813945891783567,0.6833983967935872,0.6854022044088176,0.6874060120240482,0.6894098196392786,0.6914136272545091,0.6934174348697395,0.69542124248497,0.6974250501002004,0.6994288577154308,0.7014326653306613,0.7034364729458918,0.7054402805611223,0.7074440881763527,0.7094478957915832,0.7114517034068136,0.7134555110220441,0.7154593186372745,0.7174631262525051,0.7194669338677355,0.721470741482966,0.7234745490981964,0.7254783567134269,0.7274821643286573,0.7294859719438878,0.7314897795591182,0.7334935871743488,0.7354973947895792,0.7375012024048097,0.7395050100200401,0.7415088176352705,0.743512625250501,0.7455164328657314,0.747520240480962,0.7495240480961924,0.7515278557114229,0.7535316633266533,0.7555354709418838,0.7575392785571142,0.7595430861723447,0.7615468937875751,0.7635507014028057,0.7655545090180361,0.7675583166332666,0.769562124248497,0.7715659318637275,0.7735697394789579,0.7755735470941884,0.7775773547094189,0.7795811623246494,0.7815849699398798,0.7835887775551102,0.7855925851703407,0.7875963927855711,0.7896002004008016,0.791604008016032,0.7936078156312626,0.795611623246493,0.7976154308617235,0.7996192384769539,0.8016230460921844,0.8036268537074148,0.8056306613226453,0.8076344689378758,0.8096382765531063,0.8116420841683367,0.8136458917835672,0.8156496993987976,0.8176535070140281,0.8196573146292585,0.821661122244489,0.8236649298597195,0.82566873747495,0.8276725450901804,0.8296763527054108,0.8316801603206413,0.8336839679358717,0.8356877755511022,0.8376915831663327,0.8396953907815632,0.8416991983967936,0.8437030060120241,0.8457068136272545,0.847710621242485,0.8497144288577154,0.8517182364729459,0.8537220440881764,0.8557258517034069,0.8577296593186373,0.8597334669338678,0.8617372745490982,0.8637410821643287,0.8657448897795591,0.8677486973947897,0.8697525050100201,0.8717563126252506,0.873760120240481,0.8757639278557114,0.8777677354709419,0.8797715430861723,0.8817753507014028,0.8837791583166333,0.8857829659318638,0.8877867735470942,0.8897905811623247,0.8917943887775551,0.8937981963927856,0.895802004008016,0.8978058116232466,0.899809619238477,0.9018134268537075,0.9038172344689379,0.9058210420841684,0.9078248496993988,0.9098286573146293,0.9118324649298597,0.9138362725450903,0.9158400801603207,0.9178438877755511,0.9198476953907816,0.921851503006012,0.9238553106212425,0.9258591182364729,0.9278629258517034,0.9298667334669339,0.9318705410821644,0.9338743486973948,0.9358781563126253,0.9378819639278557,0.9398857715430862,0.9418895791583166,0.9438933867735472,0.9458971943887776,0.9479010020040081,0.9499048096192385,0.951908617234469,0.9539124248496994,0.9559162324649298,0.9579200400801603,0.9599238476953909,0.9619276553106213,0.9639314629258517,0.9659352705410822,0.9679390781563126,0.9699428857715431,0.9719466933867735,0.9739505010020041,0.9759543086172345,0.977958116232465,0.9799619238476954,0.9819657314629259,0.9839695390781563,0.9859733466933868,0.9879771543086172,0.9899809619238478,0.9919847695390782,0.9939885771543087,0.9959923847695391,0.9979961923847696,1.0],\"xaxis\":\"x\",\"y\":[0.5877192982456141,0.5877192982456141,0.5877192982456141,0.5877192982456141,0.5877192982456141,0.6666666666666666,0.7543859649122807,0.8070175438596491,0.8333333333333334,0.8508771929824561,0.868421052631579,0.868421052631579,0.868421052631579,0.868421052631579,0.868421052631579,0.8771929824561403,0.8771929824561403,0.8771929824561403,0.8771929824561403,0.8771929824561403,0.8771929824561403,0.8771929824561403,0.8771929824561403,0.8771929824561403,0.868421052631579,0.868421052631579,0.868421052631579,0.868421052631579,0.868421052631579,0.868421052631579,0.868421052631579,0.868421052631579,0.868421052631579,0.8596491228070176,0.8596491228070176,0.8596491228070176,0.8596491228070176,0.8596491228070176,0.8596491228070176,0.8596491228070176,0.8596491228070176,0.8596491228070176,0.8596491228070176,0.8596491228070176,0.8596491228070176,0.8596491228070176,0.8596491228070176,0.8596491228070176,0.8596491228070176,0.8596491228070176,0.8596491228070176,0.8596491228070176,0.8596491228070176,0.8596491228070176,0.8596491228070176,0.8596491228070176,0.8596491228070176,0.8596491228070176,0.8596491228070176,0.8596491228070176,0.8596491228070176,0.8596491228070176,0.8596491228070176,0.8596491228070176,0.8596491228070176,0.8596491228070176,0.8596491228070176,0.8596491228070176,0.8596491228070176,0.8596491228070176,0.8596491228070176,0.868421052631579,0.868421052631579,0.868421052631579,0.868421052631579,0.868421052631579,0.868421052631579,0.868421052631579,0.868421052631579,0.8596491228070176,0.8596491228070176,0.868421052631579,0.868421052631579,0.868421052631579,0.868421052631579,0.868421052631579,0.868421052631579,0.868421052631579,0.868421052631579,0.868421052631579,0.868421052631579,0.868421052631579,0.868421052631579,0.868421052631579,0.868421052631579,0.868421052631579,0.868421052631579,0.868421052631579,0.868421052631579,0.868421052631579,0.868421052631579,0.868421052631579,0.868421052631579,0.868421052631579,0.868421052631579,0.868421052631579,0.868421052631579,0.868421052631579,0.868421052631579,0.8596491228070176,0.8596491228070176,0.8596491228070176,0.8596491228070176,0.8596491228070176,0.8596491228070176,0.8596491228070176,0.8596491228070176,0.8596491228070176,0.8596491228070176,0.8596491228070176,0.8596491228070176,0.868421052631579,0.868421052631579,0.868421052631579,0.868421052631579,0.8596491228070176,0.8596491228070176,0.868421052631579,0.8771929824561403,0.8771929824561403,0.8771929824561403,0.8771929824561403,0.8771929824561403,0.8771929824561403,0.8771929824561403,0.8771929824561403,0.8771929824561403,0.8771929824561403,0.8771929824561403,0.8771929824561403,0.8771929824561403,0.8771929824561403,0.8771929824561403,0.8771929824561403,0.8771929824561403,0.8771929824561403,0.8771929824561403,0.8771929824561403,0.8771929824561403,0.8771929824561403,0.8771929824561403,0.8771929824561403,0.8771929824561403,0.8771929824561403,0.8771929824561403,0.8771929824561403,0.8771929824561403,0.8771929824561403,0.8771929824561403,0.8771929824561403,0.8771929824561403,0.8771929824561403,0.8771929824561403,0.8771929824561403,0.8771929824561403,0.8771929824561403,0.8771929824561403,0.8771929824561403,0.8771929824561403,0.8771929824561403,0.8771929824561403,0.8771929824561403,0.8771929824561403,0.8771929824561403,0.8771929824561403,0.8771929824561403,0.8771929824561403,0.8771929824561403,0.8771929824561403,0.8771929824561403,0.8771929824561403,0.8771929824561403,0.8771929824561403,0.8771929824561403,0.8771929824561403,0.8771929824561403,0.8771929824561403,0.8771929824561403,0.8771929824561403,0.8771929824561403,0.8771929824561403,0.8771929824561403,0.8771929824561403,0.8771929824561403,0.8771929824561403,0.8771929824561403,0.8771929824561403,0.8771929824561403,0.8771929824561403,0.8771929824561403,0.8771929824561403,0.8771929824561403,0.8771929824561403,0.8771929824561403,0.8771929824561403,0.8771929824561403,0.8771929824561403,0.8771929824561403,0.8771929824561403,0.8771929824561403,0.8771929824561403,0.8771929824561403,0.8771929824561403,0.8771929824561403,0.8771929824561403,0.8771929824561403,0.8771929824561403,0.8771929824561403,0.8771929824561403,0.8771929824561403,0.8771929824561403,0.8771929824561403,0.8771929824561403,0.8771929824561403,0.8771929824561403,0.8771929824561403,0.8771929824561403,0.8771929824561403,0.8771929824561403,0.8771929824561403,0.8771929824561403,0.8771929824561403,0.8771929824561403,0.8771929824561403,0.8771929824561403,0.8771929824561403,0.8771929824561403,0.8771929824561403,0.8771929824561403,0.8771929824561403,0.8771929824561403,0.8771929824561403,0.8771929824561403,0.8771929824561403,0.8771929824561403,0.8771929824561403,0.8771929824561403,0.8771929824561403,0.8771929824561403,0.8771929824561403,0.8771929824561403,0.8771929824561403,0.8771929824561403,0.8771929824561403,0.8771929824561403,0.8771929824561403,0.8771929824561403,0.8771929824561403,0.8771929824561403,0.8771929824561403,0.8771929824561403,0.8771929824561403,0.8771929824561403,0.8771929824561403,0.8771929824561403,0.8771929824561403,0.8771929824561403,0.8771929824561403,0.8771929824561403,0.8771929824561403,0.8771929824561403,0.8771929824561403,0.8771929824561403,0.8771929824561403,0.8771929824561403,0.8771929824561403,0.8771929824561403,0.8771929824561403,0.8771929824561403,0.8771929824561403,0.8771929824561403,0.8771929824561403,0.8771929824561403,0.8771929824561403,0.8771929824561403,0.8771929824561403,0.8771929824561403,0.8771929824561403,0.8771929824561403,0.8771929824561403,0.8771929824561403,0.8771929824561403,0.8771929824561403,0.8771929824561403,0.8771929824561403,0.8771929824561403,0.8771929824561403,0.8771929824561403,0.8771929824561403,0.8771929824561403,0.8771929824561403,0.8771929824561403,0.8771929824561403,0.8771929824561403,0.8771929824561403,0.8771929824561403,0.8771929824561403,0.8771929824561403,0.8771929824561403,0.8771929824561403,0.8771929824561403,0.8771929824561403,0.8771929824561403,0.8771929824561403,0.8771929824561403,0.8771929824561403,0.8771929824561403,0.8771929824561403,0.8771929824561403,0.8771929824561403,0.8771929824561403,0.8771929824561403,0.8771929824561403,0.8771929824561403,0.8771929824561403,0.8771929824561403,0.8771929824561403,0.8771929824561403,0.8771929824561403,0.8771929824561403,0.8771929824561403,0.8771929824561403,0.8771929824561403,0.8771929824561403,0.8771929824561403,0.8771929824561403,0.8771929824561403,0.8771929824561403,0.8771929824561403,0.8771929824561403,0.8771929824561403,0.8771929824561403,0.8771929824561403,0.8771929824561403,0.8771929824561403,0.8771929824561403,0.8771929824561403,0.8771929824561403,0.8771929824561403,0.8771929824561403,0.8771929824561403,0.8771929824561403,0.8771929824561403,0.8771929824561403,0.8771929824561403,0.8771929824561403,0.8771929824561403,0.8771929824561403,0.8771929824561403,0.8771929824561403,0.8771929824561403,0.8771929824561403,0.8771929824561403,0.8771929824561403,0.8771929824561403,0.8771929824561403,0.8771929824561403,0.8771929824561403,0.8771929824561403,0.8771929824561403,0.8771929824561403,0.8771929824561403,0.8771929824561403,0.8771929824561403,0.8771929824561403,0.8771929824561403,0.8771929824561403,0.8771929824561403,0.8771929824561403,0.8771929824561403,0.8771929824561403,0.8771929824561403,0.8771929824561403,0.8771929824561403,0.8771929824561403,0.8771929824561403,0.8771929824561403,0.8771929824561403,0.8771929824561403,0.8771929824561403,0.8771929824561403,0.8771929824561403,0.8771929824561403,0.8771929824561403,0.8771929824561403,0.8771929824561403,0.8771929824561403,0.8771929824561403,0.8771929824561403,0.8771929824561403,0.8771929824561403,0.8771929824561403,0.8771929824561403,0.8771929824561403,0.8771929824561403,0.8771929824561403,0.8771929824561403,0.8771929824561403,0.8771929824561403,0.8771929824561403,0.8771929824561403,0.8771929824561403,0.8771929824561403,0.8771929824561403,0.8771929824561403,0.8771929824561403,0.8771929824561403,0.8771929824561403,0.8771929824561403,0.8771929824561403,0.8771929824561403,0.8771929824561403,0.8771929824561403,0.8771929824561403,0.8771929824561403,0.8771929824561403,0.8771929824561403,0.8771929824561403,0.8771929824561403,0.8771929824561403,0.8771929824561403,0.8771929824561403,0.8771929824561403,0.8771929824561403,0.8771929824561403,0.8771929824561403,0.8771929824561403,0.8771929824561403,0.8771929824561403,0.8771929824561403,0.8771929824561403,0.8771929824561403,0.8771929824561403,0.8771929824561403,0.8771929824561403,0.8771929824561403,0.8771929824561403,0.8771929824561403,0.8771929824561403,0.8771929824561403,0.8771929824561403,0.8771929824561403,0.8771929824561403,0.8771929824561403,0.8771929824561403,0.8771929824561403,0.8771929824561403,0.8771929824561403,0.8771929824561403,0.8771929824561403,0.8771929824561403,0.8771929824561403,0.8771929824561403,0.8771929824561403,0.8771929824561403,0.8771929824561403,0.8771929824561403,0.8771929824561403,0.8771929824561403,0.8771929824561403,0.8771929824561403,0.8771929824561403,0.8771929824561403,0.8771929824561403,0.8771929824561403,0.8771929824561403,0.8771929824561403,0.8771929824561403,0.8771929824561403,0.8771929824561403,0.8771929824561403,0.8771929824561403,0.8771929824561403,0.8771929824561403,0.8771929824561403,0.8771929824561403,0.8771929824561403,0.8771929824561403,0.8771929824561403,0.8771929824561403,0.8771929824561403,0.8771929824561403,0.8771929824561403,0.8771929824561403,0.8771929824561403,0.8771929824561403,0.8771929824561403,0.8771929824561403,0.8771929824561403,0.8771929824561403],\"yaxis\":\"y\",\"type\":\"scatter\"}],                        {\"template\":{\"data\":{\"histogram2dcontour\":[{\"type\":\"histogram2dcontour\",\"colorbar\":{\"outlinewidth\":0,\"ticks\":\"\"},\"colorscale\":[[0.0,\"#0d0887\"],[0.1111111111111111,\"#46039f\"],[0.2222222222222222,\"#7201a8\"],[0.3333333333333333,\"#9c179e\"],[0.4444444444444444,\"#bd3786\"],[0.5555555555555556,\"#d8576b\"],[0.6666666666666666,\"#ed7953\"],[0.7777777777777778,\"#fb9f3a\"],[0.8888888888888888,\"#fdca26\"],[1.0,\"#f0f921\"]]}],\"choropleth\":[{\"type\":\"choropleth\",\"colorbar\":{\"outlinewidth\":0,\"ticks\":\"\"}}],\"histogram2d\":[{\"type\":\"histogram2d\",\"colorbar\":{\"outlinewidth\":0,\"ticks\":\"\"},\"colorscale\":[[0.0,\"#0d0887\"],[0.1111111111111111,\"#46039f\"],[0.2222222222222222,\"#7201a8\"],[0.3333333333333333,\"#9c179e\"],[0.4444444444444444,\"#bd3786\"],[0.5555555555555556,\"#d8576b\"],[0.6666666666666666,\"#ed7953\"],[0.7777777777777778,\"#fb9f3a\"],[0.8888888888888888,\"#fdca26\"],[1.0,\"#f0f921\"]]}],\"heatmap\":[{\"type\":\"heatmap\",\"colorbar\":{\"outlinewidth\":0,\"ticks\":\"\"},\"colorscale\":[[0.0,\"#0d0887\"],[0.1111111111111111,\"#46039f\"],[0.2222222222222222,\"#7201a8\"],[0.3333333333333333,\"#9c179e\"],[0.4444444444444444,\"#bd3786\"],[0.5555555555555556,\"#d8576b\"],[0.6666666666666666,\"#ed7953\"],[0.7777777777777778,\"#fb9f3a\"],[0.8888888888888888,\"#fdca26\"],[1.0,\"#f0f921\"]]}],\"heatmapgl\":[{\"type\":\"heatmapgl\",\"colorbar\":{\"outlinewidth\":0,\"ticks\":\"\"},\"colorscale\":[[0.0,\"#0d0887\"],[0.1111111111111111,\"#46039f\"],[0.2222222222222222,\"#7201a8\"],[0.3333333333333333,\"#9c179e\"],[0.4444444444444444,\"#bd3786\"],[0.5555555555555556,\"#d8576b\"],[0.6666666666666666,\"#ed7953\"],[0.7777777777777778,\"#fb9f3a\"],[0.8888888888888888,\"#fdca26\"],[1.0,\"#f0f921\"]]}],\"contourcarpet\":[{\"type\":\"contourcarpet\",\"colorbar\":{\"outlinewidth\":0,\"ticks\":\"\"}}],\"contour\":[{\"type\":\"contour\",\"colorbar\":{\"outlinewidth\":0,\"ticks\":\"\"},\"colorscale\":[[0.0,\"#0d0887\"],[0.1111111111111111,\"#46039f\"],[0.2222222222222222,\"#7201a8\"],[0.3333333333333333,\"#9c179e\"],[0.4444444444444444,\"#bd3786\"],[0.5555555555555556,\"#d8576b\"],[0.6666666666666666,\"#ed7953\"],[0.7777777777777778,\"#fb9f3a\"],[0.8888888888888888,\"#fdca26\"],[1.0,\"#f0f921\"]]}],\"surface\":[{\"type\":\"surface\",\"colorbar\":{\"outlinewidth\":0,\"ticks\":\"\"},\"colorscale\":[[0.0,\"#0d0887\"],[0.1111111111111111,\"#46039f\"],[0.2222222222222222,\"#7201a8\"],[0.3333333333333333,\"#9c179e\"],[0.4444444444444444,\"#bd3786\"],[0.5555555555555556,\"#d8576b\"],[0.6666666666666666,\"#ed7953\"],[0.7777777777777778,\"#fb9f3a\"],[0.8888888888888888,\"#fdca26\"],[1.0,\"#f0f921\"]]}],\"mesh3d\":[{\"type\":\"mesh3d\",\"colorbar\":{\"outlinewidth\":0,\"ticks\":\"\"}}],\"scatter\":[{\"fillpattern\":{\"fillmode\":\"overlay\",\"size\":10,\"solidity\":0.2},\"type\":\"scatter\"}],\"parcoords\":[{\"type\":\"parcoords\",\"line\":{\"colorbar\":{\"outlinewidth\":0,\"ticks\":\"\"}}}],\"scatterpolargl\":[{\"type\":\"scatterpolargl\",\"marker\":{\"colorbar\":{\"outlinewidth\":0,\"ticks\":\"\"}}}],\"bar\":[{\"error_x\":{\"color\":\"#2a3f5f\"},\"error_y\":{\"color\":\"#2a3f5f\"},\"marker\":{\"line\":{\"color\":\"#E5ECF6\",\"width\":0.5},\"pattern\":{\"fillmode\":\"overlay\",\"size\":10,\"solidity\":0.2}},\"type\":\"bar\"}],\"scattergeo\":[{\"type\":\"scattergeo\",\"marker\":{\"colorbar\":{\"outlinewidth\":0,\"ticks\":\"\"}}}],\"scatterpolar\":[{\"type\":\"scatterpolar\",\"marker\":{\"colorbar\":{\"outlinewidth\":0,\"ticks\":\"\"}}}],\"histogram\":[{\"marker\":{\"pattern\":{\"fillmode\":\"overlay\",\"size\":10,\"solidity\":0.2}},\"type\":\"histogram\"}],\"scattergl\":[{\"type\":\"scattergl\",\"marker\":{\"colorbar\":{\"outlinewidth\":0,\"ticks\":\"\"}}}],\"scatter3d\":[{\"type\":\"scatter3d\",\"line\":{\"colorbar\":{\"outlinewidth\":0,\"ticks\":\"\"}},\"marker\":{\"colorbar\":{\"outlinewidth\":0,\"ticks\":\"\"}}}],\"scattermapbox\":[{\"type\":\"scattermapbox\",\"marker\":{\"colorbar\":{\"outlinewidth\":0,\"ticks\":\"\"}}}],\"scatterternary\":[{\"type\":\"scatterternary\",\"marker\":{\"colorbar\":{\"outlinewidth\":0,\"ticks\":\"\"}}}],\"scattercarpet\":[{\"type\":\"scattercarpet\",\"marker\":{\"colorbar\":{\"outlinewidth\":0,\"ticks\":\"\"}}}],\"carpet\":[{\"aaxis\":{\"endlinecolor\":\"#2a3f5f\",\"gridcolor\":\"white\",\"linecolor\":\"white\",\"minorgridcolor\":\"white\",\"startlinecolor\":\"#2a3f5f\"},\"baxis\":{\"endlinecolor\":\"#2a3f5f\",\"gridcolor\":\"white\",\"linecolor\":\"white\",\"minorgridcolor\":\"white\",\"startlinecolor\":\"#2a3f5f\"},\"type\":\"carpet\"}],\"table\":[{\"cells\":{\"fill\":{\"color\":\"#EBF0F8\"},\"line\":{\"color\":\"white\"}},\"header\":{\"fill\":{\"color\":\"#C8D4E3\"},\"line\":{\"color\":\"white\"}},\"type\":\"table\"}],\"barpolar\":[{\"marker\":{\"line\":{\"color\":\"#E5ECF6\",\"width\":0.5},\"pattern\":{\"fillmode\":\"overlay\",\"size\":10,\"solidity\":0.2}},\"type\":\"barpolar\"}],\"pie\":[{\"automargin\":true,\"type\":\"pie\"}]},\"layout\":{\"autotypenumbers\":\"strict\",\"colorway\":[\"#636efa\",\"#EF553B\",\"#00cc96\",\"#ab63fa\",\"#FFA15A\",\"#19d3f3\",\"#FF6692\",\"#B6E880\",\"#FF97FF\",\"#FECB52\"],\"font\":{\"color\":\"#2a3f5f\"},\"hovermode\":\"closest\",\"hoverlabel\":{\"align\":\"left\"},\"paper_bgcolor\":\"white\",\"plot_bgcolor\":\"#E5ECF6\",\"polar\":{\"bgcolor\":\"#E5ECF6\",\"angularaxis\":{\"gridcolor\":\"white\",\"linecolor\":\"white\",\"ticks\":\"\"},\"radialaxis\":{\"gridcolor\":\"white\",\"linecolor\":\"white\",\"ticks\":\"\"}},\"ternary\":{\"bgcolor\":\"#E5ECF6\",\"aaxis\":{\"gridcolor\":\"white\",\"linecolor\":\"white\",\"ticks\":\"\"},\"baxis\":{\"gridcolor\":\"white\",\"linecolor\":\"white\",\"ticks\":\"\"},\"caxis\":{\"gridcolor\":\"white\",\"linecolor\":\"white\",\"ticks\":\"\"}},\"coloraxis\":{\"colorbar\":{\"outlinewidth\":0,\"ticks\":\"\"}},\"colorscale\":{\"sequential\":[[0.0,\"#0d0887\"],[0.1111111111111111,\"#46039f\"],[0.2222222222222222,\"#7201a8\"],[0.3333333333333333,\"#9c179e\"],[0.4444444444444444,\"#bd3786\"],[0.5555555555555556,\"#d8576b\"],[0.6666666666666666,\"#ed7953\"],[0.7777777777777778,\"#fb9f3a\"],[0.8888888888888888,\"#fdca26\"],[1.0,\"#f0f921\"]],\"sequentialminus\":[[0.0,\"#0d0887\"],[0.1111111111111111,\"#46039f\"],[0.2222222222222222,\"#7201a8\"],[0.3333333333333333,\"#9c179e\"],[0.4444444444444444,\"#bd3786\"],[0.5555555555555556,\"#d8576b\"],[0.6666666666666666,\"#ed7953\"],[0.7777777777777778,\"#fb9f3a\"],[0.8888888888888888,\"#fdca26\"],[1.0,\"#f0f921\"]],\"diverging\":[[0,\"#8e0152\"],[0.1,\"#c51b7d\"],[0.2,\"#de77ae\"],[0.3,\"#f1b6da\"],[0.4,\"#fde0ef\"],[0.5,\"#f7f7f7\"],[0.6,\"#e6f5d0\"],[0.7,\"#b8e186\"],[0.8,\"#7fbc41\"],[0.9,\"#4d9221\"],[1,\"#276419\"]]},\"xaxis\":{\"gridcolor\":\"white\",\"linecolor\":\"white\",\"ticks\":\"\",\"title\":{\"standoff\":15},\"zerolinecolor\":\"white\",\"automargin\":true,\"zerolinewidth\":2},\"yaxis\":{\"gridcolor\":\"white\",\"linecolor\":\"white\",\"ticks\":\"\",\"title\":{\"standoff\":15},\"zerolinecolor\":\"white\",\"automargin\":true,\"zerolinewidth\":2},\"scene\":{\"xaxis\":{\"backgroundcolor\":\"#E5ECF6\",\"gridcolor\":\"white\",\"linecolor\":\"white\",\"showbackground\":true,\"ticks\":\"\",\"zerolinecolor\":\"white\",\"gridwidth\":2},\"yaxis\":{\"backgroundcolor\":\"#E5ECF6\",\"gridcolor\":\"white\",\"linecolor\":\"white\",\"showbackground\":true,\"ticks\":\"\",\"zerolinecolor\":\"white\",\"gridwidth\":2},\"zaxis\":{\"backgroundcolor\":\"#E5ECF6\",\"gridcolor\":\"white\",\"linecolor\":\"white\",\"showbackground\":true,\"ticks\":\"\",\"zerolinecolor\":\"white\",\"gridwidth\":2}},\"shapedefaults\":{\"line\":{\"color\":\"#2a3f5f\"}},\"annotationdefaults\":{\"arrowcolor\":\"#2a3f5f\",\"arrowhead\":0,\"arrowwidth\":1},\"geo\":{\"bgcolor\":\"white\",\"landcolor\":\"#E5ECF6\",\"subunitcolor\":\"white\",\"showland\":true,\"showlakes\":true,\"lakecolor\":\"white\"},\"title\":{\"x\":0.05},\"mapbox\":{\"style\":\"light\"}}},\"xaxis\":{\"anchor\":\"y\",\"domain\":[0.0,1.0],\"title\":{\"text\":\"C_value\"}},\"yaxis\":{\"anchor\":\"x\",\"domain\":[0.0,1.0],\"title\":{\"text\":\"score\"}},\"legend\":{\"title\":{\"text\":\"type_score\"},\"tracegroupgap\":0},\"margin\":{\"t\":60},\"title\":{\"text\":\"\\u0417\\u0430\\u0432\\u0438\\u0441\\u0438\\u043c\\u043e\\u0441\\u0442\\u044c \\u043e\\u0431\\u0443\\u0447\\u0430\\u044e\\u0449\\u0435\\u0439 \\u0438 \\u0442\\u0435\\u0441\\u0442\\u043e\\u0432\\u043e\\u0439 \\u0442\\u043e\\u0447\\u043d\\u043e\\u0441\\u0442\\u0435\\u0439 \\u043e\\u0442 \\u043f\\u0430\\u0440\\u0430\\u043c\\u0435\\u0442\\u0440\\u0430 \\u0440\\u0435\\u0433\\u0443\\u043b\\u044f\\u0440\\u0438\\u0437\\u0430\\u0446\\u0438\\u0438 C\"}},                        {\"responsive\": true}                    ).then(function(){\n                            \nvar gd = document.getElementById('0983c3ea-2097-4c89-9c69-43cd9382d1bb');\nvar x = new MutationObserver(function (mutations, observer) {{\n        var display = window.getComputedStyle(gd).display;\n        if (!display || display === 'none') {{\n            console.log([gd, 'removed!']);\n            Plotly.purge(gd);\n            observer.disconnect();\n        }}\n}});\n\n// Listen for the removal of the full notebook cells\nvar notebookContainer = gd.closest('#notebook-container');\nif (notebookContainer) {{\n    x.observe(notebookContainer, {childList: true});\n}}\n\n// Listen for the clearing of the current output cell\nvar outputEl = gd.closest('.output');\nif (outputEl) {{\n    x.observe(outputEl, {childList: true});\n}}\n\n                        })                };                });            </script>        </div>"
     },
     "metadata": {},
     "output_type": "display_data"
    }
   ],
   "source": [
    "fig = px.line(df, x='C_value', y='score', color='type_score')\n",
    "fig['layout'].update(title_text='Зависимость обучающей и тестовой точностей от параметра регуляризации C')\n",
    "fig.show()"
   ],
   "metadata": {
    "collapsed": false,
    "pycharm": {
     "name": "#%%\n"
    }
   }
  },
  {
   "cell_type": "code",
   "execution_count": 65,
   "outputs": [
    {
     "data": {
      "text/plain": "  0%|          | 0/50 [00:00<?, ?it/s]",
      "application/vnd.jupyter.widget-view+json": {
       "version_major": 2,
       "version_minor": 0,
       "model_id": "1629c951e93f40a4947dfbd68fecd4d5"
      }
     },
     "metadata": {},
     "output_type": "display_data"
    },
    {
     "data": {
      "text/plain": "0.8771929824561403"
     },
     "execution_count": 65,
     "metadata": {},
     "output_type": "execute_result"
    },
    {
     "data": {
      "text/plain": "<Figure size 432x288 with 1 Axes>",
      "image/png": "[encoded data removed]"
     },
     "metadata": {
      "needs_background": "light"
     },
     "output_type": "display_data"
    }
   ],
   "source": [
    "data = np.linspace(1, 1000000, 50)\n",
    "test_scores, train_scores = [], []\n",
    "\n",
    "for i in tqdm(data):\n",
    "    clf = SVC(C=i, kernel=\"rbf\")\n",
    "    clf.fit(x_train, y_train)\n",
    "    test_scores.append(clf.score(x_test, y_test))\n",
    "    train_scores.append(clf.score(x_train, y_train))\n",
    "\n",
    "ax = plt.axes()\n",
    "ax.plot(data, test_scores, label=\"test\")\n",
    "ax.plot(data, train_scores, label=\"train\")\n",
    "ax.set_xlabel('С')\n",
    "ax.set_ylabel('score')\n",
    "ax.set_ylim([0.75, 1])\n",
    "ax.legend()\n",
    "\n",
    "max(test_scores)"
   ],
   "metadata": {
    "collapsed": false,
    "pycharm": {
     "name": "#%%\n"
    }
   }
  },
  {
   "cell_type": "code",
   "execution_count": 66,
   "outputs": [
    {
     "data": {
      "text/plain": "           C_value   type_score     score\n0         1.000000  train_score  0.909890\n1     20409.142857  train_score  0.923077\n2     40817.285714  train_score  0.923077\n3     61225.428571  train_score  0.925275\n4     81633.571429  train_score  0.925275\n..             ...          ...       ...\n95   918367.428571   test_score  0.833333\n96   938775.571429   test_score  0.833333\n97   959183.714286   test_score  0.833333\n98   979591.857143   test_score  0.833333\n99  1000000.000000   test_score  0.842105\n\n[100 rows x 3 columns]",
      "text/html": "<div>\n<style scoped>\n    .dataframe tbody tr th:only-of-type {\n        vertical-align: middle;\n    }\n\n    .dataframe tbody tr th {\n        vertical-align: top;\n    }\n\n    .dataframe thead th {\n        text-align: right;\n    }\n</style>\n<table border=\"1\" class=\"dataframe\">\n  <thead>\n    <tr style=\"text-align: right;\">\n      <th></th>\n      <th>C_value</th>\n      <th>type_score</th>\n      <th>score</th>\n    </tr>\n  </thead>\n  <tbody>\n    <tr>\n      <th>0</th>\n      <td>1.000000</td>\n      <td>train_score</td>\n      <td>0.909890</td>\n    </tr>\n    <tr>\n      <th>1</th>\n      <td>20409.142857</td>\n      <td>train_score</td>\n      <td>0.923077</td>\n    </tr>\n    <tr>\n      <th>2</th>\n      <td>40817.285714</td>\n      <td>train_score</td>\n      <td>0.923077</td>\n    </tr>\n    <tr>\n      <th>3</th>\n      <td>61225.428571</td>\n      <td>train_score</td>\n      <td>0.925275</td>\n    </tr>\n    <tr>\n      <th>4</th>\n      <td>81633.571429</td>\n      <td>train_score</td>\n      <td>0.925275</td>\n    </tr>\n    <tr>\n      <th>...</th>\n      <td>...</td>\n      <td>...</td>\n      <td>...</td>\n    </tr>\n    <tr>\n      <th>95</th>\n      <td>918367.428571</td>\n      <td>test_score</td>\n      <td>0.833333</td>\n    </tr>\n    <tr>\n      <th>96</th>\n      <td>938775.571429</td>\n      <td>test_score</td>\n      <td>0.833333</td>\n    </tr>\n    <tr>\n      <th>97</th>\n      <td>959183.714286</td>\n      <td>test_score</td>\n      <td>0.833333</td>\n    </tr>\n    <tr>\n      <th>98</th>\n      <td>979591.857143</td>\n      <td>test_score</td>\n      <td>0.833333</td>\n    </tr>\n    <tr>\n      <th>99</th>\n      <td>1000000.000000</td>\n      <td>test_score</td>\n      <td>0.842105</td>\n    </tr>\n  </tbody>\n</table>\n<p>100 rows × 3 columns</p>\n</div>"
     },
     "execution_count": 66,
     "metadata": {},
     "output_type": "execute_result"
    }
   ],
   "source": [
    "df = pd.DataFrame()\n",
    "df['C_value'] = list(np.linspace(1, 1000000, 50)) + list(np.linspace(1, 1000000, 50))\n",
    "df['type_score'] = ['train_score' if ind <= 49 else 'test_score' for ind in range(100)]\n",
    "df['score'] = train_scores[:50] + test_scores\n",
    "df"
   ],
   "metadata": {
    "collapsed": false,
    "pycharm": {
     "name": "#%%\n"
    }
   }
  },
  {
   "cell_type": "code",
   "execution_count": 67,
   "outputs": [
    {
     "data": {
      "application/vnd.plotly.v1+json": {
       "data": [
        {
         "hovertemplate": "type_score=train_score<br>C_value=%{x}<br>score=%{y}<extra></extra>",
         "legendgroup": "train_score",
         "line": {
          "color": "#636efa",
          "dash": "solid"
         },
         "marker": {
          "symbol": "circle"
         },
         "mode": "lines",
         "name": "train_score",
         "orientation": "v",
         "showlegend": true,
         "x": [
          1.0,
          20409.14285714286,
          40817.28571428572,
          61225.42857142858,
          81633.57142857143,
          102041.71428571429,
          122449.85714285716,
          142858.0,
          163266.14285714287,
          183674.28571428574,
          204082.42857142858,
          224490.57142857145,
          244898.71428571432,
          265306.85714285716,
          285715.0,
          306123.1428571429,
          326531.28571428574,
          346939.4285714286,
          367347.5714285715,
          387755.7142857143,
          408163.85714285716,
          428572.00000000006,
          448980.1428571429,
          469388.28571428574,
          489796.42857142864,
          510204.5714285715,
          530612.7142857143,
          551020.8571428572,
          571429.0,
          591837.142857143,
          612245.2857142858,
          632653.4285714286,
          653061.5714285715,
          673469.7142857143,
          693877.8571428572,
          714286.0,
          734694.142857143,
          755102.2857142858,
          775510.4285714286,
          795918.5714285715,
          816326.7142857143,
          836734.8571428572,
          857143.0000000001,
          877551.142857143,
          897959.2857142858,
          918367.4285714286,
          938775.5714285715,
          959183.7142857143,
          979591.8571428573,
          1000000.0
         ],
         "xaxis": "x",
         "y": [
          0.9098901098901099,
          0.9230769230769231,
          0.9230769230769231,
          0.9252747252747253,
          0.9252747252747253,
          0.9230769230769231,
          0.9230769230769231,
          0.9208791208791208,
          0.9208791208791208,
          0.9208791208791208,
          0.9208791208791208,
          0.9208791208791208,
          0.9208791208791208,
          0.9230769230769231,
          0.9230769230769231,
          0.9230769230769231,
          0.9230769230769231,
          0.9230769230769231,
          0.9230769230769231,
          0.9230769230769231,
          0.9230769230769231,
          0.9230769230769231,
          0.9230769230769231,
          0.9230769230769231,
          0.9230769230769231,
          0.9230769230769231,
          0.9230769230769231,
          0.9230769230769231,
          0.9230769230769231,
          0.9230769230769231,
          0.9230769230769231,
          0.9230769230769231,
          0.9230769230769231,
          0.9208791208791208,
          0.9208791208791208,
          0.9208791208791208,
          0.9208791208791208,
          0.9208791208791208,
          0.9208791208791208,
          0.9208791208791208,
          0.9208791208791208,
          0.9208791208791208,
          0.9208791208791208,
          0.9208791208791208,
          0.9208791208791208,
          0.9208791208791208,
          0.9208791208791208,
          0.9208791208791208,
          0.9208791208791208,
          0.9230769230769231
         ],
         "yaxis": "y",
         "type": "scatter"
        },
        {
         "hovertemplate": "type_score=test_score<br>C_value=%{x}<br>score=%{y}<extra></extra>",
         "legendgroup": "test_score",
         "line": {
          "color": "#EF553B",
          "dash": "solid"
         },
         "marker": {
          "symbol": "circle"
         },
         "mode": "lines",
         "name": "test_score",
         "orientation": "v",
         "showlegend": true,
         "x": [
          1.0,
          20409.14285714286,
          40817.28571428572,
          61225.42857142858,
          81633.57142857143,
          102041.71428571429,
          122449.85714285716,
          142858.0,
          163266.14285714287,
          183674.28571428574,
          204082.42857142858,
          224490.57142857145,
          244898.71428571432,
          265306.85714285716,
          285715.0,
          306123.1428571429,
          326531.28571428574,
          346939.4285714286,
          367347.5714285715,
          387755.7142857143,
          408163.85714285716,
          428572.00000000006,
          448980.1428571429,
          469388.28571428574,
          489796.42857142864,
          510204.5714285715,
          530612.7142857143,
          551020.8571428572,
          571429.0,
          591837.142857143,
          612245.2857142858,
          632653.4285714286,
          653061.5714285715,
          673469.7142857143,
          693877.8571428572,
          714286.0,
          734694.142857143,
          755102.2857142858,
          775510.4285714286,
          795918.5714285715,
          816326.7142857143,
          836734.8571428572,
          857143.0000000001,
          877551.142857143,
          897959.2857142858,
          918367.4285714286,
          938775.5714285715,
          959183.7142857143,
          979591.8571428573,
          1000000.0
         ],
         "xaxis": "x",
         "y": [
          0.8771929824561403,
          0.8421052631578947,
          0.8421052631578947,
          0.8508771929824561,
          0.8421052631578947,
          0.8421052631578947,
          0.8508771929824561,
          0.8421052631578947,
          0.8421052631578947,
          0.8421052631578947,
          0.8421052631578947,
          0.8421052631578947,
          0.8421052631578947,
          0.8421052631578947,
          0.8421052631578947,
          0.8421052631578947,
          0.8421052631578947,
          0.8421052631578947,
          0.8421052631578947,
          0.8421052631578947,
          0.8333333333333334,
          0.8421052631578947,
          0.8333333333333334,
          0.8421052631578947,
          0.8333333333333334,
          0.8333333333333334,
          0.8245614035087719,
          0.8333333333333334,
          0.8333333333333334,
          0.8421052631578947,
          0.8333333333333334,
          0.8333333333333334,
          0.8333333333333334,
          0.8421052631578947,
          0.8421052631578947,
          0.8421052631578947,
          0.8421052631578947,
          0.8508771929824561,
          0.8333333333333334,
          0.8333333333333334,
          0.8421052631578947,
          0.8421052631578947,
          0.8421052631578947,
          0.8333333333333334,
          0.8333333333333334,
          0.8333333333333334,
          0.8333333333333334,
          0.8333333333333334,
          0.8333333333333334,
          0.8421052631578947
         ],
         "yaxis": "y",
         "type": "scatter"
        }
       ],
       "layout": {
        "template": {
         "data": {
          "histogram2dcontour": [
           {
            "type": "histogram2dcontour",
            "colorbar": {
             "outlinewidth": 0,
             "ticks": ""
            },
            "colorscale": [
             [
              0.0,
              "#0d0887"
             ],
             [
              0.1111111111111111,
              "#46039f"
             ],
             [
              0.2222222222222222,
              "#7201a8"
             ],
             [
              0.3333333333333333,
              "#9c179e"
             ],
             [
              0.4444444444444444,
              "#bd3786"
             ],
             [
              0.5555555555555556,
              "#d8576b"
             ],
             [
              0.6666666666666666,
              "#ed7953"
             ],
             [
              0.7777777777777778,
              "#fb9f3a"
             ],
             [
              0.8888888888888888,
              "#fdca26"
             ],
             [
              1.0,
              "#f0f921"
             ]
            ]
           }
          ],
          "choropleth": [
           {
            "type": "choropleth",
            "colorbar": {
             "outlinewidth": 0,
             "ticks": ""
            }
           }
          ],
          "histogram2d": [
           {
            "type": "histogram2d",
            "colorbar": {
             "outlinewidth": 0,
             "ticks": ""
            },
            "colorscale": [
             [
              0.0,
              "#0d0887"
             ],
             [
              0.1111111111111111,
              "#46039f"
             ],
             [
              0.2222222222222222,
              "#7201a8"
             ],
             [
              0.3333333333333333,
              "#9c179e"
             ],
             [
              0.4444444444444444,
              "#bd3786"
             ],
             [
              0.5555555555555556,
              "#d8576b"
             ],
             [
              0.6666666666666666,
              "#ed7953"
             ],
             [
              0.7777777777777778,
              "#fb9f3a"
             ],
             [
              0.8888888888888888,
              "#fdca26"
             ],
             [
              1.0,
              "#f0f921"
             ]
            ]
           }
          ],
          "heatmap": [
           {
            "type": "heatmap",
            "colorbar": {
             "outlinewidth": 0,
             "ticks": ""
            },
            "colorscale": [
             [
              0.0,
              "#0d0887"
             ],
             [
              0.1111111111111111,
              "#46039f"
             ],
             [
              0.2222222222222222,
              "#7201a8"
             ],
             [
              0.3333333333333333,
              "#9c179e"
             ],
             [
              0.4444444444444444,
              "#bd3786"
             ],
             [
              0.5555555555555556,
              "#d8576b"
             ],
             [
              0.6666666666666666,
              "#ed7953"
             ],
             [
              0.7777777777777778,
              "#fb9f3a"
             ],
             [
              0.8888888888888888,
              "#fdca26"
             ],
             [
              1.0,
              "#f0f921"
             ]
            ]
           }
          ],
          "heatmapgl": [
           {
            "type": "heatmapgl",
            "colorbar": {
             "outlinewidth": 0,
             "ticks": ""
            },
            "colorscale": [
             [
              0.0,
              "#0d0887"
             ],
             [
              0.1111111111111111,
              "#46039f"
             ],
             [
              0.2222222222222222,
              "#7201a8"
             ],
             [
              0.3333333333333333,
              "#9c179e"
             ],
             [
              0.4444444444444444,
              "#bd3786"
             ],
             [
              0.5555555555555556,
              "#d8576b"
             ],
             [
              0.6666666666666666,
              "#ed7953"
             ],
             [
              0.7777777777777778,
              "#fb9f3a"
             ],
             [
              0.8888888888888888,
              "#fdca26"
             ],
             [
              1.0,
              "#f0f921"
             ]
            ]
           }
          ],
          "contourcarpet": [
           {
            "type": "contourcarpet",
            "colorbar": {
             "outlinewidth": 0,
             "ticks": ""
            }
           }
          ],
          "contour": [
           {
            "type": "contour",
            "colorbar": {
             "outlinewidth": 0,
             "ticks": ""
            },
            "colorscale": [
             [
              0.0,
              "#0d0887"
             ],
             [
              0.1111111111111111,
              "#46039f"
             ],
             [
              0.2222222222222222,
              "#7201a8"
             ],
             [
              0.3333333333333333,
              "#9c179e"
             ],
             [
              0.4444444444444444,
              "#bd3786"
             ],
             [
              0.5555555555555556,
              "#d8576b"
             ],
             [
              0.6666666666666666,
              "#ed7953"
             ],
             [
              0.7777777777777778,
              "#fb9f3a"
             ],
             [
              0.8888888888888888,
              "#fdca26"
             ],
             [
              1.0,
              "#f0f921"
             ]
            ]
           }
          ],
          "surface": [
           {
            "type": "surface",
            "colorbar": {
             "outlinewidth": 0,
             "ticks": ""
            },
            "colorscale": [
             [
              0.0,
              "#0d0887"
             ],
             [
              0.1111111111111111,
              "#46039f"
             ],
             [
              0.2222222222222222,
              "#7201a8"
             ],
             [
              0.3333333333333333,
              "#9c179e"
             ],
             [
              0.4444444444444444,
              "#bd3786"
             ],
             [
              0.5555555555555556,
              "#d8576b"
             ],
             [
              0.6666666666666666,
              "#ed7953"
             ],
             [
              0.7777777777777778,
              "#fb9f3a"
             ],
             [
              0.8888888888888888,
              "#fdca26"
             ],
             [
              1.0,
              "#f0f921"
             ]
            ]
           }
          ],
          "mesh3d": [
           {
            "type": "mesh3d",
            "colorbar": {
             "outlinewidth": 0,
             "ticks": ""
            }
           }
          ],
          "scatter": [
           {
            "fillpattern": {
             "fillmode": "overlay",
             "size": 10,
             "solidity": 0.2
            },
            "type": "scatter"
           }
          ],
          "parcoords": [
           {
            "type": "parcoords",
            "line": {
             "colorbar": {
              "outlinewidth": 0,
              "ticks": ""
             }
            }
           }
          ],
          "scatterpolargl": [
           {
            "type": "scatterpolargl",
            "marker": {
             "colorbar": {
              "outlinewidth": 0,
              "ticks": ""
             }
            }
           }
          ],
          "bar": [
           {
            "error_x": {
             "color": "#2a3f5f"
            },
            "error_y": {
             "color": "#2a3f5f"
            },
            "marker": {
             "line": {
              "color": "#E5ECF6",
              "width": 0.5
             },
             "pattern": {
              "fillmode": "overlay",
              "size": 10,
              "solidity": 0.2
             }
            },
            "type": "bar"
           }
          ],
          "scattergeo": [
           {
            "type": "scattergeo",
            "marker": {
             "colorbar": {
              "outlinewidth": 0,
              "ticks": ""
             }
            }
           }
          ],
          "scatterpolar": [
           {
            "type": "scatterpolar",
            "marker": {
             "colorbar": {
              "outlinewidth": 0,
              "ticks": ""
             }
            }
           }
          ],
          "histogram": [
           {
            "marker": {
             "pattern": {
              "fillmode": "overlay",
              "size": 10,
              "solidity": 0.2
             }
            },
            "type": "histogram"
           }
          ],
          "scattergl": [
           {
            "type": "scattergl",
            "marker": {
             "colorbar": {
              "outlinewidth": 0,
              "ticks": ""
             }
            }
           }
          ],
          "scatter3d": [
           {
            "type": "scatter3d",
            "line": {
             "colorbar": {
              "outlinewidth": 0,
              "ticks": ""
             }
            },
            "marker": {
             "colorbar": {
              "outlinewidth": 0,
              "ticks": ""
             }
            }
           }
          ],
          "scattermapbox": [
           {
            "type": "scattermapbox",
            "marker": {
             "colorbar": {
              "outlinewidth": 0,
              "ticks": ""
             }
            }
           }
          ],
          "scatterternary": [
           {
            "type": "scatterternary",
            "marker": {
             "colorbar": {
              "outlinewidth": 0,
              "ticks": ""
             }
            }
           }
          ],
          "scattercarpet": [
           {
            "type": "scattercarpet",
            "marker": {
             "colorbar": {
              "outlinewidth": 0,
              "ticks": ""
             }
            }
           }
          ],
          "carpet": [
           {
            "aaxis": {
             "endlinecolor": "#2a3f5f",
             "gridcolor": "white",
             "linecolor": "white",
             "minorgridcolor": "white",
             "startlinecolor": "#2a3f5f"
            },
            "baxis": {
             "endlinecolor": "#2a3f5f",
             "gridcolor": "white",
             "linecolor": "white",
             "minorgridcolor": "white",
             "startlinecolor": "#2a3f5f"
            },
            "type": "carpet"
           }
          ],
          "table": [
           {
            "cells": {
             "fill": {
              "color": "#EBF0F8"
             },
             "line": {
              "color": "white"
             }
            },
            "header": {
             "fill": {
              "color": "#C8D4E3"
             },
             "line": {
              "color": "white"
             }
            },
            "type": "table"
           }
          ],
          "barpolar": [
           {
            "marker": {
             "line": {
              "color": "#E5ECF6",
              "width": 0.5
             },
             "pattern": {
              "fillmode": "overlay",
              "size": 10,
              "solidity": 0.2
             }
            },
            "type": "barpolar"
           }
          ],
          "pie": [
           {
            "automargin": true,
            "type": "pie"
           }
          ]
         },
         "layout": {
          "autotypenumbers": "strict",
          "colorway": [
           "#636efa",
           "#EF553B",
           "#00cc96",
           "#ab63fa",
           "#FFA15A",
           "#19d3f3",
           "#FF6692",
           "#B6E880",
           "#FF97FF",
           "#FECB52"
          ],
          "font": {
           "color": "#2a3f5f"
          },
          "hovermode": "closest",
          "hoverlabel": {
           "align": "left"
          },
          "paper_bgcolor": "white",
          "plot_bgcolor": "#E5ECF6",
          "polar": {
           "bgcolor": "#E5ECF6",
           "angularaxis": {
            "gridcolor": "white",
            "linecolor": "white",
            "ticks": ""
           },
           "radialaxis": {
            "gridcolor": "white",
            "linecolor": "white",
            "ticks": ""
           }
          },
          "ternary": {
           "bgcolor": "#E5ECF6",
           "aaxis": {
            "gridcolor": "white",
            "linecolor": "white",
            "ticks": ""
           },
           "baxis": {
            "gridcolor": "white",
            "linecolor": "white",
            "ticks": ""
           },
           "caxis": {
            "gridcolor": "white",
            "linecolor": "white",
            "ticks": ""
           }
          },
          "coloraxis": {
           "colorbar": {
            "outlinewidth": 0,
            "ticks": ""
           }
          },
          "colorscale": {
           "sequential": [
            [
             0.0,
             "#0d0887"
            ],
            [
             0.1111111111111111,
             "#46039f"
            ],
            [
             0.2222222222222222,
             "#7201a8"
            ],
            [
             0.3333333333333333,
             "#9c179e"
            ],
            [
             0.4444444444444444,
             "#bd3786"
            ],
            [
             0.5555555555555556,
             "#d8576b"
            ],
            [
             0.6666666666666666,
             "#ed7953"
            ],
            [
             0.7777777777777778,
             "#fb9f3a"
            ],
            [
             0.8888888888888888,
             "#fdca26"
            ],
            [
             1.0,
             "#f0f921"
            ]
           ],
           "sequentialminus": [
            [
             0.0,
             "#0d0887"
            ],
            [
             0.1111111111111111,
             "#46039f"
            ],
            [
             0.2222222222222222,
             "#7201a8"
            ],
            [
             0.3333333333333333,
             "#9c179e"
            ],
            [
             0.4444444444444444,
             "#bd3786"
            ],
            [
             0.5555555555555556,
             "#d8576b"
            ],
            [
             0.6666666666666666,
             "#ed7953"
            ],
            [
             0.7777777777777778,
             "#fb9f3a"
            ],
            [
             0.8888888888888888,
             "#fdca26"
            ],
            [
             1.0,
             "#f0f921"
            ]
           ],
           "diverging": [
            [
             0,
             "#8e0152"
            ],
            [
             0.1,
             "#c51b7d"
            ],
            [
             0.2,
             "#de77ae"
            ],
            [
             0.3,
             "#f1b6da"
            ],
            [
             0.4,
             "#fde0ef"
            ],
            [
             0.5,
             "#f7f7f7"
            ],
            [
             0.6,
             "#e6f5d0"
            ],
            [
             0.7,
             "#b8e186"
            ],
            [
             0.8,
             "#7fbc41"
            ],
            [
             0.9,
             "#4d9221"
            ],
            [
             1,
             "#276419"
            ]
           ]
          },
          "xaxis": {
           "gridcolor": "white",
           "linecolor": "white",
           "ticks": "",
           "title": {
            "standoff": 15
           },
           "zerolinecolor": "white",
           "automargin": true,
           "zerolinewidth": 2
          },
          "yaxis": {
           "gridcolor": "white",
           "linecolor": "white",
           "ticks": "",
           "title": {
            "standoff": 15
           },
           "zerolinecolor": "white",
           "automargin": true,
           "zerolinewidth": 2
          },
          "scene": {
           "xaxis": {
            "backgroundcolor": "#E5ECF6",
            "gridcolor": "white",
            "linecolor": "white",
            "showbackground": true,
            "ticks": "",
            "zerolinecolor": "white",
            "gridwidth": 2
           },
           "yaxis": {
            "backgroundcolor": "#E5ECF6",
            "gridcolor": "white",
            "linecolor": "white",
            "showbackground": true,
            "ticks": "",
            "zerolinecolor": "white",
            "gridwidth": 2
           },
           "zaxis": {
            "backgroundcolor": "#E5ECF6",
            "gridcolor": "white",
            "linecolor": "white",
            "showbackground": true,
            "ticks": "",
            "zerolinecolor": "white",
            "gridwidth": 2
           }
          },
          "shapedefaults": {
           "line": {
            "color": "#2a3f5f"
           }
          },
          "annotationdefaults": {
           "arrowcolor": "#2a3f5f",
           "arrowhead": 0,
           "arrowwidth": 1
          },
          "geo": {
           "bgcolor": "white",
           "landcolor": "#E5ECF6",
           "subunitcolor": "white",
           "showland": true,
           "showlakes": true,
           "lakecolor": "white"
          },
          "title": {
           "x": 0.05
          },
          "mapbox": {
           "style": "light"
          }
         }
        },
        "xaxis": {
         "anchor": "y",
         "domain": [
          0.0,
          1.0
         ],
         "title": {
          "text": "C_value"
         }
        },
        "yaxis": {
         "anchor": "x",
         "domain": [
          0.0,
          1.0
         ],
         "title": {
          "text": "score"
         }
        },
        "legend": {
         "title": {
          "text": "type_score"
         },
         "tracegroupgap": 0
        },
        "margin": {
         "t": 60
        },
        "title": {
         "text": "Зависимость обучающей и тестовой точностей от параметра регуляризации C"
        }
       },
       "config": {
        "plotlyServerURL": "https://plot.ly"
       }
      },
      "text/html": "<div>                            <div id=\"b0ec1d74-3317-43ce-bbcf-1329852edcd2\" class=\"plotly-graph-div\" style=\"height:525px; width:100%;\"></div>            <script type=\"text/javascript\">                require([\"plotly\"], function(Plotly) {                    window.PLOTLYENV=window.PLOTLYENV || {};                                    if (document.getElementById(\"b0ec1d74-3317-43ce-bbcf-1329852edcd2\")) {                    Plotly.newPlot(                        \"b0ec1d74-3317-43ce-bbcf-1329852edcd2\",                        [{\"hovertemplate\":\"type_score=train_score<br>C_value=%{x}<br>score=%{y}<extra></extra>\",\"legendgroup\":\"train_score\",\"line\":{\"color\":\"#636efa\",\"dash\":\"solid\"},\"marker\":{\"symbol\":\"circle\"},\"mode\":\"lines\",\"name\":\"train_score\",\"orientation\":\"v\",\"showlegend\":true,\"x\":[1.0,20409.14285714286,40817.28571428572,61225.42857142858,81633.57142857143,102041.71428571429,122449.85714285716,142858.0,163266.14285714287,183674.28571428574,204082.42857142858,224490.57142857145,244898.71428571432,265306.85714285716,285715.0,306123.1428571429,326531.28571428574,346939.4285714286,367347.5714285715,387755.7142857143,408163.85714285716,428572.00000000006,448980.1428571429,469388.28571428574,489796.42857142864,510204.5714285715,530612.7142857143,551020.8571428572,571429.0,591837.142857143,612245.2857142858,632653.4285714286,653061.5714285715,673469.7142857143,693877.8571428572,714286.0,734694.142857143,755102.2857142858,775510.4285714286,795918.5714285715,816326.7142857143,836734.8571428572,857143.0000000001,877551.142857143,897959.2857142858,918367.4285714286,938775.5714285715,959183.7142857143,979591.8571428573,1000000.0],\"xaxis\":\"x\",\"y\":[0.9098901098901099,0.9230769230769231,0.9230769230769231,0.9252747252747253,0.9252747252747253,0.9230769230769231,0.9230769230769231,0.9208791208791208,0.9208791208791208,0.9208791208791208,0.9208791208791208,0.9208791208791208,0.9208791208791208,0.9230769230769231,0.9230769230769231,0.9230769230769231,0.9230769230769231,0.9230769230769231,0.9230769230769231,0.9230769230769231,0.9230769230769231,0.9230769230769231,0.9230769230769231,0.9230769230769231,0.9230769230769231,0.9230769230769231,0.9230769230769231,0.9230769230769231,0.9230769230769231,0.9230769230769231,0.9230769230769231,0.9230769230769231,0.9230769230769231,0.9208791208791208,0.9208791208791208,0.9208791208791208,0.9208791208791208,0.9208791208791208,0.9208791208791208,0.9208791208791208,0.9208791208791208,0.9208791208791208,0.9208791208791208,0.9208791208791208,0.9208791208791208,0.9208791208791208,0.9208791208791208,0.9208791208791208,0.9208791208791208,0.9230769230769231],\"yaxis\":\"y\",\"type\":\"scatter\"},{\"hovertemplate\":\"type_score=test_score<br>C_value=%{x}<br>score=%{y}<extra></extra>\",\"legendgroup\":\"test_score\",\"line\":{\"color\":\"#EF553B\",\"dash\":\"solid\"},\"marker\":{\"symbol\":\"circle\"},\"mode\":\"lines\",\"name\":\"test_score\",\"orientation\":\"v\",\"showlegend\":true,\"x\":[1.0,20409.14285714286,40817.28571428572,61225.42857142858,81633.57142857143,102041.71428571429,122449.85714285716,142858.0,163266.14285714287,183674.28571428574,204082.42857142858,224490.57142857145,244898.71428571432,265306.85714285716,285715.0,306123.1428571429,326531.28571428574,346939.4285714286,367347.5714285715,387755.7142857143,408163.85714285716,428572.00000000006,448980.1428571429,469388.28571428574,489796.42857142864,510204.5714285715,530612.7142857143,551020.8571428572,571429.0,591837.142857143,612245.2857142858,632653.4285714286,653061.5714285715,673469.7142857143,693877.8571428572,714286.0,734694.142857143,755102.2857142858,775510.4285714286,795918.5714285715,816326.7142857143,836734.8571428572,857143.0000000001,877551.142857143,897959.2857142858,918367.4285714286,938775.5714285715,959183.7142857143,979591.8571428573,1000000.0],\"xaxis\":\"x\",\"y\":[0.8771929824561403,0.8421052631578947,0.8421052631578947,0.8508771929824561,0.8421052631578947,0.8421052631578947,0.8508771929824561,0.8421052631578947,0.8421052631578947,0.8421052631578947,0.8421052631578947,0.8421052631578947,0.8421052631578947,0.8421052631578947,0.8421052631578947,0.8421052631578947,0.8421052631578947,0.8421052631578947,0.8421052631578947,0.8421052631578947,0.8333333333333334,0.8421052631578947,0.8333333333333334,0.8421052631578947,0.8333333333333334,0.8333333333333334,0.8245614035087719,0.8333333333333334,0.8333333333333334,0.8421052631578947,0.8333333333333334,0.8333333333333334,0.8333333333333334,0.8421052631578947,0.8421052631578947,0.8421052631578947,0.8421052631578947,0.8508771929824561,0.8333333333333334,0.8333333333333334,0.8421052631578947,0.8421052631578947,0.8421052631578947,0.8333333333333334,0.8333333333333334,0.8333333333333334,0.8333333333333334,0.8333333333333334,0.8333333333333334,0.8421052631578947],\"yaxis\":\"y\",\"type\":\"scatter\"}],                        {\"template\":{\"data\":{\"histogram2dcontour\":[{\"type\":\"histogram2dcontour\",\"colorbar\":{\"outlinewidth\":0,\"ticks\":\"\"},\"colorscale\":[[0.0,\"#0d0887\"],[0.1111111111111111,\"#46039f\"],[0.2222222222222222,\"#7201a8\"],[0.3333333333333333,\"#9c179e\"],[0.4444444444444444,\"#bd3786\"],[0.5555555555555556,\"#d8576b\"],[0.6666666666666666,\"#ed7953\"],[0.7777777777777778,\"#fb9f3a\"],[0.8888888888888888,\"#fdca26\"],[1.0,\"#f0f921\"]]}],\"choropleth\":[{\"type\":\"choropleth\",\"colorbar\":{\"outlinewidth\":0,\"ticks\":\"\"}}],\"histogram2d\":[{\"type\":\"histogram2d\",\"colorbar\":{\"outlinewidth\":0,\"ticks\":\"\"},\"colorscale\":[[0.0,\"#0d0887\"],[0.1111111111111111,\"#46039f\"],[0.2222222222222222,\"#7201a8\"],[0.3333333333333333,\"#9c179e\"],[0.4444444444444444,\"#bd3786\"],[0.5555555555555556,\"#d8576b\"],[0.6666666666666666,\"#ed7953\"],[0.7777777777777778,\"#fb9f3a\"],[0.8888888888888888,\"#fdca26\"],[1.0,\"#f0f921\"]]}],\"heatmap\":[{\"type\":\"heatmap\",\"colorbar\":{\"outlinewidth\":0,\"ticks\":\"\"},\"colorscale\":[[0.0,\"#0d0887\"],[0.1111111111111111,\"#46039f\"],[0.2222222222222222,\"#7201a8\"],[0.3333333333333333,\"#9c179e\"],[0.4444444444444444,\"#bd3786\"],[0.5555555555555556,\"#d8576b\"],[0.6666666666666666,\"#ed7953\"],[0.7777777777777778,\"#fb9f3a\"],[0.8888888888888888,\"#fdca26\"],[1.0,\"#f0f921\"]]}],\"heatmapgl\":[{\"type\":\"heatmapgl\",\"colorbar\":{\"outlinewidth\":0,\"ticks\":\"\"},\"colorscale\":[[0.0,\"#0d0887\"],[0.1111111111111111,\"#46039f\"],[0.2222222222222222,\"#7201a8\"],[0.3333333333333333,\"#9c179e\"],[0.4444444444444444,\"#bd3786\"],[0.5555555555555556,\"#d8576b\"],[0.6666666666666666,\"#ed7953\"],[0.7777777777777778,\"#fb9f3a\"],[0.8888888888888888,\"#fdca26\"],[1.0,\"#f0f921\"]]}],\"contourcarpet\":[{\"type\":\"contourcarpet\",\"colorbar\":{\"outlinewidth\":0,\"ticks\":\"\"}}],\"contour\":[{\"type\":\"contour\",\"colorbar\":{\"outlinewidth\":0,\"ticks\":\"\"},\"colorscale\":[[0.0,\"#0d0887\"],[0.1111111111111111,\"#46039f\"],[0.2222222222222222,\"#7201a8\"],[0.3333333333333333,\"#9c179e\"],[0.4444444444444444,\"#bd3786\"],[0.5555555555555556,\"#d8576b\"],[0.6666666666666666,\"#ed7953\"],[0.7777777777777778,\"#fb9f3a\"],[0.8888888888888888,\"#fdca26\"],[1.0,\"#f0f921\"]]}],\"surface\":[{\"type\":\"surface\",\"colorbar\":{\"outlinewidth\":0,\"ticks\":\"\"},\"colorscale\":[[0.0,\"#0d0887\"],[0.1111111111111111,\"#46039f\"],[0.2222222222222222,\"#7201a8\"],[0.3333333333333333,\"#9c179e\"],[0.4444444444444444,\"#bd3786\"],[0.5555555555555556,\"#d8576b\"],[0.6666666666666666,\"#ed7953\"],[0.7777777777777778,\"#fb9f3a\"],[0.8888888888888888,\"#fdca26\"],[1.0,\"#f0f921\"]]}],\"mesh3d\":[{\"type\":\"mesh3d\",\"colorbar\":{\"outlinewidth\":0,\"ticks\":\"\"}}],\"scatter\":[{\"fillpattern\":{\"fillmode\":\"overlay\",\"size\":10,\"solidity\":0.2},\"type\":\"scatter\"}],\"parcoords\":[{\"type\":\"parcoords\",\"line\":{\"colorbar\":{\"outlinewidth\":0,\"ticks\":\"\"}}}],\"scatterpolargl\":[{\"type\":\"scatterpolargl\",\"marker\":{\"colorbar\":{\"outlinewidth\":0,\"ticks\":\"\"}}}],\"bar\":[{\"error_x\":{\"color\":\"#2a3f5f\"},\"error_y\":{\"color\":\"#2a3f5f\"},\"marker\":{\"line\":{\"color\":\"#E5ECF6\",\"width\":0.5},\"pattern\":{\"fillmode\":\"overlay\",\"size\":10,\"solidity\":0.2}},\"type\":\"bar\"}],\"scattergeo\":[{\"type\":\"scattergeo\",\"marker\":{\"colorbar\":{\"outlinewidth\":0,\"ticks\":\"\"}}}],\"scatterpolar\":[{\"type\":\"scatterpolar\",\"marker\":{\"colorbar\":{\"outlinewidth\":0,\"ticks\":\"\"}}}],\"histogram\":[{\"marker\":{\"pattern\":{\"fillmode\":\"overlay\",\"size\":10,\"solidity\":0.2}},\"type\":\"histogram\"}],\"scattergl\":[{\"type\":\"scattergl\",\"marker\":{\"colorbar\":{\"outlinewidth\":0,\"ticks\":\"\"}}}],\"scatter3d\":[{\"type\":\"scatter3d\",\"line\":{\"colorbar\":{\"outlinewidth\":0,\"ticks\":\"\"}},\"marker\":{\"colorbar\":{\"outlinewidth\":0,\"ticks\":\"\"}}}],\"scattermapbox\":[{\"type\":\"scattermapbox\",\"marker\":{\"colorbar\":{\"outlinewidth\":0,\"ticks\":\"\"}}}],\"scatterternary\":[{\"type\":\"scatterternary\",\"marker\":{\"colorbar\":{\"outlinewidth\":0,\"ticks\":\"\"}}}],\"scattercarpet\":[{\"type\":\"scattercarpet\",\"marker\":{\"colorbar\":{\"outlinewidth\":0,\"ticks\":\"\"}}}],\"carpet\":[{\"aaxis\":{\"endlinecolor\":\"#2a3f5f\",\"gridcolor\":\"white\",\"linecolor\":\"white\",\"minorgridcolor\":\"white\",\"startlinecolor\":\"#2a3f5f\"},\"baxis\":{\"endlinecolor\":\"#2a3f5f\",\"gridcolor\":\"white\",\"linecolor\":\"white\",\"minorgridcolor\":\"white\",\"startlinecolor\":\"#2a3f5f\"},\"type\":\"carpet\"}],\"table\":[{\"cells\":{\"fill\":{\"color\":\"#EBF0F8\"},\"line\":{\"color\":\"white\"}},\"header\":{\"fill\":{\"color\":\"#C8D4E3\"},\"line\":{\"color\":\"white\"}},\"type\":\"table\"}],\"barpolar\":[{\"marker\":{\"line\":{\"color\":\"#E5ECF6\",\"width\":0.5},\"pattern\":{\"fillmode\":\"overlay\",\"size\":10,\"solidity\":0.2}},\"type\":\"barpolar\"}],\"pie\":[{\"automargin\":true,\"type\":\"pie\"}]},\"layout\":{\"autotypenumbers\":\"strict\",\"colorway\":[\"#636efa\",\"#EF553B\",\"#00cc96\",\"#ab63fa\",\"#FFA15A\",\"#19d3f3\",\"#FF6692\",\"#B6E880\",\"#FF97FF\",\"#FECB52\"],\"font\":{\"color\":\"#2a3f5f\"},\"hovermode\":\"closest\",\"hoverlabel\":{\"align\":\"left\"},\"paper_bgcolor\":\"white\",\"plot_bgcolor\":\"#E5ECF6\",\"polar\":{\"bgcolor\":\"#E5ECF6\",\"angularaxis\":{\"gridcolor\":\"white\",\"linecolor\":\"white\",\"ticks\":\"\"},\"radialaxis\":{\"gridcolor\":\"white\",\"linecolor\":\"white\",\"ticks\":\"\"}},\"ternary\":{\"bgcolor\":\"#E5ECF6\",\"aaxis\":{\"gridcolor\":\"white\",\"linecolor\":\"white\",\"ticks\":\"\"},\"baxis\":{\"gridcolor\":\"white\",\"linecolor\":\"white\",\"ticks\":\"\"},\"caxis\":{\"gridcolor\":\"white\",\"linecolor\":\"white\",\"ticks\":\"\"}},\"coloraxis\":{\"colorbar\":{\"outlinewidth\":0,\"ticks\":\"\"}},\"colorscale\":{\"sequential\":[[0.0,\"#0d0887\"],[0.1111111111111111,\"#46039f\"],[0.2222222222222222,\"#7201a8\"],[0.3333333333333333,\"#9c179e\"],[0.4444444444444444,\"#bd3786\"],[0.5555555555555556,\"#d8576b\"],[0.6666666666666666,\"#ed7953\"],[0.7777777777777778,\"#fb9f3a\"],[0.8888888888888888,\"#fdca26\"],[1.0,\"#f0f921\"]],\"sequentialminus\":[[0.0,\"#0d0887\"],[0.1111111111111111,\"#46039f\"],[0.2222222222222222,\"#7201a8\"],[0.3333333333333333,\"#9c179e\"],[0.4444444444444444,\"#bd3786\"],[0.5555555555555556,\"#d8576b\"],[0.6666666666666666,\"#ed7953\"],[0.7777777777777778,\"#fb9f3a\"],[0.8888888888888888,\"#fdca26\"],[1.0,\"#f0f921\"]],\"diverging\":[[0,\"#8e0152\"],[0.1,\"#c51b7d\"],[0.2,\"#de77ae\"],[0.3,\"#f1b6da\"],[0.4,\"#fde0ef\"],[0.5,\"#f7f7f7\"],[0.6,\"#e6f5d0\"],[0.7,\"#b8e186\"],[0.8,\"#7fbc41\"],[0.9,\"#4d9221\"],[1,\"#276419\"]]},\"xaxis\":{\"gridcolor\":\"white\",\"linecolor\":\"white\",\"ticks\":\"\",\"title\":{\"standoff\":15},\"zerolinecolor\":\"white\",\"automargin\":true,\"zerolinewidth\":2},\"yaxis\":{\"gridcolor\":\"white\",\"linecolor\":\"white\",\"ticks\":\"\",\"title\":{\"standoff\":15},\"zerolinecolor\":\"white\",\"automargin\":true,\"zerolinewidth\":2},\"scene\":{\"xaxis\":{\"backgroundcolor\":\"#E5ECF6\",\"gridcolor\":\"white\",\"linecolor\":\"white\",\"showbackground\":true,\"ticks\":\"\",\"zerolinecolor\":\"white\",\"gridwidth\":2},\"yaxis\":{\"backgroundcolor\":\"#E5ECF6\",\"gridcolor\":\"white\",\"linecolor\":\"white\",\"showbackground\":true,\"ticks\":\"\",\"zerolinecolor\":\"white\",\"gridwidth\":2},\"zaxis\":{\"backgroundcolor\":\"#E5ECF6\",\"gridcolor\":\"white\",\"linecolor\":\"white\",\"showbackground\":true,\"ticks\":\"\",\"zerolinecolor\":\"white\",\"gridwidth\":2}},\"shapedefaults\":{\"line\":{\"color\":\"#2a3f5f\"}},\"annotationdefaults\":{\"arrowcolor\":\"#2a3f5f\",\"arrowhead\":0,\"arrowwidth\":1},\"geo\":{\"bgcolor\":\"white\",\"landcolor\":\"#E5ECF6\",\"subunitcolor\":\"white\",\"showland\":true,\"showlakes\":true,\"lakecolor\":\"white\"},\"title\":{\"x\":0.05},\"mapbox\":{\"style\":\"light\"}}},\"xaxis\":{\"anchor\":\"y\",\"domain\":[0.0,1.0],\"title\":{\"text\":\"C_value\"}},\"yaxis\":{\"anchor\":\"x\",\"domain\":[0.0,1.0],\"title\":{\"text\":\"score\"}},\"legend\":{\"title\":{\"text\":\"type_score\"},\"tracegroupgap\":0},\"margin\":{\"t\":60},\"title\":{\"text\":\"\\u0417\\u0430\\u0432\\u0438\\u0441\\u0438\\u043c\\u043e\\u0441\\u0442\\u044c \\u043e\\u0431\\u0443\\u0447\\u0430\\u044e\\u0449\\u0435\\u0439 \\u0438 \\u0442\\u0435\\u0441\\u0442\\u043e\\u0432\\u043e\\u0439 \\u0442\\u043e\\u0447\\u043d\\u043e\\u0441\\u0442\\u0435\\u0439 \\u043e\\u0442 \\u043f\\u0430\\u0440\\u0430\\u043c\\u0435\\u0442\\u0440\\u0430 \\u0440\\u0435\\u0433\\u0443\\u043b\\u044f\\u0440\\u0438\\u0437\\u0430\\u0446\\u0438\\u0438 C\"}},                        {\"responsive\": true}                    ).then(function(){\n                            \nvar gd = document.getElementById('b0ec1d74-3317-43ce-bbcf-1329852edcd2');\nvar x = new MutationObserver(function (mutations, observer) {{\n        var display = window.getComputedStyle(gd).display;\n        if (!display || display === 'none') {{\n            console.log([gd, 'removed!']);\n            Plotly.purge(gd);\n            observer.disconnect();\n        }}\n}});\n\n// Listen for the removal of the full notebook cells\nvar notebookContainer = gd.closest('#notebook-container');\nif (notebookContainer) {{\n    x.observe(notebookContainer, {childList: true});\n}}\n\n// Listen for the clearing of the current output cell\nvar outputEl = gd.closest('.output');\nif (outputEl) {{\n    x.observe(outputEl, {childList: true});\n}}\n\n                        })                };                });            </script>        </div>"
     },
     "metadata": {},
     "output_type": "display_data"
    }
   ],
   "source": [
    "fig = px.line(df, x='C_value', y='score', color='type_score')\n",
    "fig['layout'].update(title_text='Зависимость обучающей и тестовой точностей от параметра регуляризации C')\n",
    "fig.show()"
   ],
   "metadata": {
    "collapsed": false,
    "pycharm": {
     "name": "#%%\n"
    }
   }
  },
  {
   "cell_type": "markdown",
   "source": [
    "###### Изучив динамику изменения тестовой точности, стоит сказать, что при минимальных значениях параметра регуляризации C тестовая точность максимально близка к обучающей => модель практически обучена, то есть:\n",
    "- Оптимальная тестовая точность при C = 1 и меньше\n",
    "- Переобучение модели дают значения C от 1 до 20 000, а также от 500 000 до 530 000\n",
    "- Недообучение модели дают значения C от 40 000 до 60 000, а также от 100 000 до 120 000 + от 650 000 до 750 000\n",
    "###### С большим значением C модель переобучается, а с малым - недообучается. Увеличивая аргумент C, точность модели на тренируемых данных увеличивается, а на тестовых - уменьшается."
   ],
   "metadata": {
    "collapsed": false,
    "pycharm": {
     "name": "#%% md\n"
    }
   }
  },
  {
   "cell_type": "markdown",
   "source": [
    "##### 9. Найдите методом подбора оптимальное значение параметра регуляризации (примерное)."
   ],
   "metadata": {
    "collapsed": false,
    "pycharm": {
     "name": "#%% md\n"
    }
   }
  },
  {
   "cell_type": "code",
   "execution_count": 69,
   "outputs": [
    {
     "name": "stdout",
     "output_type": "stream",
     "text": [
      "(51.1, 0.8771929824561403, 0.9164835164835164)\n"
     ]
    }
   ],
   "source": [
    "results = []\n",
    "for i in range(1,1000):\n",
    "    value = i * 0.1\n",
    "    clf = SVC(kernel='rbf', C=value)\n",
    "    clf.fit(x_train, y_train)\n",
    "    test_acc = clf.score(x_test, y_test)\n",
    "    train_acc = clf.score(x_train, y_train)\n",
    "    results.append((value, test_acc, train_acc))\n",
    "\n",
    "results.sort(key=lambda x: x[1])\n",
    "print(results[-1])"
   ],
   "metadata": {
    "collapsed": false,
    "pycharm": {
     "name": "#%%\n"
    }
   }
  },
  {
   "cell_type": "markdown",
   "source": [
    "##### При переборе и сортировке метрик обучающей и тестовой точности на модели получаем, что со значением C = 51.1 тестовая точность равна 87.7%, а обучающая = 91.6%, что очень хорошо"
   ],
   "metadata": {
    "collapsed": false,
    "pycharm": {
     "name": "#%% md\n"
    }
   }
  },
  {
   "cell_type": "code",
   "execution_count": 78,
   "outputs": [
    {
     "name": "stdout",
     "output_type": "stream",
     "text": [
      "Результат обучения на обучающей выборке:  0.9164835164835164\n",
      "Результат обучения на тестовой выборке:  0.8771929824561403\n"
     ]
    }
   ],
   "source": [
    "clf = SVC(kernel='rbf', C=51.1)\n",
    "clf.fit(x_train, y_train)\n",
    "print('Результат обучения на обучающей выборке: ', clf.score(x_train, y_train))\n",
    "print('Результат обучения на тестовой выборке: ', clf.score(x_test, y_test))"
   ],
   "metadata": {
    "collapsed": false,
    "pycharm": {
     "name": "#%%\n"
    }
   }
  },
  {
   "cell_type": "markdown",
   "source": [
    "##### 10. Повторите два предыдущих пункта для метода опорных векторов с линейным ядром. Сравните получившиеся результаты. Сделайте вывод о сравнительной эффективности двух этих моделей."
   ],
   "metadata": {
    "collapsed": false,
    "pycharm": {
     "name": "#%% md\n"
    }
   }
  },
  {
   "cell_type": "code",
   "execution_count": 79,
   "outputs": [
    {
     "data": {
      "text/plain": "  0%|          | 0/50 [00:00<?, ?it/s]",
      "application/vnd.jupyter.widget-view+json": {
       "version_major": 2,
       "version_minor": 0,
       "model_id": "feaafbc94cef4f35b7402f1494a866ad"
      }
     },
     "metadata": {},
     "output_type": "display_data"
    },
    {
     "data": {
      "text/plain": "0.9035087719298246"
     },
     "execution_count": 79,
     "metadata": {},
     "output_type": "execute_result"
    },
    {
     "data": {
      "text/plain": "<Figure size 432x288 with 1 Axes>",
      "image/png": "[encoded data removed]"
     },
     "metadata": {
      "needs_background": "light"
     },
     "output_type": "display_data"
    }
   ],
   "source": [
    "data = np.linspace(1, 100000, 50)\n",
    "\n",
    "test_scores = []\n",
    "train_scores = []\n",
    "\n",
    "for i in tqdm(data):\n",
    "    clf = SVC(C=i, kernel=\"linear\")\n",
    "    clf.fit(x_train, y_train)\n",
    "    test_scores.append(clf.score(x_test, y_test))\n",
    "    train_scores.append(clf.score(x_train, y_train))\n",
    "\n",
    "ax = plt.axes()\n",
    "ax.plot(data, test_scores, label=\"test\")\n",
    "ax.plot(data, train_scores, label=\"train\")\n",
    "ax.set_xlabel('С')\n",
    "ax.set_ylabel('score')\n",
    "ax.set_ylim([0.75, 1])\n",
    "ax.legend()\n",
    "\n",
    "max(test_scores)"
   ],
   "metadata": {
    "collapsed": false,
    "pycharm": {
     "name": "#%%\n"
    }
   }
  },
  {
   "cell_type": "code",
   "execution_count": 82,
   "outputs": [
    {
     "data": {
      "text/plain": "          C_value   type_score     score\n0        1.000000  train_score  0.887912\n1     2041.795918  train_score  0.892308\n2     4082.591837  train_score  0.892308\n3     6123.387755  train_score  0.898901\n4     8164.183673  train_score  0.898901\n..            ...          ...       ...\n95   91836.816327   test_score  0.894737\n96   93877.612245   test_score  0.877193\n97   95918.408163   test_score  0.894737\n98   97959.204082   test_score  0.894737\n99  100000.000000   test_score  0.877193\n\n[100 rows x 3 columns]",
      "text/html": "<div>\n<style scoped>\n    .dataframe tbody tr th:only-of-type {\n        vertical-align: middle;\n    }\n\n    .dataframe tbody tr th {\n        vertical-align: top;\n    }\n\n    .dataframe thead th {\n        text-align: right;\n    }\n</style>\n<table border=\"1\" class=\"dataframe\">\n  <thead>\n    <tr style=\"text-align: right;\">\n      <th></th>\n      <th>C_value</th>\n      <th>type_score</th>\n      <th>score</th>\n    </tr>\n  </thead>\n  <tbody>\n    <tr>\n      <th>0</th>\n      <td>1.000000</td>\n      <td>train_score</td>\n      <td>0.887912</td>\n    </tr>\n    <tr>\n      <th>1</th>\n      <td>2041.795918</td>\n      <td>train_score</td>\n      <td>0.892308</td>\n    </tr>\n    <tr>\n      <th>2</th>\n      <td>4082.591837</td>\n      <td>train_score</td>\n      <td>0.892308</td>\n    </tr>\n    <tr>\n      <th>3</th>\n      <td>6123.387755</td>\n      <td>train_score</td>\n      <td>0.898901</td>\n    </tr>\n    <tr>\n      <th>4</th>\n      <td>8164.183673</td>\n      <td>train_score</td>\n      <td>0.898901</td>\n    </tr>\n    <tr>\n      <th>...</th>\n      <td>...</td>\n      <td>...</td>\n      <td>...</td>\n    </tr>\n    <tr>\n      <th>95</th>\n      <td>91836.816327</td>\n      <td>test_score</td>\n      <td>0.894737</td>\n    </tr>\n    <tr>\n      <th>96</th>\n      <td>93877.612245</td>\n      <td>test_score</td>\n      <td>0.877193</td>\n    </tr>\n    <tr>\n      <th>97</th>\n      <td>95918.408163</td>\n      <td>test_score</td>\n      <td>0.894737</td>\n    </tr>\n    <tr>\n      <th>98</th>\n      <td>97959.204082</td>\n      <td>test_score</td>\n      <td>0.894737</td>\n    </tr>\n    <tr>\n      <th>99</th>\n      <td>100000.000000</td>\n      <td>test_score</td>\n      <td>0.877193</td>\n    </tr>\n  </tbody>\n</table>\n<p>100 rows × 3 columns</p>\n</div>"
     },
     "execution_count": 82,
     "metadata": {},
     "output_type": "execute_result"
    }
   ],
   "source": [
    "df = pd.DataFrame()\n",
    "df['C_value'] = list(np.linspace(1, 100000, 50)) + list(np.linspace(1, 100000, 50))\n",
    "df['type_score'] = ['train_score' if ind <= 49 else 'test_score' for ind in range(100)]\n",
    "df['score'] = train_scores + test_scores\n",
    "df"
   ],
   "metadata": {
    "collapsed": false,
    "pycharm": {
     "name": "#%%\n"
    }
   }
  },
  {
   "cell_type": "code",
   "execution_count": 83,
   "outputs": [
    {
     "data": {
      "application/vnd.plotly.v1+json": {
       "data": [
        {
         "hovertemplate": "type_score=train_score<br>C_value=%{x}<br>score=%{y}<extra></extra>",
         "legendgroup": "train_score",
         "line": {
          "color": "#636efa",
          "dash": "solid"
         },
         "marker": {
          "symbol": "circle"
         },
         "mode": "lines",
         "name": "train_score",
         "orientation": "v",
         "showlegend": true,
         "x": [
          1.0,
          2041.795918367347,
          4082.591836734694,
          6123.387755102041,
          8164.183673469388,
          10204.979591836734,
          12245.775510204083,
          14286.57142857143,
          16327.367346938776,
          18368.163265306124,
          20408.95918367347,
          22449.755102040817,
          24490.551020408166,
          26531.34693877551,
          28572.14285714286,
          30612.938775510203,
          32653.73469387755,
          34694.5306122449,
          36735.32653061225,
          38776.12244897959,
          40816.91836734694,
          42857.71428571429,
          44898.510204081635,
          46939.30612244898,
          48980.10204081633,
          51020.897959183676,
          53061.69387755102,
          55102.489795918365,
          57143.28571428572,
          59184.08163265306,
          61224.87755102041,
          63265.67346938776,
          65306.4693877551,
          67347.26530612246,
          69388.0612244898,
          71428.85714285714,
          73469.6530612245,
          75510.44897959183,
          77551.24489795919,
          79592.04081632654,
          81632.83673469388,
          83673.63265306123,
          85714.42857142858,
          87755.22448979592,
          89796.02040816327,
          91836.81632653062,
          93877.61224489796,
          95918.40816326531,
          97959.20408163266,
          100000.0
         ],
         "xaxis": "x",
         "y": [
          0.8879120879120879,
          0.8923076923076924,
          0.8923076923076924,
          0.8989010989010989,
          0.8989010989010989,
          0.8989010989010989,
          0.8967032967032967,
          0.8989010989010989,
          0.8901098901098901,
          0.8901098901098901,
          0.8901098901098901,
          0.8901098901098901,
          0.8901098901098901,
          0.8967032967032967,
          0.8945054945054945,
          0.8967032967032967,
          0.8901098901098901,
          0.8967032967032967,
          0.8945054945054945,
          0.8989010989010989,
          0.8967032967032967,
          0.8945054945054945,
          0.8967032967032967,
          0.8967032967032967,
          0.8989010989010989,
          0.8967032967032967,
          0.8923076923076924,
          0.8967032967032967,
          0.8967032967032967,
          0.8967032967032967,
          0.8923076923076924,
          0.8989010989010989,
          0.8923076923076924,
          0.8967032967032967,
          0.8967032967032967,
          0.8989010989010989,
          0.8923076923076924,
          0.8967032967032967,
          0.8967032967032967,
          0.8945054945054945,
          0.8901098901098901,
          0.8967032967032967,
          0.8967032967032967,
          0.8989010989010989,
          0.8945054945054945,
          0.8945054945054945,
          0.8967032967032967,
          0.8989010989010989,
          0.8967032967032967,
          0.8967032967032967
         ],
         "yaxis": "y",
         "type": "scatter"
        },
        {
         "hovertemplate": "type_score=test_score<br>C_value=%{x}<br>score=%{y}<extra></extra>",
         "legendgroup": "test_score",
         "line": {
          "color": "#EF553B",
          "dash": "solid"
         },
         "marker": {
          "symbol": "circle"
         },
         "mode": "lines",
         "name": "test_score",
         "orientation": "v",
         "showlegend": true,
         "x": [
          1.0,
          2041.795918367347,
          4082.591836734694,
          6123.387755102041,
          8164.183673469388,
          10204.979591836734,
          12245.775510204083,
          14286.57142857143,
          16327.367346938776,
          18368.163265306124,
          20408.95918367347,
          22449.755102040817,
          24490.551020408166,
          26531.34693877551,
          28572.14285714286,
          30612.938775510203,
          32653.73469387755,
          34694.5306122449,
          36735.32653061225,
          38776.12244897959,
          40816.91836734694,
          42857.71428571429,
          44898.510204081635,
          46939.30612244898,
          48980.10204081633,
          51020.897959183676,
          53061.69387755102,
          55102.489795918365,
          57143.28571428572,
          59184.08163265306,
          61224.87755102041,
          63265.67346938776,
          65306.4693877551,
          67347.26530612246,
          69388.0612244898,
          71428.85714285714,
          73469.6530612245,
          75510.44897959183,
          77551.24489795919,
          79592.04081632654,
          81632.83673469388,
          83673.63265306123,
          85714.42857142858,
          87755.22448979592,
          89796.02040816327,
          91836.81632653062,
          93877.61224489796,
          95918.40816326531,
          97959.20408163266,
          100000.0
         ],
         "xaxis": "x",
         "y": [
          0.8947368421052632,
          0.8947368421052632,
          0.8947368421052632,
          0.8947368421052632,
          0.8947368421052632,
          0.9035087719298246,
          0.8947368421052632,
          0.8947368421052632,
          0.8947368421052632,
          0.8947368421052632,
          0.8947368421052632,
          0.8947368421052632,
          0.8947368421052632,
          0.8947368421052632,
          0.8859649122807017,
          0.8859649122807017,
          0.8947368421052632,
          0.8859649122807017,
          0.8859649122807017,
          0.8947368421052632,
          0.8859649122807017,
          0.8859649122807017,
          0.8947368421052632,
          0.8947368421052632,
          0.8947368421052632,
          0.8947368421052632,
          0.8947368421052632,
          0.8859649122807017,
          0.8947368421052632,
          0.8947368421052632,
          0.8947368421052632,
          0.8859649122807017,
          0.8947368421052632,
          0.8947368421052632,
          0.8947368421052632,
          0.8947368421052632,
          0.8947368421052632,
          0.8947368421052632,
          0.8859649122807017,
          0.8771929824561403,
          0.8947368421052632,
          0.8859649122807017,
          0.8947368421052632,
          0.8947368421052632,
          0.8859649122807017,
          0.8947368421052632,
          0.8771929824561403,
          0.8947368421052632,
          0.8947368421052632,
          0.8771929824561403
         ],
         "yaxis": "y",
         "type": "scatter"
        }
       ],
       "layout": {
        "template": {
         "data": {
          "histogram2dcontour": [
           {
            "type": "histogram2dcontour",
            "colorbar": {
             "outlinewidth": 0,
             "ticks": ""
            },
            "colorscale": [
             [
              0.0,
              "#0d0887"
             ],
             [
              0.1111111111111111,
              "#46039f"
             ],
             [
              0.2222222222222222,
              "#7201a8"
             ],
             [
              0.3333333333333333,
              "#9c179e"
             ],
             [
              0.4444444444444444,
              "#bd3786"
             ],
             [
              0.5555555555555556,
              "#d8576b"
             ],
             [
              0.6666666666666666,
              "#ed7953"
             ],
             [
              0.7777777777777778,
              "#fb9f3a"
             ],
             [
              0.8888888888888888,
              "#fdca26"
             ],
             [
              1.0,
              "#f0f921"
             ]
            ]
           }
          ],
          "choropleth": [
           {
            "type": "choropleth",
            "colorbar": {
             "outlinewidth": 0,
             "ticks": ""
            }
           }
          ],
          "histogram2d": [
           {
            "type": "histogram2d",
            "colorbar": {
             "outlinewidth": 0,
             "ticks": ""
            },
            "colorscale": [
             [
              0.0,
              "#0d0887"
             ],
             [
              0.1111111111111111,
              "#46039f"
             ],
             [
              0.2222222222222222,
              "#7201a8"
             ],
             [
              0.3333333333333333,
              "#9c179e"
             ],
             [
              0.4444444444444444,
              "#bd3786"
             ],
             [
              0.5555555555555556,
              "#d8576b"
             ],
             [
              0.6666666666666666,
              "#ed7953"
             ],
             [
              0.7777777777777778,
              "#fb9f3a"
             ],
             [
              0.8888888888888888,
              "#fdca26"
             ],
             [
              1.0,
              "#f0f921"
             ]
            ]
           }
          ],
          "heatmap": [
           {
            "type": "heatmap",
            "colorbar": {
             "outlinewidth": 0,
             "ticks": ""
            },
            "colorscale": [
             [
              0.0,
              "#0d0887"
             ],
             [
              0.1111111111111111,
              "#46039f"
             ],
             [
              0.2222222222222222,
              "#7201a8"
             ],
             [
              0.3333333333333333,
              "#9c179e"
             ],
             [
              0.4444444444444444,
              "#bd3786"
             ],
             [
              0.5555555555555556,
              "#d8576b"
             ],
             [
              0.6666666666666666,
              "#ed7953"
             ],
             [
              0.7777777777777778,
              "#fb9f3a"
             ],
             [
              0.8888888888888888,
              "#fdca26"
             ],
             [
              1.0,
              "#f0f921"
             ]
            ]
           }
          ],
          "heatmapgl": [
           {
            "type": "heatmapgl",
            "colorbar": {
             "outlinewidth": 0,
             "ticks": ""
            },
            "colorscale": [
             [
              0.0,
              "#0d0887"
             ],
             [
              0.1111111111111111,
              "#46039f"
             ],
             [
              0.2222222222222222,
              "#7201a8"
             ],
             [
              0.3333333333333333,
              "#9c179e"
             ],
             [
              0.4444444444444444,
              "#bd3786"
             ],
             [
              0.5555555555555556,
              "#d8576b"
             ],
             [
              0.6666666666666666,
              "#ed7953"
             ],
             [
              0.7777777777777778,
              "#fb9f3a"
             ],
             [
              0.8888888888888888,
              "#fdca26"
             ],
             [
              1.0,
              "#f0f921"
             ]
            ]
           }
          ],
          "contourcarpet": [
           {
            "type": "contourcarpet",
            "colorbar": {
             "outlinewidth": 0,
             "ticks": ""
            }
           }
          ],
          "contour": [
           {
            "type": "contour",
            "colorbar": {
             "outlinewidth": 0,
             "ticks": ""
            },
            "colorscale": [
             [
              0.0,
              "#0d0887"
             ],
             [
              0.1111111111111111,
              "#46039f"
             ],
             [
              0.2222222222222222,
              "#7201a8"
             ],
             [
              0.3333333333333333,
              "#9c179e"
             ],
             [
              0.4444444444444444,
              "#bd3786"
             ],
             [
              0.5555555555555556,
              "#d8576b"
             ],
             [
              0.6666666666666666,
              "#ed7953"
             ],
             [
              0.7777777777777778,
              "#fb9f3a"
             ],
             [
              0.8888888888888888,
              "#fdca26"
             ],
             [
              1.0,
              "#f0f921"
             ]
            ]
           }
          ],
          "surface": [
           {
            "type": "surface",
            "colorbar": {
             "outlinewidth": 0,
             "ticks": ""
            },
            "colorscale": [
             [
              0.0,
              "#0d0887"
             ],
             [
              0.1111111111111111,
              "#46039f"
             ],
             [
              0.2222222222222222,
              "#7201a8"
             ],
             [
              0.3333333333333333,
              "#9c179e"
             ],
             [
              0.4444444444444444,
              "#bd3786"
             ],
             [
              0.5555555555555556,
              "#d8576b"
             ],
             [
              0.6666666666666666,
              "#ed7953"
             ],
             [
              0.7777777777777778,
              "#fb9f3a"
             ],
             [
              0.8888888888888888,
              "#fdca26"
             ],
             [
              1.0,
              "#f0f921"
             ]
            ]
           }
          ],
          "mesh3d": [
           {
            "type": "mesh3d",
            "colorbar": {
             "outlinewidth": 0,
             "ticks": ""
            }
           }
          ],
          "scatter": [
           {
            "fillpattern": {
             "fillmode": "overlay",
             "size": 10,
             "solidity": 0.2
            },
            "type": "scatter"
           }
          ],
          "parcoords": [
           {
            "type": "parcoords",
            "line": {
             "colorbar": {
              "outlinewidth": 0,
              "ticks": ""
             }
            }
           }
          ],
          "scatterpolargl": [
           {
            "type": "scatterpolargl",
            "marker": {
             "colorbar": {
              "outlinewidth": 0,
              "ticks": ""
             }
            }
           }
          ],
          "bar": [
           {
            "error_x": {
             "color": "#2a3f5f"
            },
            "error_y": {
             "color": "#2a3f5f"
            },
            "marker": {
             "line": {
              "color": "#E5ECF6",
              "width": 0.5
             },
             "pattern": {
              "fillmode": "overlay",
              "size": 10,
              "solidity": 0.2
             }
            },
            "type": "bar"
           }
          ],
          "scattergeo": [
           {
            "type": "scattergeo",
            "marker": {
             "colorbar": {
              "outlinewidth": 0,
              "ticks": ""
             }
            }
           }
          ],
          "scatterpolar": [
           {
            "type": "scatterpolar",
            "marker": {
             "colorbar": {
              "outlinewidth": 0,
              "ticks": ""
             }
            }
           }
          ],
          "histogram": [
           {
            "marker": {
             "pattern": {
              "fillmode": "overlay",
              "size": 10,
              "solidity": 0.2
             }
            },
            "type": "histogram"
           }
          ],
          "scattergl": [
           {
            "type": "scattergl",
            "marker": {
             "colorbar": {
              "outlinewidth": 0,
              "ticks": ""
             }
            }
           }
          ],
          "scatter3d": [
           {
            "type": "scatter3d",
            "line": {
             "colorbar": {
              "outlinewidth": 0,
              "ticks": ""
             }
            },
            "marker": {
             "colorbar": {
              "outlinewidth": 0,
              "ticks": ""
             }
            }
           }
          ],
          "scattermapbox": [
           {
            "type": "scattermapbox",
            "marker": {
             "colorbar": {
              "outlinewidth": 0,
              "ticks": ""
             }
            }
           }
          ],
          "scatterternary": [
           {
            "type": "scatterternary",
            "marker": {
             "colorbar": {
              "outlinewidth": 0,
              "ticks": ""
             }
            }
           }
          ],
          "scattercarpet": [
           {
            "type": "scattercarpet",
            "marker": {
             "colorbar": {
              "outlinewidth": 0,
              "ticks": ""
             }
            }
           }
          ],
          "carpet": [
           {
            "aaxis": {
             "endlinecolor": "#2a3f5f",
             "gridcolor": "white",
             "linecolor": "white",
             "minorgridcolor": "white",
             "startlinecolor": "#2a3f5f"
            },
            "baxis": {
             "endlinecolor": "#2a3f5f",
             "gridcolor": "white",
             "linecolor": "white",
             "minorgridcolor": "white",
             "startlinecolor": "#2a3f5f"
            },
            "type": "carpet"
           }
          ],
          "table": [
           {
            "cells": {
             "fill": {
              "color": "#EBF0F8"
             },
             "line": {
              "color": "white"
             }
            },
            "header": {
             "fill": {
              "color": "#C8D4E3"
             },
             "line": {
              "color": "white"
             }
            },
            "type": "table"
           }
          ],
          "barpolar": [
           {
            "marker": {
             "line": {
              "color": "#E5ECF6",
              "width": 0.5
             },
             "pattern": {
              "fillmode": "overlay",
              "size": 10,
              "solidity": 0.2
             }
            },
            "type": "barpolar"
           }
          ],
          "pie": [
           {
            "automargin": true,
            "type": "pie"
           }
          ]
         },
         "layout": {
          "autotypenumbers": "strict",
          "colorway": [
           "#636efa",
           "#EF553B",
           "#00cc96",
           "#ab63fa",
           "#FFA15A",
           "#19d3f3",
           "#FF6692",
           "#B6E880",
           "#FF97FF",
           "#FECB52"
          ],
          "font": {
           "color": "#2a3f5f"
          },
          "hovermode": "closest",
          "hoverlabel": {
           "align": "left"
          },
          "paper_bgcolor": "white",
          "plot_bgcolor": "#E5ECF6",
          "polar": {
           "bgcolor": "#E5ECF6",
           "angularaxis": {
            "gridcolor": "white",
            "linecolor": "white",
            "ticks": ""
           },
           "radialaxis": {
            "gridcolor": "white",
            "linecolor": "white",
            "ticks": ""
           }
          },
          "ternary": {
           "bgcolor": "#E5ECF6",
           "aaxis": {
            "gridcolor": "white",
            "linecolor": "white",
            "ticks": ""
           },
           "baxis": {
            "gridcolor": "white",
            "linecolor": "white",
            "ticks": ""
           },
           "caxis": {
            "gridcolor": "white",
            "linecolor": "white",
            "ticks": ""
           }
          },
          "coloraxis": {
           "colorbar": {
            "outlinewidth": 0,
            "ticks": ""
           }
          },
          "colorscale": {
           "sequential": [
            [
             0.0,
             "#0d0887"
            ],
            [
             0.1111111111111111,
             "#46039f"
            ],
            [
             0.2222222222222222,
             "#7201a8"
            ],
            [
             0.3333333333333333,
             "#9c179e"
            ],
            [
             0.4444444444444444,
             "#bd3786"
            ],
            [
             0.5555555555555556,
             "#d8576b"
            ],
            [
             0.6666666666666666,
             "#ed7953"
            ],
            [
             0.7777777777777778,
             "#fb9f3a"
            ],
            [
             0.8888888888888888,
             "#fdca26"
            ],
            [
             1.0,
             "#f0f921"
            ]
           ],
           "sequentialminus": [
            [
             0.0,
             "#0d0887"
            ],
            [
             0.1111111111111111,
             "#46039f"
            ],
            [
             0.2222222222222222,
             "#7201a8"
            ],
            [
             0.3333333333333333,
             "#9c179e"
            ],
            [
             0.4444444444444444,
             "#bd3786"
            ],
            [
             0.5555555555555556,
             "#d8576b"
            ],
            [
             0.6666666666666666,
             "#ed7953"
            ],
            [
             0.7777777777777778,
             "#fb9f3a"
            ],
            [
             0.8888888888888888,
             "#fdca26"
            ],
            [
             1.0,
             "#f0f921"
            ]
           ],
           "diverging": [
            [
             0,
             "#8e0152"
            ],
            [
             0.1,
             "#c51b7d"
            ],
            [
             0.2,
             "#de77ae"
            ],
            [
             0.3,
             "#f1b6da"
            ],
            [
             0.4,
             "#fde0ef"
            ],
            [
             0.5,
             "#f7f7f7"
            ],
            [
             0.6,
             "#e6f5d0"
            ],
            [
             0.7,
             "#b8e186"
            ],
            [
             0.8,
             "#7fbc41"
            ],
            [
             0.9,
             "#4d9221"
            ],
            [
             1,
             "#276419"
            ]
           ]
          },
          "xaxis": {
           "gridcolor": "white",
           "linecolor": "white",
           "ticks": "",
           "title": {
            "standoff": 15
           },
           "zerolinecolor": "white",
           "automargin": true,
           "zerolinewidth": 2
          },
          "yaxis": {
           "gridcolor": "white",
           "linecolor": "white",
           "ticks": "",
           "title": {
            "standoff": 15
           },
           "zerolinecolor": "white",
           "automargin": true,
           "zerolinewidth": 2
          },
          "scene": {
           "xaxis": {
            "backgroundcolor": "#E5ECF6",
            "gridcolor": "white",
            "linecolor": "white",
            "showbackground": true,
            "ticks": "",
            "zerolinecolor": "white",
            "gridwidth": 2
           },
           "yaxis": {
            "backgroundcolor": "#E5ECF6",
            "gridcolor": "white",
            "linecolor": "white",
            "showbackground": true,
            "ticks": "",
            "zerolinecolor": "white",
            "gridwidth": 2
           },
           "zaxis": {
            "backgroundcolor": "#E5ECF6",
            "gridcolor": "white",
            "linecolor": "white",
            "showbackground": true,
            "ticks": "",
            "zerolinecolor": "white",
            "gridwidth": 2
           }
          },
          "shapedefaults": {
           "line": {
            "color": "#2a3f5f"
           }
          },
          "annotationdefaults": {
           "arrowcolor": "#2a3f5f",
           "arrowhead": 0,
           "arrowwidth": 1
          },
          "geo": {
           "bgcolor": "white",
           "landcolor": "#E5ECF6",
           "subunitcolor": "white",
           "showland": true,
           "showlakes": true,
           "lakecolor": "white"
          },
          "title": {
           "x": 0.05
          },
          "mapbox": {
           "style": "light"
          }
         }
        },
        "xaxis": {
         "anchor": "y",
         "domain": [
          0.0,
          1.0
         ],
         "title": {
          "text": "C_value"
         }
        },
        "yaxis": {
         "anchor": "x",
         "domain": [
          0.0,
          1.0
         ],
         "title": {
          "text": "score"
         }
        },
        "legend": {
         "title": {
          "text": "type_score"
         },
         "tracegroupgap": 0
        },
        "margin": {
         "t": 60
        },
        "title": {
         "text": "Зависимость обучающей и тестовой точностей от параметра регуляризации C"
        }
       },
       "config": {
        "plotlyServerURL": "https://plot.ly"
       }
      },
      "text/html": "<div>                            <div id=\"16185dd9-d82e-4ccb-8987-9280aab141d1\" class=\"plotly-graph-div\" style=\"height:525px; width:100%;\"></div>            <script type=\"text/javascript\">                require([\"plotly\"], function(Plotly) {                    window.PLOTLYENV=window.PLOTLYENV || {};                                    if (document.getElementById(\"16185dd9-d82e-4ccb-8987-9280aab141d1\")) {                    Plotly.newPlot(                        \"16185dd9-d82e-4ccb-8987-9280aab141d1\",                        [{\"hovertemplate\":\"type_score=train_score<br>C_value=%{x}<br>score=%{y}<extra></extra>\",\"legendgroup\":\"train_score\",\"line\":{\"color\":\"#636efa\",\"dash\":\"solid\"},\"marker\":{\"symbol\":\"circle\"},\"mode\":\"lines\",\"name\":\"train_score\",\"orientation\":\"v\",\"showlegend\":true,\"x\":[1.0,2041.795918367347,4082.591836734694,6123.387755102041,8164.183673469388,10204.979591836734,12245.775510204083,14286.57142857143,16327.367346938776,18368.163265306124,20408.95918367347,22449.755102040817,24490.551020408166,26531.34693877551,28572.14285714286,30612.938775510203,32653.73469387755,34694.5306122449,36735.32653061225,38776.12244897959,40816.91836734694,42857.71428571429,44898.510204081635,46939.30612244898,48980.10204081633,51020.897959183676,53061.69387755102,55102.489795918365,57143.28571428572,59184.08163265306,61224.87755102041,63265.67346938776,65306.4693877551,67347.26530612246,69388.0612244898,71428.85714285714,73469.6530612245,75510.44897959183,77551.24489795919,79592.04081632654,81632.83673469388,83673.63265306123,85714.42857142858,87755.22448979592,89796.02040816327,91836.81632653062,93877.61224489796,95918.40816326531,97959.20408163266,100000.0],\"xaxis\":\"x\",\"y\":[0.8879120879120879,0.8923076923076924,0.8923076923076924,0.8989010989010989,0.8989010989010989,0.8989010989010989,0.8967032967032967,0.8989010989010989,0.8901098901098901,0.8901098901098901,0.8901098901098901,0.8901098901098901,0.8901098901098901,0.8967032967032967,0.8945054945054945,0.8967032967032967,0.8901098901098901,0.8967032967032967,0.8945054945054945,0.8989010989010989,0.8967032967032967,0.8945054945054945,0.8967032967032967,0.8967032967032967,0.8989010989010989,0.8967032967032967,0.8923076923076924,0.8967032967032967,0.8967032967032967,0.8967032967032967,0.8923076923076924,0.8989010989010989,0.8923076923076924,0.8967032967032967,0.8967032967032967,0.8989010989010989,0.8923076923076924,0.8967032967032967,0.8967032967032967,0.8945054945054945,0.8901098901098901,0.8967032967032967,0.8967032967032967,0.8989010989010989,0.8945054945054945,0.8945054945054945,0.8967032967032967,0.8989010989010989,0.8967032967032967,0.8967032967032967],\"yaxis\":\"y\",\"type\":\"scatter\"},{\"hovertemplate\":\"type_score=test_score<br>C_value=%{x}<br>score=%{y}<extra></extra>\",\"legendgroup\":\"test_score\",\"line\":{\"color\":\"#EF553B\",\"dash\":\"solid\"},\"marker\":{\"symbol\":\"circle\"},\"mode\":\"lines\",\"name\":\"test_score\",\"orientation\":\"v\",\"showlegend\":true,\"x\":[1.0,2041.795918367347,4082.591836734694,6123.387755102041,8164.183673469388,10204.979591836734,12245.775510204083,14286.57142857143,16327.367346938776,18368.163265306124,20408.95918367347,22449.755102040817,24490.551020408166,26531.34693877551,28572.14285714286,30612.938775510203,32653.73469387755,34694.5306122449,36735.32653061225,38776.12244897959,40816.91836734694,42857.71428571429,44898.510204081635,46939.30612244898,48980.10204081633,51020.897959183676,53061.69387755102,55102.489795918365,57143.28571428572,59184.08163265306,61224.87755102041,63265.67346938776,65306.4693877551,67347.26530612246,69388.0612244898,71428.85714285714,73469.6530612245,75510.44897959183,77551.24489795919,79592.04081632654,81632.83673469388,83673.63265306123,85714.42857142858,87755.22448979592,89796.02040816327,91836.81632653062,93877.61224489796,95918.40816326531,97959.20408163266,100000.0],\"xaxis\":\"x\",\"y\":[0.8947368421052632,0.8947368421052632,0.8947368421052632,0.8947368421052632,0.8947368421052632,0.9035087719298246,0.8947368421052632,0.8947368421052632,0.8947368421052632,0.8947368421052632,0.8947368421052632,0.8947368421052632,0.8947368421052632,0.8947368421052632,0.8859649122807017,0.8859649122807017,0.8947368421052632,0.8859649122807017,0.8859649122807017,0.8947368421052632,0.8859649122807017,0.8859649122807017,0.8947368421052632,0.8947368421052632,0.8947368421052632,0.8947368421052632,0.8947368421052632,0.8859649122807017,0.8947368421052632,0.8947368421052632,0.8947368421052632,0.8859649122807017,0.8947368421052632,0.8947368421052632,0.8947368421052632,0.8947368421052632,0.8947368421052632,0.8947368421052632,0.8859649122807017,0.8771929824561403,0.8947368421052632,0.8859649122807017,0.8947368421052632,0.8947368421052632,0.8859649122807017,0.8947368421052632,0.8771929824561403,0.8947368421052632,0.8947368421052632,0.8771929824561403],\"yaxis\":\"y\",\"type\":\"scatter\"}],                        {\"template\":{\"data\":{\"histogram2dcontour\":[{\"type\":\"histogram2dcontour\",\"colorbar\":{\"outlinewidth\":0,\"ticks\":\"\"},\"colorscale\":[[0.0,\"#0d0887\"],[0.1111111111111111,\"#46039f\"],[0.2222222222222222,\"#7201a8\"],[0.3333333333333333,\"#9c179e\"],[0.4444444444444444,\"#bd3786\"],[0.5555555555555556,\"#d8576b\"],[0.6666666666666666,\"#ed7953\"],[0.7777777777777778,\"#fb9f3a\"],[0.8888888888888888,\"#fdca26\"],[1.0,\"#f0f921\"]]}],\"choropleth\":[{\"type\":\"choropleth\",\"colorbar\":{\"outlinewidth\":0,\"ticks\":\"\"}}],\"histogram2d\":[{\"type\":\"histogram2d\",\"colorbar\":{\"outlinewidth\":0,\"ticks\":\"\"},\"colorscale\":[[0.0,\"#0d0887\"],[0.1111111111111111,\"#46039f\"],[0.2222222222222222,\"#7201a8\"],[0.3333333333333333,\"#9c179e\"],[0.4444444444444444,\"#bd3786\"],[0.5555555555555556,\"#d8576b\"],[0.6666666666666666,\"#ed7953\"],[0.7777777777777778,\"#fb9f3a\"],[0.8888888888888888,\"#fdca26\"],[1.0,\"#f0f921\"]]}],\"heatmap\":[{\"type\":\"heatmap\",\"colorbar\":{\"outlinewidth\":0,\"ticks\":\"\"},\"colorscale\":[[0.0,\"#0d0887\"],[0.1111111111111111,\"#46039f\"],[0.2222222222222222,\"#7201a8\"],[0.3333333333333333,\"#9c179e\"],[0.4444444444444444,\"#bd3786\"],[0.5555555555555556,\"#d8576b\"],[0.6666666666666666,\"#ed7953\"],[0.7777777777777778,\"#fb9f3a\"],[0.8888888888888888,\"#fdca26\"],[1.0,\"#f0f921\"]]}],\"heatmapgl\":[{\"type\":\"heatmapgl\",\"colorbar\":{\"outlinewidth\":0,\"ticks\":\"\"},\"colorscale\":[[0.0,\"#0d0887\"],[0.1111111111111111,\"#46039f\"],[0.2222222222222222,\"#7201a8\"],[0.3333333333333333,\"#9c179e\"],[0.4444444444444444,\"#bd3786\"],[0.5555555555555556,\"#d8576b\"],[0.6666666666666666,\"#ed7953\"],[0.7777777777777778,\"#fb9f3a\"],[0.8888888888888888,\"#fdca26\"],[1.0,\"#f0f921\"]]}],\"contourcarpet\":[{\"type\":\"contourcarpet\",\"colorbar\":{\"outlinewidth\":0,\"ticks\":\"\"}}],\"contour\":[{\"type\":\"contour\",\"colorbar\":{\"outlinewidth\":0,\"ticks\":\"\"},\"colorscale\":[[0.0,\"#0d0887\"],[0.1111111111111111,\"#46039f\"],[0.2222222222222222,\"#7201a8\"],[0.3333333333333333,\"#9c179e\"],[0.4444444444444444,\"#bd3786\"],[0.5555555555555556,\"#d8576b\"],[0.6666666666666666,\"#ed7953\"],[0.7777777777777778,\"#fb9f3a\"],[0.8888888888888888,\"#fdca26\"],[1.0,\"#f0f921\"]]}],\"surface\":[{\"type\":\"surface\",\"colorbar\":{\"outlinewidth\":0,\"ticks\":\"\"},\"colorscale\":[[0.0,\"#0d0887\"],[0.1111111111111111,\"#46039f\"],[0.2222222222222222,\"#7201a8\"],[0.3333333333333333,\"#9c179e\"],[0.4444444444444444,\"#bd3786\"],[0.5555555555555556,\"#d8576b\"],[0.6666666666666666,\"#ed7953\"],[0.7777777777777778,\"#fb9f3a\"],[0.8888888888888888,\"#fdca26\"],[1.0,\"#f0f921\"]]}],\"mesh3d\":[{\"type\":\"mesh3d\",\"colorbar\":{\"outlinewidth\":0,\"ticks\":\"\"}}],\"scatter\":[{\"fillpattern\":{\"fillmode\":\"overlay\",\"size\":10,\"solidity\":0.2},\"type\":\"scatter\"}],\"parcoords\":[{\"type\":\"parcoords\",\"line\":{\"colorbar\":{\"outlinewidth\":0,\"ticks\":\"\"}}}],\"scatterpolargl\":[{\"type\":\"scatterpolargl\",\"marker\":{\"colorbar\":{\"outlinewidth\":0,\"ticks\":\"\"}}}],\"bar\":[{\"error_x\":{\"color\":\"#2a3f5f\"},\"error_y\":{\"color\":\"#2a3f5f\"},\"marker\":{\"line\":{\"color\":\"#E5ECF6\",\"width\":0.5},\"pattern\":{\"fillmode\":\"overlay\",\"size\":10,\"solidity\":0.2}},\"type\":\"bar\"}],\"scattergeo\":[{\"type\":\"scattergeo\",\"marker\":{\"colorbar\":{\"outlinewidth\":0,\"ticks\":\"\"}}}],\"scatterpolar\":[{\"type\":\"scatterpolar\",\"marker\":{\"colorbar\":{\"outlinewidth\":0,\"ticks\":\"\"}}}],\"histogram\":[{\"marker\":{\"pattern\":{\"fillmode\":\"overlay\",\"size\":10,\"solidity\":0.2}},\"type\":\"histogram\"}],\"scattergl\":[{\"type\":\"scattergl\",\"marker\":{\"colorbar\":{\"outlinewidth\":0,\"ticks\":\"\"}}}],\"scatter3d\":[{\"type\":\"scatter3d\",\"line\":{\"colorbar\":{\"outlinewidth\":0,\"ticks\":\"\"}},\"marker\":{\"colorbar\":{\"outlinewidth\":0,\"ticks\":\"\"}}}],\"scattermapbox\":[{\"type\":\"scattermapbox\",\"marker\":{\"colorbar\":{\"outlinewidth\":0,\"ticks\":\"\"}}}],\"scatterternary\":[{\"type\":\"scatterternary\",\"marker\":{\"colorbar\":{\"outlinewidth\":0,\"ticks\":\"\"}}}],\"scattercarpet\":[{\"type\":\"scattercarpet\",\"marker\":{\"colorbar\":{\"outlinewidth\":0,\"ticks\":\"\"}}}],\"carpet\":[{\"aaxis\":{\"endlinecolor\":\"#2a3f5f\",\"gridcolor\":\"white\",\"linecolor\":\"white\",\"minorgridcolor\":\"white\",\"startlinecolor\":\"#2a3f5f\"},\"baxis\":{\"endlinecolor\":\"#2a3f5f\",\"gridcolor\":\"white\",\"linecolor\":\"white\",\"minorgridcolor\":\"white\",\"startlinecolor\":\"#2a3f5f\"},\"type\":\"carpet\"}],\"table\":[{\"cells\":{\"fill\":{\"color\":\"#EBF0F8\"},\"line\":{\"color\":\"white\"}},\"header\":{\"fill\":{\"color\":\"#C8D4E3\"},\"line\":{\"color\":\"white\"}},\"type\":\"table\"}],\"barpolar\":[{\"marker\":{\"line\":{\"color\":\"#E5ECF6\",\"width\":0.5},\"pattern\":{\"fillmode\":\"overlay\",\"size\":10,\"solidity\":0.2}},\"type\":\"barpolar\"}],\"pie\":[{\"automargin\":true,\"type\":\"pie\"}]},\"layout\":{\"autotypenumbers\":\"strict\",\"colorway\":[\"#636efa\",\"#EF553B\",\"#00cc96\",\"#ab63fa\",\"#FFA15A\",\"#19d3f3\",\"#FF6692\",\"#B6E880\",\"#FF97FF\",\"#FECB52\"],\"font\":{\"color\":\"#2a3f5f\"},\"hovermode\":\"closest\",\"hoverlabel\":{\"align\":\"left\"},\"paper_bgcolor\":\"white\",\"plot_bgcolor\":\"#E5ECF6\",\"polar\":{\"bgcolor\":\"#E5ECF6\",\"angularaxis\":{\"gridcolor\":\"white\",\"linecolor\":\"white\",\"ticks\":\"\"},\"radialaxis\":{\"gridcolor\":\"white\",\"linecolor\":\"white\",\"ticks\":\"\"}},\"ternary\":{\"bgcolor\":\"#E5ECF6\",\"aaxis\":{\"gridcolor\":\"white\",\"linecolor\":\"white\",\"ticks\":\"\"},\"baxis\":{\"gridcolor\":\"white\",\"linecolor\":\"white\",\"ticks\":\"\"},\"caxis\":{\"gridcolor\":\"white\",\"linecolor\":\"white\",\"ticks\":\"\"}},\"coloraxis\":{\"colorbar\":{\"outlinewidth\":0,\"ticks\":\"\"}},\"colorscale\":{\"sequential\":[[0.0,\"#0d0887\"],[0.1111111111111111,\"#46039f\"],[0.2222222222222222,\"#7201a8\"],[0.3333333333333333,\"#9c179e\"],[0.4444444444444444,\"#bd3786\"],[0.5555555555555556,\"#d8576b\"],[0.6666666666666666,\"#ed7953\"],[0.7777777777777778,\"#fb9f3a\"],[0.8888888888888888,\"#fdca26\"],[1.0,\"#f0f921\"]],\"sequentialminus\":[[0.0,\"#0d0887\"],[0.1111111111111111,\"#46039f\"],[0.2222222222222222,\"#7201a8\"],[0.3333333333333333,\"#9c179e\"],[0.4444444444444444,\"#bd3786\"],[0.5555555555555556,\"#d8576b\"],[0.6666666666666666,\"#ed7953\"],[0.7777777777777778,\"#fb9f3a\"],[0.8888888888888888,\"#fdca26\"],[1.0,\"#f0f921\"]],\"diverging\":[[0,\"#8e0152\"],[0.1,\"#c51b7d\"],[0.2,\"#de77ae\"],[0.3,\"#f1b6da\"],[0.4,\"#fde0ef\"],[0.5,\"#f7f7f7\"],[0.6,\"#e6f5d0\"],[0.7,\"#b8e186\"],[0.8,\"#7fbc41\"],[0.9,\"#4d9221\"],[1,\"#276419\"]]},\"xaxis\":{\"gridcolor\":\"white\",\"linecolor\":\"white\",\"ticks\":\"\",\"title\":{\"standoff\":15},\"zerolinecolor\":\"white\",\"automargin\":true,\"zerolinewidth\":2},\"yaxis\":{\"gridcolor\":\"white\",\"linecolor\":\"white\",\"ticks\":\"\",\"title\":{\"standoff\":15},\"zerolinecolor\":\"white\",\"automargin\":true,\"zerolinewidth\":2},\"scene\":{\"xaxis\":{\"backgroundcolor\":\"#E5ECF6\",\"gridcolor\":\"white\",\"linecolor\":\"white\",\"showbackground\":true,\"ticks\":\"\",\"zerolinecolor\":\"white\",\"gridwidth\":2},\"yaxis\":{\"backgroundcolor\":\"#E5ECF6\",\"gridcolor\":\"white\",\"linecolor\":\"white\",\"showbackground\":true,\"ticks\":\"\",\"zerolinecolor\":\"white\",\"gridwidth\":2},\"zaxis\":{\"backgroundcolor\":\"#E5ECF6\",\"gridcolor\":\"white\",\"linecolor\":\"white\",\"showbackground\":true,\"ticks\":\"\",\"zerolinecolor\":\"white\",\"gridwidth\":2}},\"shapedefaults\":{\"line\":{\"color\":\"#2a3f5f\"}},\"annotationdefaults\":{\"arrowcolor\":\"#2a3f5f\",\"arrowhead\":0,\"arrowwidth\":1},\"geo\":{\"bgcolor\":\"white\",\"landcolor\":\"#E5ECF6\",\"subunitcolor\":\"white\",\"showland\":true,\"showlakes\":true,\"lakecolor\":\"white\"},\"title\":{\"x\":0.05},\"mapbox\":{\"style\":\"light\"}}},\"xaxis\":{\"anchor\":\"y\",\"domain\":[0.0,1.0],\"title\":{\"text\":\"C_value\"}},\"yaxis\":{\"anchor\":\"x\",\"domain\":[0.0,1.0],\"title\":{\"text\":\"score\"}},\"legend\":{\"title\":{\"text\":\"type_score\"},\"tracegroupgap\":0},\"margin\":{\"t\":60},\"title\":{\"text\":\"\\u0417\\u0430\\u0432\\u0438\\u0441\\u0438\\u043c\\u043e\\u0441\\u0442\\u044c \\u043e\\u0431\\u0443\\u0447\\u0430\\u044e\\u0449\\u0435\\u0439 \\u0438 \\u0442\\u0435\\u0441\\u0442\\u043e\\u0432\\u043e\\u0439 \\u0442\\u043e\\u0447\\u043d\\u043e\\u0441\\u0442\\u0435\\u0439 \\u043e\\u0442 \\u043f\\u0430\\u0440\\u0430\\u043c\\u0435\\u0442\\u0440\\u0430 \\u0440\\u0435\\u0433\\u0443\\u043b\\u044f\\u0440\\u0438\\u0437\\u0430\\u0446\\u0438\\u0438 C\"}},                        {\"responsive\": true}                    ).then(function(){\n                            \nvar gd = document.getElementById('16185dd9-d82e-4ccb-8987-9280aab141d1');\nvar x = new MutationObserver(function (mutations, observer) {{\n        var display = window.getComputedStyle(gd).display;\n        if (!display || display === 'none') {{\n            console.log([gd, 'removed!']);\n            Plotly.purge(gd);\n            observer.disconnect();\n        }}\n}});\n\n// Listen for the removal of the full notebook cells\nvar notebookContainer = gd.closest('#notebook-container');\nif (notebookContainer) {{\n    x.observe(notebookContainer, {childList: true});\n}}\n\n// Listen for the clearing of the current output cell\nvar outputEl = gd.closest('.output');\nif (outputEl) {{\n    x.observe(outputEl, {childList: true});\n}}\n\n                        })                };                });            </script>        </div>"
     },
     "metadata": {},
     "output_type": "display_data"
    }
   ],
   "source": [
    "fig = px.line(df, x='C_value', y='score', color='type_score')\n",
    "fig['layout'].update(title_text='Зависимость обучающей и тестовой точностей от параметра регуляризации C')\n",
    "fig.show()"
   ],
   "metadata": {
    "collapsed": false,
    "pycharm": {
     "name": "#%%\n"
    }
   }
  },
  {
   "cell_type": "markdown",
   "source": [
    "##### Найдём методом подбора оптимальное значение параметра регуляризации"
   ],
   "metadata": {
    "collapsed": false,
    "pycharm": {
     "name": "#%% md\n"
    }
   }
  },
  {
   "cell_type": "code",
   "execution_count": 84,
   "outputs": [
    {
     "name": "stdout",
     "output_type": "stream",
     "text": [
      "(9.9, 0.8947368421052632, 0.8879120879120879)\n"
     ]
    }
   ],
   "source": [
    "results = []\n",
    "for i in range(1,100):\n",
    "    value = i * 0.1\n",
    "    clf = SVC(kernel='linear', C=value)\n",
    "    clf.fit(x_train, y_train)\n",
    "    test_acc = clf.score(x_test, y_test)\n",
    "    train_acc = clf.score(x_train, y_train)\n",
    "    results.append((value, test_acc, train_acc))\n",
    "\n",
    "results.sort(key=lambda x: x[2])\n",
    "print(results[-1])"
   ],
   "metadata": {
    "collapsed": false,
    "pycharm": {
     "name": "#%%\n"
    }
   }
  },
  {
   "cell_type": "code",
   "execution_count": 85,
   "outputs": [
    {
     "name": "stdout",
     "output_type": "stream",
     "text": [
      "Результат обучения на обучающей выборке:  0.8879120879120879\n",
      "Результат обучения на тестовой выборке:  0.8947368421052632\n"
     ]
    }
   ],
   "source": [
    "clf = SVC(kernel='linear', C=9.9)\n",
    "clf.fit(x_train, y_train)\n",
    "print('Результат обучения на обучающей выборке: ', clf.score(x_train, y_train))\n",
    "print('Результат обучения на тестовой выборке: ', clf.score(x_test, y_test))"
   ],
   "metadata": {
    "collapsed": false,
    "pycharm": {
     "name": "#%%\n"
    }
   }
  },
  {
   "cell_type": "markdown",
   "source": [
    "#### Вывод\n",
    "##### Две последние модели практически одинаковые, в целом отличий характерных между ними замечено не было в процессе работы с регуляризацией моделей и анализа на предмет недо- и переобученности"
   ],
   "metadata": {
    "collapsed": false,
    "pycharm": {
     "name": "#%% md\n"
    }
   }
  },
  {
   "cell_type": "code",
   "execution_count": null,
   "outputs": [],
   "source": [],
   "metadata": {
    "collapsed": false,
    "pycharm": {
     "name": "#%%\n"
    }
   }
  }
 ],
 "metadata": {
  "kernelspec": {
   "display_name": "Python 3",
   "language": "python",
   "name": "python3"
  },
  "language_info": {
   "codemirror_mode": {
    "name": "ipython",
    "version": 2
   },
   "file_extension": ".py",
   "mimetype": "text/x-python",
   "name": "python",
   "nbconvert_exporter": "python",
   "pygments_lexer": "ipython2",
   "version": "2.7.6"
  }
 },
 "nbformat": 4,
 "nbformat_minor": 0
}