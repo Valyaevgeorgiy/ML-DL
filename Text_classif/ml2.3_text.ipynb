{
 "cells": [
  {
   "cell_type": "markdown",
   "source": [
    "## Лабораторная работа № 9. Классификация текстов.\n",
    "### (Валяев Георгий, ПИ20-6)"
   ],
   "metadata": {
    "collapsed": false,
    "pycharm": {
     "name": "#%% md\n"
    }
   }
  },
  {
   "cell_type": "code",
   "execution_count": 64,
   "outputs": [],
   "source": [
    "import matplotlib.pyplot as plt\n",
    "import pandas as pd, random, seaborn as sns, numpy as np\n",
    "import sklearn.metrics as metrics\n",
    "from sklearn.feature_extraction.text import CountVectorizer\n",
    "from sklearn.datasets import fetch_20newsgroups\n",
    "from sklearn.model_selection import learning_curve\n",
    "from sklearn.naive_bayes import MultinomialNB"
   ],
   "metadata": {
    "collapsed": false,
    "pycharm": {
     "name": "#%%\n"
    }
   }
  },
  {
   "cell_type": "markdown",
   "source": [
    "### Задания для выполнения"
   ],
   "metadata": {
    "collapsed": false,
    "pycharm": {
     "name": "#%% md\n"
    }
   }
  },
  {
   "cell_type": "markdown",
   "source": [
    "##### 1. Загрузите датасет 20 newsgroups;\n",
    "##### 2. Познакомьтесь с описанием и структурой датасета. Описание можно найти в документации."
   ],
   "metadata": {
    "collapsed": false,
    "pycharm": {
     "name": "#%% md\n"
    }
   }
  },
  {
   "cell_type": "code",
   "execution_count": 2,
   "outputs": [
    {
     "name": "stdout",
     "output_type": "stream",
     "text": [
      "Основные ключи с информацией от датасета:\n",
      "data          filenames          target_names          target          DESCR\n"
     ]
    }
   ],
   "source": [
    "news = fetch_20newsgroups(subset=\"all\")\n",
    "print(f\"Основные ключи с информацией от датасета:\\n{'          '.join(list(news.keys()))}\")"
   ],
   "metadata": {
    "collapsed": false,
    "pycharm": {
     "name": "#%%\n"
    }
   }
  },
  {
   "cell_type": "code",
   "execution_count": 3,
   "outputs": [],
   "source": [
    "#with open('data/dataset_info.txt', 'w+', encoding='utf-8') as file:\n",
    "#    file.write(news.DESCR)"
   ],
   "metadata": {
    "collapsed": false,
    "pycharm": {
     "name": "#%%\n"
    }
   }
  },
  {
   "cell_type": "markdown",
   "source": [
    "The 20 newsgroups text dataset\n",
    "------------------------------\n",
    "\n",
    "The 20 newsgroups dataset comprises around 18000 newsgroups posts on\n",
    "20 topics split in two subsets: one for training (or development)\n",
    "and the other one for testing (or for performance evaluation). The split\n",
    "between the train and test set is based upon a messages posted before\n",
    "and after a specific date.\n",
    "\n",
    "This module contains two loaders. The first one,\n",
    ":func:`sklearn.datasets.fetch_20newsgroups`,\n",
    "returns a list of the raw texts that can be fed to text feature\n",
    "extractors such as :class:`~sklearn.feature_extraction.text.CountVectorizer`\n",
    "with custom parameters so as to extract feature vectors.\n",
    "The second one, :func:`sklearn.datasets.fetch_20newsgroups_vectorized`,\n",
    "returns ready-to-use features, i.e., it is not necessary to use a feature\n",
    "extractor.\n",
    "\n",
    "**Data Set Characteristics:**\n",
    "\n",
    "    =================   ==========\n",
    "    Classes                     20\n",
    "    Samples total            18846\n",
    "    Dimensionality               1\n",
    "    Features                  text\n",
    "    =================   ==========\n",
    "\n",
    "Usage\n",
    "~~~~~\n",
    "\n",
    "The :func:`sklearn.datasets.fetch_20newsgroups` function is a data\n",
    "fetching / caching functions that downloads the data archive from\n",
    "the original `20 newsgroups website`_, extracts the archive contents\n",
    "in the ``~/scikit_learn_data/20news_home`` folder and calls the\n",
    ":func:`sklearn.datasets.load_files` on either the training or\n",
    "testing set folder, or both of them::\n",
    "\n",
    "  >>> from sklearn.datasets import fetch_20newsgroups\n",
    "  >>> newsgroups_train = fetch_20newsgroups(subset='train')\n",
    "\n",
    "  >>> from pprint import pprint\n",
    "  >>> pprint(list(newsgroups_train.target_names))\n",
    "  ['alt.atheism',\n",
    "   'comp.graphics',\n",
    "   'comp.os.ms-windows.misc',\n",
    "   'comp.sys.ibm.pc.hardware',\n",
    "   'comp.sys.mac.hardware',\n",
    "   'comp.windows.x',\n",
    "   'misc.forsale',\n",
    "   'rec.autos',\n",
    "   'rec.motorcycles',\n",
    "   'rec.sport.baseball',\n",
    "   'rec.sport.hockey',\n",
    "   'sci.crypt',\n",
    "   'sci.electronics',\n",
    "   'sci.med',\n",
    "   'sci.space',\n",
    "   'soc.religion.christian',\n",
    "   'talk.politics.guns',\n",
    "   'talk.politics.mideast',\n",
    "   'talk.politics.misc',\n",
    "   'talk.religion.misc']\n",
    "\n",
    "The real data lies in the ``filenames`` and ``target`` attributes. The target\n",
    "attribute is the integer index of the category::\n",
    "\n",
    "  >>> newsgroups_train.filenames.shape\n",
    "  (11314,)\n",
    "  >>> newsgroups_train.target.shape\n",
    "  (11314,)\n",
    "  >>> newsgroups_train.target[:10]\n",
    "  array([ 7,  4,  4,  1, 14, 16, 13,  3,  2,  4])\n",
    "\n",
    "It is possible to load only a sub-selection of the categories by passing the\n",
    "list of the categories to load to the\n",
    ":func:`sklearn.datasets.fetch_20newsgroups` function::\n",
    "\n",
    "  >>> cats = ['alt.atheism', 'sci.space']\n",
    "  >>> newsgroups_train = fetch_20newsgroups(subset='train', categories=cats)\n",
    "\n",
    "  >>> list(newsgroups_train.target_names)\n",
    "  ['alt.atheism', 'sci.space']\n",
    "  >>> newsgroups_train.filenames.shape\n",
    "  (1073,)\n",
    "  >>> newsgroups_train.target.shape\n",
    "  (1073,)\n",
    "  >>> newsgroups_train.target[:10]\n",
    "  array([0, 1, 1, 1, 0, 1, 1, 0, 0, 0])\n",
    "\n",
    "Converting text to vectors\n",
    "~~~~~~~~~~~~~~~~~~~~~~~~~~\n",
    "\n",
    "In order to feed predictive or clustering models with the text data,\n",
    "one first need to turn the text into vectors of numerical values suitable\n",
    "for statistical analysis. This can be achieved with the utilities of the\n",
    "``sklearn.feature_extraction.text`` as demonstrated in the following\n",
    "example that extract `TF-IDF`_ vectors of unigram tokens\n",
    "from a subset of 20news::\n",
    "\n",
    "  >>> from sklearn.feature_extraction.text import TfidfVectorizer\n",
    "  >>> categories = ['alt.atheism', 'talk.religion.misc',\n",
    "  ...               'comp.graphics', 'sci.space']\n",
    "  >>> newsgroups_train = fetch_20newsgroups(subset='train',\n",
    "  ...                                       categories=categories)\n",
    "  >>> vectorizer = TfidfVectorizer()\n",
    "  >>> vectors = vectorizer.fit_transform(newsgroups_train.data)\n",
    "  >>> vectors.shape\n",
    "  (2034, 34118)\n",
    "\n",
    "The extracted TF-IDF vectors are very sparse, with an average of 159 non-zero\n",
    "components by sample in a more than 30000-dimensional space\n",
    "(less than .5% non-zero features)::\n",
    "\n",
    "  >>> vectors.nnz / float(vectors.shape[0])\n",
    "  159.01327...\n",
    "\n",
    ":func:`sklearn.datasets.fetch_20newsgroups_vectorized` is a function which\n",
    "returns ready-to-use token counts features instead of file names.\n",
    "\n",
    ".. _`20 newsgroups website`: http://people.csail.mit.edu/jrennie/20Newsgroups/\n",
    ".. _`TF-IDF`: https://en.wikipedia.org/wiki/Tf-idf\n",
    "\n",
    "\n",
    "Filtering text for more realistic training\n",
    "~~~~~~~~~~~~~~~~~~~~~~~~~~~~~~~~~~~~~~~~~~\n",
    "\n",
    "It is easy for a classifier to overfit on particular things that appear in the\n",
    "20 Newsgroups data, such as newsgroup headers. Many classifiers achieve very\n",
    "high F-scores, but their results would not generalize to other documents that\n",
    "aren't from this window of time.\n",
    "\n",
    "For example, let's look at the results of a multinomial Naive Bayes classifier,\n",
    "which is fast to train and achieves a decent F-score::\n",
    "\n",
    "  >>> from sklearn.naive_bayes import MultinomialNB\n",
    "  >>> from sklearn import metrics\n",
    "  >>> newsgroups_test = fetch_20newsgroups(subset='test',\n",
    "  ...                                      categories=categories)\n",
    "  >>> vectors_test = vectorizer.transform(newsgroups_test.data)\n",
    "  >>> clf = MultinomialNB(alpha=.01)\n",
    "  >>> clf.fit(vectors, newsgroups_train.target)\n",
    "  MultinomialNB(alpha=0.01, class_prior=None, fit_prior=True)\n",
    "\n",
    "  >>> pred = clf.predict(vectors_test)\n",
    "  >>> metrics.f1_score(newsgroups_test.target, pred, average='macro')\n",
    "  0.88213...\n",
    "\n",
    "(The example :ref:`sphx_glr_auto_examples_text_plot_document_classification_20newsgroups.py` shuffles\n",
    "the training and test data, instead of segmenting by time, and in that case\n",
    "multinomial Naive Bayes gets a much higher F-score of 0.88. Are you suspicious\n",
    "yet of what's going on inside this classifier?)\n",
    "\n",
    "Let's take a look at what the most informative features are:\n",
    "\n",
    "  >>> import numpy as np\n",
    "  >>> def show_top10(classifier, vectorizer, categories):\n",
    "  ...     feature_names = np.asarray(vectorizer.get_feature_names())\n",
    "  ...     for i, category in enumerate(categories):\n",
    "  ...         top10 = np.argsort(classifier.coef_[i])[-10:]\n",
    "  ...         print(\"%s: %s\" % (category, \" \".join(feature_names[top10])))\n",
    "  ...\n",
    "  >>> show_top10(clf, vectorizer, newsgroups_train.target_names)\n",
    "  alt.atheism: edu it and in you that is of to the\n",
    "  comp.graphics: edu in graphics it is for and of to the\n",
    "  sci.space: edu it that is in and space to of the\n",
    "  talk.religion.misc: not it you in is that and to of the\n",
    "\n",
    "\n",
    "You can now see many things that these features have overfit to:\n",
    "\n",
    "- Almost every group is distinguished by whether headers such as\n",
    "  ``NNTP-Posting-Host:`` and ``Distribution:`` appear more or less often.\n",
    "- Another significant feature involves whether the sender is affiliated with\n",
    "  a university, as indicated either by their headers or their signature.\n",
    "- The word \"article\" is a significant feature, based on how often people quote\n",
    "  previous posts like this: \"In article [article ID], [name] <[e-mail address]>\n",
    "  wrote:\"\n",
    "- Other features match the names and e-mail addresses of particular people who\n",
    "  were posting at the time.\n",
    "\n",
    "With such an abundance of clues that distinguish newsgroups, the classifiers\n",
    "barely have to identify topics from text at all, and they all perform at the\n",
    "same high level.\n",
    "\n",
    "For this reason, the functions that load 20 Newsgroups data provide a\n",
    "parameter called **remove**, telling it what kinds of information to strip out\n",
    "of each file. **remove** should be a tuple containing any subset of\n",
    "``('headers', 'footers', 'quotes')``, telling it to remove headers, signature\n",
    "blocks, and quotation blocks respectively.\n",
    "\n",
    "  >>> newsgroups_test = fetch_20newsgroups(subset='test',\n",
    "  ...                                      remove=('headers', 'footers', 'quotes'),\n",
    "  ...                                      categories=categories)\n",
    "  >>> vectors_test = vectorizer.transform(newsgroups_test.data)\n",
    "  >>> pred = clf.predict(vectors_test)\n",
    "  >>> metrics.f1_score(pred, newsgroups_test.target, average='macro')\n",
    "  0.77310...\n",
    "\n",
    "This classifier lost over a lot of its F-score, just because we removed\n",
    "metadata that has little to do with topic classification.\n",
    "It loses even more if we also strip this metadata from the training data:\n",
    "\n",
    "  >>> newsgroups_train = fetch_20newsgroups(subset='train',\n",
    "  ...                                       remove=('headers', 'footers', 'quotes'),\n",
    "  ...                                       categories=categories)\n",
    "  >>> vectors = vectorizer.fit_transform(newsgroups_train.data)\n",
    "  >>> clf = MultinomialNB(alpha=.01)\n",
    "  >>> clf.fit(vectors, newsgroups_train.target)\n",
    "  MultinomialNB(alpha=0.01, class_prior=None, fit_prior=True)\n",
    "\n",
    "  >>> vectors_test = vectorizer.transform(newsgroups_test.data)\n",
    "  >>> pred = clf.predict(vectors_test)\n",
    "  >>> metrics.f1_score(newsgroups_test.target, pred, average='macro')\n",
    "  0.76995...\n",
    "\n",
    "Some other classifiers cope better with this harder version of the task. Try\n",
    "running :ref:`sphx_glr_auto_examples_model_selection_grid_search_text_feature_extraction.py` with and without\n",
    "the ``--filter`` option to compare the results.\n",
    "\n",
    ".. topic:: Recommendation\n",
    "\n",
    "  When evaluating text classifiers on the 20 Newsgroups data, you\n",
    "  should strip newsgroup-related metadata. In scikit-learn, you can do this by\n",
    "  setting ``remove=('headers', 'footers', 'quotes')``. The F-score will be\n",
    "  lower because it is more realistic.\n",
    "\n",
    ".. topic:: Examples\n",
    "\n",
    "   * :ref:`sphx_glr_auto_examples_model_selection_grid_search_text_feature_extraction.py`\n",
    "\n",
    "   * :ref:`sphx_glr_auto_examples_text_plot_document_classification_20newsgroups.py`"
   ],
   "metadata": {
    "collapsed": false,
    "pycharm": {
     "name": "#%% md\n"
    }
   }
  },
  {
   "cell_type": "markdown",
   "source": [
    "##### 3. Выведите информацию о количественных параметрах датасета"
   ],
   "metadata": {
    "collapsed": false,
    "pycharm": {
     "name": "#%% md\n"
    }
   }
  },
  {
   "cell_type": "code",
   "execution_count": 19,
   "outputs": [],
   "source": [
    "dataframe_train = fetch_20newsgroups(subset='train')\n",
    "dataframe_test = fetch_20newsgroups(subset='test')"
   ],
   "metadata": {
    "collapsed": false,
    "pycharm": {
     "name": "#%%\n"
    }
   }
  },
  {
   "cell_type": "markdown",
   "source": [
    "##### Test датасет"
   ],
   "metadata": {
    "collapsed": false,
    "pycharm": {
     "name": "#%% md\n"
    }
   }
  },
  {
   "cell_type": "code",
   "execution_count": 20,
   "outputs": [
    {
     "name": "stdout",
     "output_type": "stream",
     "text": [
      "Размер поля filenames: (7532,).\n",
      "Размер поля target: (7532,).\n",
      "\n",
      "Пример данных из поля target: [ 7  5  0 17 19 13 15 15  5  1].\n",
      "\n",
      "Пример данных из поля data:\n",
      "\n",
      " From: walkerr@aspen.WPI.EDU (Robert A Walker)\n",
      "Subject: Re: BRONCOS\n",
      "Organization: Worcester Polytechnic Institute\n",
      "Lines: 34\n",
      "Distribution: world\n",
      "NNTP-Posting-Host: aspen.wpi.edu\n",
      "\n",
      "\n",
      ">Does anybody have any information on the second generation Broncos? (I'm\n",
      ">not talking about Bronco II's, I'm referring to the Broncos that began\n",
      ">production in 1978 based on the F-150 chassis I believe)\n",
      "\n",
      "\tAhh Broncos.  Well personally, I have a '78.  The blue book is just\n",
      "a hair over 3 grand.  I bought it for 2500 and then bought new tires 650\n",
      "front end rebuild 350, carb rebuild 130.  Then i did the unthinkable\n",
      "and blew the engine (not bronco specific, unmaintained engine with 168,000)\n",
      "2400 more bucks there, now it is in nice condition, well after new seats out\n",
      "of a t-bird, radio, 2 amps, speakers, alarm, well the radio and amps were \n",
      "free and i bought the speakers used for 40 bucks, and the other speakers\n",
      "i took out of my old jeep (Sell a Jeep for a bronco you might ask,\n",
      "but it was a Wagoneer).  Its a lovely specimen, solid front and rear\n",
      "axels, ford 9\" and a dana 44 up front.  Watch the rear axel wrap, i \n",
      "busted off my u-bolts ONCE, i added traction shocks after that and \n",
      "haven't had a problem since.  Also the bottom of the doors tend to \n",
      "rot, bottom of the tailgates likes to rust right up to the new ones\n",
      "that might be in your budget.  The post 80 broncos have that sickly\n",
      "TTB front end and little stamped and folded steel radius arms were\n",
      "as the 78-79 have nice big cast iron longer radius arms(ie more prspective\n",
      "wheel travel).  The only rust i have is on my doors and a few\n",
      "dings in the sheet metal.  I don't know when the removeable tops were\n",
      "discontinued but they are fun.  I just ordered a full convertable top\n",
      "for 400$ for mine(credit card).  Don't ever break the window if you\n",
      "have the double laminated bronzed privacy glass in your cap it is over\n",
      "400 bucks to replace.  My bronco also does pretty good offroad,\n",
      "i haven't bottomed out my suspension, YET, and have crossed over\n",
      "3 foot deep of water with no problems, handles rocks like a charm too.\n",
      "One problem is it is WIDE and you sometimes can't follow a CJ or a\n",
      "Toyota, between two rocks or trees, and your grandmother will have\n",
      "a hard time getting up into it.\n",
      "\n",
      "BOB\n",
      ".\n"
     ]
    }
   ],
   "source": [
    "print(f\"Размер поля filenames: {dataframe_test.filenames.shape}.\")\n",
    "print(f\"Размер поля target: {dataframe_test.target.shape}.\\n\")\n",
    "print(f\"Пример данных из поля target: {dataframe_test.target[:10]}.\\n\")\n",
    "print(f\"Пример данных из поля data:\\n\\n {dataframe_test.data[random.randint(0, 500)]}.\")"
   ],
   "metadata": {
    "collapsed": false,
    "pycharm": {
     "name": "#%%\n"
    }
   }
  },
  {
   "cell_type": "markdown",
   "source": [
    "##### Train датасет"
   ],
   "metadata": {
    "collapsed": false,
    "pycharm": {
     "name": "#%% md\n"
    }
   }
  },
  {
   "cell_type": "code",
   "execution_count": 21,
   "outputs": [
    {
     "name": "stdout",
     "output_type": "stream",
     "text": [
      "Размер поля filenames: (11314,).\n",
      "Размер поля target: (11314,).\n",
      "\n",
      "Пример данных из поля target: [ 7  4  4  1 14 16 13  3  2  4].\n",
      "\n",
      "Пример данных из поля data:\n",
      "\n",
      " From: shaig@Think.COM (Shai Guday)\n",
      "Subject: Basil, opinions? (Re: Water on the brain)\n",
      "Organization: Thinking Machines Corporation, Cambridge MA, USA\n",
      "Lines: 40\n",
      "Distribution: world\n",
      "NNTP-Posting-Host: composer.think.com\n",
      "\n",
      "In article <1993Apr15.204930.9517@thunder.mcrcim.mcgill.edu>, hasan@McRCIM.McGill.EDU  writes:\n",
      "|> \n",
      "|> In article <1993Apr15.055341.6075@nysernet.org>, astein@nysernet.org (Alan Stein) writes:\n",
      "|> |> I guess Hasan finally revealed the source of his claim that Israel\n",
      "|> |> diverted water from Lebanon--his imagination.\n",
      "|> |> -- \n",
      "|> |> Alan H. Stein                     astein@israel.nysernet.org\n",
      "|> Mr. water-head,\n",
      "|> i never said that israel diverted lebanese rivers, in fact i said that\n",
      "|> israel went into southern lebanon to  make sure that no \n",
      "|> water is being used on the lebanese\n",
      "|> side, so that all water would run into Jordan river where there\n",
      "|> israel will use it  !#$%^%&&*-head.\n",
      "\n",
      "Of course posting some hard evidence or facts is much more\n",
      "difficult.  You have not bothered to substantiate this in\n",
      "any way.  Basil, do you know of any evidence that would support\n",
      "this?\n",
      "\n",
      "I can just imagine a news report from ancient times, if Hasan\n",
      "had been writing it.\n",
      "\n",
      "Newsflash:\n",
      "Cairo AP (Ancient Press).  Israel today denied Egypt acces to the Red\n",
      "Sea.  In a typical display of Israelite agressiveness, the leader of\n",
      "the Israelite slave revolt, former prince Moses, parted the Red Sea.\n",
      "The action is estimated to have caused irreparable damage to the environment.\n",
      "Egyptian authorities have said that thousands of fisherman have been\n",
      "denied their livelihood by the parted waters.  Pharaoh's brave charioteers\n",
      "were successful in their glorious attempt to cause the waters of the\n",
      "Red Sea to return to their normal state.  Unfortunately they suffered\n",
      "heavy casualties while doing so.\n",
      "\n",
      "|> Hasan \n",
      "\n",
      "-- \n",
      "Shai Guday              | Stealth bombers,\n",
      "OS Software Engineer    |\n",
      "Thinking Machines Corp. |\tthe winged ninjas of the skies.\n",
      "Cambridge, MA           |\n",
      ".\n"
     ]
    }
   ],
   "source": [
    "print(f\"Размер поля filenames: {dataframe_train.filenames.shape}.\")\n",
    "print(f\"Размер поля target: {dataframe_train.target.shape}.\\n\")\n",
    "print(f\"Пример данных из поля target: {dataframe_train.target[:10]}.\\n\")\n",
    "print(f\"Пример данных из поля data:\\n\\n {dataframe_train.data[random.randint(0, 500)]}.\")"
   ],
   "metadata": {
    "collapsed": false,
    "pycharm": {
     "name": "#%%\n"
    }
   }
  },
  {
   "cell_type": "markdown",
   "source": [
    "##### 4. Выведите несколько точек датасета (сами текстовые фрагменты и значение целевой переменной);"
   ],
   "metadata": {
    "collapsed": false,
    "pycharm": {
     "name": "#%% md\n"
    }
   }
  },
  {
   "cell_type": "code",
   "execution_count": 30,
   "outputs": [
    {
     "name": "stdout",
     "output_type": "stream",
     "text": [
      "Первые 5 новостей по тематике транспорта со значениями target:\n",
      "\n",
      "1)  Значение target = 7\n",
      "\n",
      " --- Текст новости ---\n",
      "\n",
      "From: lerxst@wam.umd.edu (where's my thing)\n",
      "Subject: WHAT car is this!?\n",
      "Nntp-Posting-Host: rac3.wam.umd.edu\n",
      "Organization: University of Maryland, College Park\n",
      "Lines: 15\n",
      "\n",
      " I was wondering if anyone out there could enlighten me on this car I saw\n",
      "the other day. It was a 2-door sports car, looked to be from the late 60s/\n",
      "early 70s. It was called a Bricklin. The doors were really small. In addition,\n",
      "the front bumper was separate from the rest of the body. This is \n",
      "all I know. If anyone can tellme a model name, engine specs, years\n",
      "of production, where this car is made, history, or whatever info you\n",
      "have on this funky looking car, please e-mail.\n",
      "\n",
      "Thanks,\n",
      "- IL\n",
      "   ---- brought to you by your neighborhood Lerxst ----\n",
      "\n",
      "\n",
      "\n",
      "\n",
      "\n",
      "\n",
      "2)  Значение target = 4\n",
      "\n",
      " --- Текст новости ---\n",
      "\n",
      "From: guykuo@carson.u.washington.edu (Guy Kuo)\n",
      "Subject: SI Clock Poll - Final Call\n",
      "Summary: Final call for SI clock reports\n",
      "Keywords: SI,acceleration,clock,upgrade\n",
      "Article-I.D.: shelley.1qvfo9INNc3s\n",
      "Organization: University of Washington\n",
      "Lines: 11\n",
      "NNTP-Posting-Host: carson.u.washington.edu\n",
      "\n",
      "A fair number of brave souls who upgraded their SI clock oscillator have\n",
      "shared their experiences for this poll. Please send a brief message detailing\n",
      "your experiences with the procedure. Top speed attained, CPU rated speed,\n",
      "add on cards and adapters, heat sinks, hour of usage per day, floppy disk\n",
      "functionality with 800 and 1.4 m floppies are especially requested.\n",
      "\n",
      "I will be summarizing in the next two days, so please add to the network\n",
      "knowledge base if you have done the clock upgrade and haven't answered this\n",
      "poll. Thanks.\n",
      "\n",
      "Guy Kuo <guykuo@u.washington.edu>\n",
      "\n",
      "\n",
      "3)  Значение target = 4\n",
      "\n",
      " --- Текст новости ---\n",
      "\n",
      "From: twillis@ec.ecn.purdue.edu (Thomas E Willis)\n",
      "Subject: PB questions...\n",
      "Organization: Purdue University Engineering Computer Network\n",
      "Distribution: usa\n",
      "Lines: 36\n",
      "\n",
      "well folks, my mac plus finally gave up the ghost this weekend after\n",
      "starting life as a 512k way back in 1985.  sooo, i'm in the market for a\n",
      "new machine a bit sooner than i intended to be...\n",
      "\n",
      "i'm looking into picking up a powerbook 160 or maybe 180 and have a bunch\n",
      "of questions that (hopefully) somebody can answer:\n",
      "\n",
      "* does anybody know any dirt on when the next round of powerbook\n",
      "introductions are expected?  i'd heard the 185c was supposed to make an\n",
      "appearence \"this summer\" but haven't heard anymore on it - and since i\n",
      "don't have access to macleak, i was wondering if anybody out there had\n",
      "more info...\n",
      "\n",
      "* has anybody heard rumors about price drops to the powerbook line like the\n",
      "ones the duo's just went through recently?\n",
      "\n",
      "* what's the impression of the display on the 180?  i could probably swing\n",
      "a 180 if i got the 80Mb disk rather than the 120, but i don't really have\n",
      "a feel for how much \"better\" the display is (yea, it looks great in the\n",
      "store, but is that all \"wow\" or is it really that good?).  could i solicit\n",
      "some opinions of people who use the 160 and 180 day-to-day on if its worth\n",
      "taking the disk size and money hit to get the active display?  (i realize\n",
      "this is a real subjective question, but i've only played around with the\n",
      "machines in a computer store breifly and figured the opinions of somebody\n",
      "who actually uses the machine daily might prove helpful).\n",
      "\n",
      "* how well does hellcats perform?  ;)\n",
      "\n",
      "thanks a bunch in advance for any info - if you could email, i'll post a\n",
      "summary (news reading time is at a premium with finals just around the\n",
      "corner... :( )\n",
      "--\n",
      "Tom Willis  \\  twillis@ecn.purdue.edu    \\    Purdue Electrical Engineering\n",
      "---------------------------------------------------------------------------\n",
      "\"Convictions are more dangerous enemies of truth than lies.\"  - F. W.\n",
      "Nietzsche\n",
      "\n",
      "\n",
      "4)  Значение target = 1\n",
      "\n",
      " --- Текст новости ---\n",
      "\n",
      "From: jgreen@amber (Joe Green)\n",
      "Subject: Re: Weitek P9000 ?\n",
      "Organization: Harris Computer Systems Division\n",
      "Lines: 14\n",
      "Distribution: world\n",
      "NNTP-Posting-Host: amber.ssd.csd.harris.com\n",
      "X-Newsreader: TIN [version 1.1 PL9]\n",
      "\n",
      "Robert J.C. Kyanko (rob@rjck.UUCP) wrote:\n",
      "> abraxis@iastate.edu writes in article <abraxis.734340159@class1.iastate.edu>:\n",
      "> > Anyone know about the Weitek P9000 graphics chip?\n",
      "> As far as the low-level stuff goes, it looks pretty nice.  It's got this\n",
      "> quadrilateral fill command that requires just the four points.\n",
      "\n",
      "Do you have Weitek's address/phone number?  I'd like to get some information\n",
      "about this chip.\n",
      "\n",
      "--\n",
      "Joe Green\t\t\t\tHarris Corporation\n",
      "jgreen@csd.harris.com\t\t\tComputer Systems Division\n",
      "\"The only thing that really scares me is a person with no sense of humor.\"\n",
      "\t\t\t\t\t\t-- Jonathan Winters\n",
      "\n",
      "\n",
      "5)  Значение target = 14\n",
      "\n",
      " --- Текст новости ---\n",
      "\n",
      "From: jcm@head-cfa.harvard.edu (Jonathan McDowell)\n",
      "Subject: Re: Shuttle Launch Question\n",
      "Organization: Smithsonian Astrophysical Observatory, Cambridge, MA,  USA\n",
      "Distribution: sci\n",
      "Lines: 23\n",
      "\n",
      "From article <C5owCB.n3p@world.std.com>, by tombaker@world.std.com (Tom A Baker):\n",
      ">>In article <C5JLwx.4H9.1@cs.cmu.edu>, ETRAT@ttacs1.ttu.edu (Pack Rat) writes...\n",
      ">>>\"Clear caution & warning memory.  Verify no unexpected\n",
      ">>>errors. ...\".  I am wondering what an \"expected error\" might\n",
      ">>>be.  Sorry if this is a really dumb question, but\n",
      "> \n",
      "> Parity errors in memory or previously known conditions that were waivered.\n",
      ">    \"Yes that is an error, but we already knew about it\"\n",
      "> I'd be curious as to what the real meaning of the quote is.\n",
      "> \n",
      "> tom\n",
      "\n",
      "\n",
      "My understanding is that the 'expected errors' are basically\n",
      "known bugs in the warning system software - things are checked\n",
      "that don't have the right values in yet because they aren't\n",
      "set till after launch, and suchlike. Rather than fix the code\n",
      "and possibly introduce new bugs, they just tell the crew\n",
      "'ok, if you see a warning no. 213 before liftoff, ignore it'.\n",
      "\n",
      " - Jonathan\n",
      "\n",
      "\n",
      "\n"
     ]
    }
   ],
   "source": [
    "print(\"Первые 5 новостей по тематике транспорта со значениями target:\\n\")\n",
    "print(*[str(index + 1) + ')  Значение target = ' + str(dataframe_train.target[index]) + '\\n\\n --- Текст новости ---\\n\\n' + value for index, value in enumerate(list(dataframe_train.data[:5]))], sep='\\n\\n')"
   ],
   "metadata": {
    "collapsed": false,
    "pycharm": {
     "name": "#%%\n"
    }
   }
  },
  {
   "cell_type": "markdown",
   "source": [
    "##### 5. Разделите эти данные на тестовую и обучающую выборки;"
   ],
   "metadata": {
    "collapsed": false,
    "pycharm": {
     "name": "#%% md\n"
    }
   }
  },
  {
   "cell_type": "code",
   "execution_count": 32,
   "outputs": [],
   "source": [
    "dataframe_train = fetch_20newsgroups(subset='train')\n",
    "dataframe_test = fetch_20newsgroups(subset='test')"
   ],
   "metadata": {
    "collapsed": false,
    "pycharm": {
     "name": "#%%\n"
    }
   }
  },
  {
   "cell_type": "markdown",
   "source": [
    "##### 6. Постройте модель наивного байесовского для классификации текстов;"
   ],
   "metadata": {
    "collapsed": false,
    "pycharm": {
     "name": "#%% md\n"
    }
   }
  },
  {
   "cell_type": "code",
   "execution_count": 45,
   "outputs": [],
   "source": [
    "# инициализируем векторайзер\n",
    "vectorizer = CountVectorizer()\n",
    "vect_training = vectorizer.fit_transform(dataframe_train.data)\n",
    "vect_test = vectorizer.transform(dataframe_test.data)"
   ],
   "metadata": {
    "collapsed": false,
    "pycharm": {
     "name": "#%%\n"
    }
   }
  },
  {
   "cell_type": "code",
   "execution_count": 46,
   "outputs": [
    {
     "data": {
      "text/plain": "(<11314x130107 sparse matrix of type '<class 'numpy.int64'>'\n \twith 1787565 stored elements in Compressed Sparse Row format>,\n <7532x130107 sparse matrix of type '<class 'numpy.int64'>'\n \twith 1107956 stored elements in Compressed Sparse Row format>)"
     },
     "execution_count": 46,
     "metadata": {},
     "output_type": "execute_result"
    }
   ],
   "source": [
    "vect_training, vect_test"
   ],
   "metadata": {
    "collapsed": false,
    "pycharm": {
     "name": "#%%\n"
    }
   }
  },
  {
   "cell_type": "code",
   "execution_count": 47,
   "outputs": [
    {
     "data": {
      "text/plain": "MultinomialNB(alpha=0.01)"
     },
     "execution_count": 47,
     "metadata": {},
     "output_type": "execute_result"
    }
   ],
   "source": [
    "# Используем модель наивного байесовского для классификации текстов\n",
    "model_nb = MultinomialNB(alpha=.01)\n",
    "model_nb.fit(vect_training, dataframe_train.target)"
   ],
   "metadata": {
    "collapsed": false,
    "pycharm": {
     "name": "#%%\n"
    }
   }
  },
  {
   "cell_type": "markdown",
   "source": [
    "##### 7. Оцените качество модели на тестовой выборке с помощью следующих метрик:\n",
    "##### достоверность предсказания (accuracy);\n",
    "##### точность (precision);\n",
    "##### полнота (recall);"
   ],
   "metadata": {
    "collapsed": false,
    "pycharm": {
     "name": "#%% md\n"
    }
   }
  },
  {
   "cell_type": "code",
   "execution_count": 51,
   "outputs": [
    {
     "name": "stdout",
     "output_type": "stream",
     "text": [
      "Среднее через micro метод: 0.80390335\n",
      "Среднее через macro метод: 0.78520921\n",
      "\n",
      "              precision    recall  f1-score   support\n",
      "\n",
      "           0       0.80      0.83      0.82       319\n",
      "           1       0.57      0.78      0.66       389\n",
      "           2       0.75      0.04      0.07       394\n",
      "           3       0.55      0.78      0.64       392\n",
      "           4       0.74      0.83      0.78       385\n",
      "           5       0.80      0.73      0.76       395\n",
      "           6       0.79      0.85      0.82       390\n",
      "           7       0.86      0.90      0.88       396\n",
      "           8       0.91      0.96      0.94       398\n",
      "           9       0.95      0.93      0.94       397\n",
      "          10       0.96      0.96      0.96       399\n",
      "          11       0.88      0.93      0.91       396\n",
      "          12       0.77      0.76      0.76       393\n",
      "          13       0.88      0.83      0.86       396\n",
      "          14       0.87      0.89      0.88       394\n",
      "          15       0.89      0.92      0.91       398\n",
      "          16       0.80      0.89      0.84       364\n",
      "          17       0.97      0.89      0.93       376\n",
      "          18       0.75      0.64      0.69       310\n",
      "          19       0.67      0.65      0.66       251\n",
      "\n",
      "    accuracy                           0.80      7532\n",
      "   macro avg       0.81      0.80      0.79      7532\n",
      "weighted avg       0.81      0.80      0.79      7532\n",
      "\n"
     ]
    }
   ],
   "source": [
    "data_predict = model_nb.predict(vect_test)\n",
    "print(f\"Среднее через micro метод: {round(metrics.f1_score(dataframe_test.target, data_predict, average='micro'), 8)}\")\n",
    "print(f\"Среднее через macro метод: {round(metrics.f1_score(dataframe_test.target, data_predict, average='macro'), 8)}\\n\")\n",
    "print(metrics.classification_report(dataframe_test.target, data_predict))"
   ],
   "metadata": {
    "collapsed": false,
    "pycharm": {
     "name": "#%%\n"
    }
   }
  },
  {
   "cell_type": "markdown",
   "source": [
    "##### Главная разница между micro и macro методами при множественной классификации\n",
    "\n",
    "1) Микро: Рассчет показателей глобально, считает общее количество раз, когда каждый класс был правильно предсказан и неправильно предсказан.\n",
    "\n",
    "2) Макро: Вычисляет показатель для каждого \"класса\" независимо и находит их невзвешенное среднее значение. При этом не учитывается дисбаланс метрик.\n",
    "\n",
    "Подробнее: https://github.com/turi-code/userguide/blob/master/evaluation/classification.md"
   ],
   "metadata": {
    "collapsed": false,
    "pycharm": {
     "name": "#%% md\n"
    }
   }
  },
  {
   "cell_type": "markdown",
   "source": [
    "##### Достоверность предсказания (accuracy) = *0.79*\n",
    "##### Точность (precision) = *0.81*\n",
    "##### Полнота recall = *0.80*"
   ],
   "metadata": {
    "collapsed": false,
    "pycharm": {
     "name": "#%% md\n"
    }
   }
  },
  {
   "cell_type": "code",
   "execution_count": 62,
   "outputs": [
    {
     "data": {
      "text/plain": "<Figure size 1296x1296 with 2 Axes>",
      "image/png": "[encoded data removed]"
     },
     "metadata": {},
     "output_type": "display_data"
    }
   ],
   "source": [
    "fig, ax = plt.subplots(figsize=(18, 18))\n",
    "sns.heatmap(pd.DataFrame(metrics.confusion_matrix(dataframe_test.target, data_predict)), annot=True)\n",
    "plt.title(\"График зависимости тестовой и обучающей эффективности от размера обучающей выборки\", fontsize=15)\n",
    "plt.ylabel(\"Действительные значения\", fontsize=15)\n",
    "plt.xlabel(\"Предсказанные значения\", fontsize=15)\n",
    "plt.show()"
   ],
   "metadata": {
    "collapsed": false,
    "pycharm": {
     "name": "#%%\n"
    }
   }
  },
  {
   "cell_type": "markdown",
   "source": [
    "##### 8. Постройте кривую обучения - график зависимости тестовой и обучающей эффективности от размера обучающей выборки."
   ],
   "metadata": {
    "collapsed": false,
    "pycharm": {
     "name": "#%% md\n"
    }
   }
  },
  {
   "cell_type": "code",
   "execution_count": 66,
   "outputs": [
    {
     "data": {
      "text/plain": "<Figure size 1080x576 with 1 Axes>",
      "image/png": "[encoded data removed]"
     },
     "metadata": {},
     "output_type": "display_data"
    }
   ],
   "source": [
    "size_grid = np.linspace(0.01, 1.0, 50)\n",
    "train_size, train_scores, validation_scores = learning_curve(MultinomialNB(), vect_training, dataframe_train.target, train_sizes=size_grid, cv=5)\n",
    "\n",
    "plt.figure(figsize=(15, 8))\n",
    "plt.plot(size_grid, np.average(train_scores, axis=1), color='red')\n",
    "plt.plot(size_grid, np.average(validation_scores, axis=1), color='yellow')\n",
    "plt.title(\"Кривая обучения выборки данных\", fontsize=15)\n",
    "plt.xlabel(\"Размер выборки\", fontsize=15)\n",
    "plt.ylabel(\"Точность\", fontsize=15)\n",
    "plt.show()"
   ],
   "metadata": {
    "collapsed": false,
    "pycharm": {
     "name": "#%%\n"
    }
   }
  },
  {
   "cell_type": "markdown",
   "source": [
    "##### 9. Сделайте вывод о применимости модели."
   ],
   "metadata": {
    "collapsed": false,
    "pycharm": {
     "name": "#%% md\n"
    }
   }
  },
  {
   "cell_type": "code",
   "execution_count": 67,
   "outputs": [
    {
     "name": "stdout",
     "output_type": "stream",
     "text": [
      "Средний итог для вывода : 0.8\n"
     ]
    }
   ],
   "source": [
    "print('Средний итог для вывода : ' + str(round(sum([0.79, 0.81, 0.80]) / 3, 4)))"
   ],
   "metadata": {
    "collapsed": false,
    "pycharm": {
     "name": "#%%\n"
    }
   }
  },
  {
   "cell_type": "markdown",
   "source": [
    "#### Модель можно применять на исходных данных т.к. точность классификации и среднее значение метрик эффективности состатвляют около 80%"
   ],
   "metadata": {
    "collapsed": false,
    "pycharm": {
     "name": "#%% md\n"
    }
   }
  },
  {
   "cell_type": "code",
   "execution_count": null,
   "outputs": [],
   "source": [],
   "metadata": {
    "collapsed": false,
    "pycharm": {
     "name": "#%%\n"
    }
   }
  }
 ],
 "metadata": {
  "kernelspec": {
   "display_name": "Python 3",
   "language": "python",
   "name": "python3"
  },
  "language_info": {
   "codemirror_mode": {
    "name": "ipython",
    "version": 2
   },
   "file_extension": ".py",
   "mimetype": "text/x-python",
   "name": "python",
   "nbconvert_exporter": "python",
   "pygments_lexer": "ipython2",
   "version": "2.7.6"
  }
 },
 "nbformat": 4,
 "nbformat_minor": 0
}