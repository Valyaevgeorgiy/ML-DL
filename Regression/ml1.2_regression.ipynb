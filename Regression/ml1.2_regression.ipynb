{
 "cells": [
  {
   "cell_type": "markdown",
   "source": [
    "## Лабораторная работа № 6. Множественная линейная регрессия\n",
    "### (Валяев Георгий, ПИ20-6)"
   ],
   "metadata": {
    "collapsed": false,
    "pycharm": {
     "name": "#%% md\n"
    }
   }
  },
  {
   "cell_type": "code",
   "execution_count": 145,
   "outputs": [],
   "source": [
    "import numpy as np\n",
    "import pandas as pd\n",
    "import time\n",
    "from sklearn import linear_model\n",
    "import matplotlib.pyplot as plt\n",
    "from sklearn.model_selection import train_test_split\n",
    "from sklearn.metrics import mean_squared_error, r2_score"
   ],
   "metadata": {
    "collapsed": false,
    "pycharm": {
     "name": "#%%\n"
    }
   }
  },
  {
   "cell_type": "markdown",
   "source": [
    "### Задания для выполнения"
   ],
   "metadata": {
    "collapsed": false,
    "pycharm": {
     "name": "#%% md\n"
    }
   }
  },
  {
   "cell_type": "markdown",
   "source": [
    "#### Пример создания модели через возможности библиотеки scikit learn"
   ],
   "metadata": {
    "collapsed": false,
    "pycharm": {
     "name": "#%% md\n"
    }
   }
  },
  {
   "cell_type": "code",
   "execution_count": 45,
   "outputs": [
    {
     "data": {
      "text/plain": "     1.4017687640737697  0.6668044494322577  0.7190130943915212  \\\n0              1.273727            1.231239           -0.107887   \n1             -1.782506            1.219922            0.493862   \n2             -0.267771           -0.045769           -0.226457   \n3             -0.827729           -1.475763           -0.751357   \n4              0.942875           -0.190490           -0.130149   \n..                  ...                 ...                 ...   \n377           -1.596693           -0.486095            0.121379   \n378           -0.075549           -0.696840            0.886617   \n379           -1.419490           -1.149049            0.723826   \n380            0.392711            1.044820           -0.562121   \n381            0.755630            0.465864           -0.769981   \n\n     -0.395435688808821  0.7590031833969625  \n0             -0.994442            0.133631  \n1             -0.896872           -0.528072  \n2              0.969809            0.960164  \n3             -0.466744            0.743316  \n4             -0.613091           -0.855212  \n..                  ...                 ...  \n377           -0.361860            1.331080  \n378            1.786000           -1.036141  \n379            0.086295           -0.803215  \n380            0.636474            0.657975  \n381            1.269606            1.854455  \n\n[382 rows x 5 columns]",
      "text/html": "<div>\n<style scoped>\n    .dataframe tbody tr th:only-of-type {\n        vertical-align: middle;\n    }\n\n    .dataframe tbody tr th {\n        vertical-align: top;\n    }\n\n    .dataframe thead th {\n        text-align: right;\n    }\n</style>\n<table border=\"1\" class=\"dataframe\">\n  <thead>\n    <tr style=\"text-align: right;\">\n      <th></th>\n      <th>1.4017687640737697</th>\n      <th>0.6668044494322577</th>\n      <th>0.7190130943915212</th>\n      <th>-0.395435688808821</th>\n      <th>0.7590031833969625</th>\n    </tr>\n  </thead>\n  <tbody>\n    <tr>\n      <th>0</th>\n      <td>1.273727</td>\n      <td>1.231239</td>\n      <td>-0.107887</td>\n      <td>-0.994442</td>\n      <td>0.133631</td>\n    </tr>\n    <tr>\n      <th>1</th>\n      <td>-1.782506</td>\n      <td>1.219922</td>\n      <td>0.493862</td>\n      <td>-0.896872</td>\n      <td>-0.528072</td>\n    </tr>\n    <tr>\n      <th>2</th>\n      <td>-0.267771</td>\n      <td>-0.045769</td>\n      <td>-0.226457</td>\n      <td>0.969809</td>\n      <td>0.960164</td>\n    </tr>\n    <tr>\n      <th>3</th>\n      <td>-0.827729</td>\n      <td>-1.475763</td>\n      <td>-0.751357</td>\n      <td>-0.466744</td>\n      <td>0.743316</td>\n    </tr>\n    <tr>\n      <th>4</th>\n      <td>0.942875</td>\n      <td>-0.190490</td>\n      <td>-0.130149</td>\n      <td>-0.613091</td>\n      <td>-0.855212</td>\n    </tr>\n    <tr>\n      <th>...</th>\n      <td>...</td>\n      <td>...</td>\n      <td>...</td>\n      <td>...</td>\n      <td>...</td>\n    </tr>\n    <tr>\n      <th>377</th>\n      <td>-1.596693</td>\n      <td>-0.486095</td>\n      <td>0.121379</td>\n      <td>-0.361860</td>\n      <td>1.331080</td>\n    </tr>\n    <tr>\n      <th>378</th>\n      <td>-0.075549</td>\n      <td>-0.696840</td>\n      <td>0.886617</td>\n      <td>1.786000</td>\n      <td>-1.036141</td>\n    </tr>\n    <tr>\n      <th>379</th>\n      <td>-1.419490</td>\n      <td>-1.149049</td>\n      <td>0.723826</td>\n      <td>0.086295</td>\n      <td>-0.803215</td>\n    </tr>\n    <tr>\n      <th>380</th>\n      <td>0.392711</td>\n      <td>1.044820</td>\n      <td>-0.562121</td>\n      <td>0.636474</td>\n      <td>0.657975</td>\n    </tr>\n    <tr>\n      <th>381</th>\n      <td>0.755630</td>\n      <td>0.465864</td>\n      <td>-0.769981</td>\n      <td>1.269606</td>\n      <td>1.854455</td>\n    </tr>\n  </tbody>\n</table>\n<p>382 rows × 5 columns</p>\n</div>"
     },
     "execution_count": 45,
     "metadata": {},
     "output_type": "execute_result"
    }
   ],
   "source": [
    "X = pd.read_csv('data/7_x.csv')\n",
    "Y = pd.read_csv('data/7_y.csv')\n",
    "X"
   ],
   "metadata": {
    "collapsed": false,
    "pycharm": {
     "name": "#%%\n"
    }
   }
  },
  {
   "cell_type": "code",
   "execution_count": 46,
   "outputs": [
    {
     "data": {
      "text/plain": "     43.01733436787443\n0           -38.196757\n1          -135.587728\n2           141.451445\n3            38.327764\n4          -113.370585\n..                 ...\n377          73.910930\n378          25.645846\n379         -78.272852\n380         105.094458\n381         248.807265\n\n[382 rows x 1 columns]",
      "text/html": "<div>\n<style scoped>\n    .dataframe tbody tr th:only-of-type {\n        vertical-align: middle;\n    }\n\n    .dataframe tbody tr th {\n        vertical-align: top;\n    }\n\n    .dataframe thead th {\n        text-align: right;\n    }\n</style>\n<table border=\"1\" class=\"dataframe\">\n  <thead>\n    <tr style=\"text-align: right;\">\n      <th></th>\n      <th>43.01733436787443</th>\n    </tr>\n  </thead>\n  <tbody>\n    <tr>\n      <th>0</th>\n      <td>-38.196757</td>\n    </tr>\n    <tr>\n      <th>1</th>\n      <td>-135.587728</td>\n    </tr>\n    <tr>\n      <th>2</th>\n      <td>141.451445</td>\n    </tr>\n    <tr>\n      <th>3</th>\n      <td>38.327764</td>\n    </tr>\n    <tr>\n      <th>4</th>\n      <td>-113.370585</td>\n    </tr>\n    <tr>\n      <th>...</th>\n      <td>...</td>\n    </tr>\n    <tr>\n      <th>377</th>\n      <td>73.910930</td>\n    </tr>\n    <tr>\n      <th>378</th>\n      <td>25.645846</td>\n    </tr>\n    <tr>\n      <th>379</th>\n      <td>-78.272852</td>\n    </tr>\n    <tr>\n      <th>380</th>\n      <td>105.094458</td>\n    </tr>\n    <tr>\n      <th>381</th>\n      <td>248.807265</td>\n    </tr>\n  </tbody>\n</table>\n<p>382 rows × 1 columns</p>\n</div>"
     },
     "execution_count": 46,
     "metadata": {},
     "output_type": "execute_result"
    }
   ],
   "source": [
    "Y"
   ],
   "metadata": {
    "collapsed": false,
    "pycharm": {
     "name": "#%%\n"
    }
   }
  },
  {
   "cell_type": "code",
   "execution_count": 56,
   "outputs": [],
   "source": [
    "# Разделение фрейма данных на обучающую и тестовую наборы\n",
    "X_train, X_test, Y_train, Y_test = train_test_split(X, Y, test_size=0.2, random_state=9)"
   ],
   "metadata": {
    "collapsed": false,
    "pycharm": {
     "name": "#%%\n"
    }
   }
  },
  {
   "cell_type": "code",
   "execution_count": 57,
   "outputs": [],
   "source": [
    "# Создание объекта модели обучения линейной регрессии\n",
    "reg = linear_model.LinearRegression()"
   ],
   "metadata": {
    "collapsed": false,
    "pycharm": {
     "name": "#%%\n"
    }
   }
  },
  {
   "cell_type": "code",
   "execution_count": 58,
   "outputs": [
    {
     "name": "stdout",
     "output_type": "stream",
     "text": [
      "Обучение линейной регрессионной модели получилось за 0.006006 секунд(-ы).\n"
     ]
    }
   ],
   "source": [
    "start_time = time.time()\n",
    "# процесс обучения с измерением времени\n",
    "reg.fit(X_train, Y_train)\n",
    "end_time = time.time()\n",
    "print(f\"Обучение линейной регрессионной модели получилось за {round(end_time - start_time, 6)} секунд(-ы).\")"
   ],
   "metadata": {
    "collapsed": false,
    "pycharm": {
     "name": "#%%\n"
    }
   }
  },
  {
   "cell_type": "code",
   "execution_count": 59,
   "outputs": [],
   "source": [
    "pred = reg.predict(X_test)\n",
    "test_set_rmse = (np.sqrt(mean_squared_error(Y_test, pred)))\n",
    "test_set_r2 = r2_score(Y_test, pred)"
   ],
   "metadata": {
    "collapsed": false,
    "pycharm": {
     "name": "#%%\n"
    }
   }
  },
  {
   "cell_type": "code",
   "execution_count": 60,
   "outputs": [
    {
     "name": "stdout",
     "output_type": "stream",
     "text": [
      "Обратите внимание, что для rmse чем ниже это значение, тем лучше подходит\n",
      "Результат — 11.01071359863844.\n",
      "\n",
      "Чем ближе к 1, тем лучше подходит\n",
      "Результат — 0.9907150783881009.\n"
     ]
    }
   ],
   "source": [
    "print(f\"Обратите внимание, что для rmse чем ниже это значение, тем лучше подходит\\nРезультат — {test_set_rmse}.\\n\")\n",
    "print(f\"Чем ближе к 1, тем лучше подходит\\nРезультат — {test_set_r2}.\")"
   ],
   "metadata": {
    "collapsed": false,
    "pycharm": {
     "name": "#%%\n"
    }
   }
  },
  {
   "cell_type": "markdown",
   "source": [
    "Значение метрики эффективности полученной модели"
   ],
   "metadata": {
    "collapsed": false,
    "pycharm": {
     "name": "#%% md\n"
    }
   }
  },
  {
   "cell_type": "code",
   "execution_count": 61,
   "outputs": [
    {
     "name": "stdout",
     "output_type": "stream",
     "text": [
      "Итоговое значение метрики = 0.9909984511016235\n"
     ]
    }
   ],
   "source": [
    "print(f'Итоговое значение метрики = {reg.score(X, Y)}')"
   ],
   "metadata": {
    "collapsed": false,
    "pycharm": {
     "name": "#%%\n"
    }
   }
  },
  {
   "cell_type": "markdown",
   "source": [
    "##### 1. Ваша задача - построить предиктивную модель предсказания целевой переменной в зависимости от значения нескольких факторов (признаков).\n",
    "##### 2. Загрузите датасет из приложения. Вам понадобится два файла - отдельно с признаками (помечен x) и значениями целевой переменной (помечен y). Файлы не содержат заголовков столбцов и строк."
   ],
   "metadata": {
    "collapsed": false,
    "pycharm": {
     "name": "#%% md\n"
    }
   }
  },
  {
   "cell_type": "code",
   "execution_count": 106,
   "outputs": [
    {
     "data": {
      "text/plain": "            0         1         2         3         4         5         6\n0    0.379692 -0.538707  1.297744  0.996618  1.374295  0.384446  0.369860\n1    1.513190 -0.174841  0.304366 -0.327156 -1.139509 -1.876973 -0.916081\n2    1.724134  0.922148  1.186358 -0.860975  0.071025  0.672305 -0.956169\n3    1.209807 -0.034638  0.518373  1.139707  0.203427  1.413589 -1.403331\n4    1.025935 -1.603621  0.143145 -0.888176  1.724962 -0.730521  1.104647\n..        ...       ...       ...       ...       ...       ...       ...\n300  0.369085  0.829032  0.095891 -0.932652  0.252840  1.523824  0.371031\n301 -0.596272  0.955353  2.423924 -1.639020  0.073067  0.198499 -0.436227\n302 -1.930802 -0.539940  0.003640  0.100045 -0.342410  0.059946 -2.186219\n303  0.229888  0.706664 -1.079082  0.941274 -0.747910 -0.120137  2.271433\n304  0.966321  0.360123  0.853645 -1.583443  0.439026  0.399868  1.055809\n\n[305 rows x 7 columns]",
      "text/html": "<div>\n<style scoped>\n    .dataframe tbody tr th:only-of-type {\n        vertical-align: middle;\n    }\n\n    .dataframe tbody tr th {\n        vertical-align: top;\n    }\n\n    .dataframe thead th {\n        text-align: right;\n    }\n</style>\n<table border=\"1\" class=\"dataframe\">\n  <thead>\n    <tr style=\"text-align: right;\">\n      <th></th>\n      <th>0</th>\n      <th>1</th>\n      <th>2</th>\n      <th>3</th>\n      <th>4</th>\n      <th>5</th>\n      <th>6</th>\n    </tr>\n  </thead>\n  <tbody>\n    <tr>\n      <th>0</th>\n      <td>0.379692</td>\n      <td>-0.538707</td>\n      <td>1.297744</td>\n      <td>0.996618</td>\n      <td>1.374295</td>\n      <td>0.384446</td>\n      <td>0.369860</td>\n    </tr>\n    <tr>\n      <th>1</th>\n      <td>1.513190</td>\n      <td>-0.174841</td>\n      <td>0.304366</td>\n      <td>-0.327156</td>\n      <td>-1.139509</td>\n      <td>-1.876973</td>\n      <td>-0.916081</td>\n    </tr>\n    <tr>\n      <th>2</th>\n      <td>1.724134</td>\n      <td>0.922148</td>\n      <td>1.186358</td>\n      <td>-0.860975</td>\n      <td>0.071025</td>\n      <td>0.672305</td>\n      <td>-0.956169</td>\n    </tr>\n    <tr>\n      <th>3</th>\n      <td>1.209807</td>\n      <td>-0.034638</td>\n      <td>0.518373</td>\n      <td>1.139707</td>\n      <td>0.203427</td>\n      <td>1.413589</td>\n      <td>-1.403331</td>\n    </tr>\n    <tr>\n      <th>4</th>\n      <td>1.025935</td>\n      <td>-1.603621</td>\n      <td>0.143145</td>\n      <td>-0.888176</td>\n      <td>1.724962</td>\n      <td>-0.730521</td>\n      <td>1.104647</td>\n    </tr>\n    <tr>\n      <th>...</th>\n      <td>...</td>\n      <td>...</td>\n      <td>...</td>\n      <td>...</td>\n      <td>...</td>\n      <td>...</td>\n      <td>...</td>\n    </tr>\n    <tr>\n      <th>300</th>\n      <td>0.369085</td>\n      <td>0.829032</td>\n      <td>0.095891</td>\n      <td>-0.932652</td>\n      <td>0.252840</td>\n      <td>1.523824</td>\n      <td>0.371031</td>\n    </tr>\n    <tr>\n      <th>301</th>\n      <td>-0.596272</td>\n      <td>0.955353</td>\n      <td>2.423924</td>\n      <td>-1.639020</td>\n      <td>0.073067</td>\n      <td>0.198499</td>\n      <td>-0.436227</td>\n    </tr>\n    <tr>\n      <th>302</th>\n      <td>-1.930802</td>\n      <td>-0.539940</td>\n      <td>0.003640</td>\n      <td>0.100045</td>\n      <td>-0.342410</td>\n      <td>0.059946</td>\n      <td>-2.186219</td>\n    </tr>\n    <tr>\n      <th>303</th>\n      <td>0.229888</td>\n      <td>0.706664</td>\n      <td>-1.079082</td>\n      <td>0.941274</td>\n      <td>-0.747910</td>\n      <td>-0.120137</td>\n      <td>2.271433</td>\n    </tr>\n    <tr>\n      <th>304</th>\n      <td>0.966321</td>\n      <td>0.360123</td>\n      <td>0.853645</td>\n      <td>-1.583443</td>\n      <td>0.439026</td>\n      <td>0.399868</td>\n      <td>1.055809</td>\n    </tr>\n  </tbody>\n</table>\n<p>305 rows × 7 columns</p>\n</div>"
     },
     "execution_count": 106,
     "metadata": {},
     "output_type": "execute_result"
    }
   ],
   "source": [
    "X_2 = pd.read_csv(\"data/34_x.csv\", delimiter=',', names=['0', '1', '2', '3', '4', '5', '6'])\n",
    "Y_2 = pd.read_csv(\"data/34_y.csv\", delimiter=',', names=['Result'])\n",
    "X_2"
   ],
   "metadata": {
    "collapsed": false,
    "pycharm": {
     "name": "#%%\n"
    }
   }
  },
  {
   "cell_type": "code",
   "execution_count": 94,
   "outputs": [
    {
     "data": {
      "text/plain": "         Result\n0     71.217029\n1    103.347716\n2    205.359452\n3     84.740282\n4     81.284891\n..          ...\n300   99.782401\n301   38.049799\n302 -300.734385\n303  103.304561\n304  185.018060\n\n[305 rows x 1 columns]",
      "text/html": "<div>\n<style scoped>\n    .dataframe tbody tr th:only-of-type {\n        vertical-align: middle;\n    }\n\n    .dataframe tbody tr th {\n        vertical-align: top;\n    }\n\n    .dataframe thead th {\n        text-align: right;\n    }\n</style>\n<table border=\"1\" class=\"dataframe\">\n  <thead>\n    <tr style=\"text-align: right;\">\n      <th></th>\n      <th>Result</th>\n    </tr>\n  </thead>\n  <tbody>\n    <tr>\n      <th>0</th>\n      <td>71.217029</td>\n    </tr>\n    <tr>\n      <th>1</th>\n      <td>103.347716</td>\n    </tr>\n    <tr>\n      <th>2</th>\n      <td>205.359452</td>\n    </tr>\n    <tr>\n      <th>3</th>\n      <td>84.740282</td>\n    </tr>\n    <tr>\n      <th>4</th>\n      <td>81.284891</td>\n    </tr>\n    <tr>\n      <th>...</th>\n      <td>...</td>\n    </tr>\n    <tr>\n      <th>300</th>\n      <td>99.782401</td>\n    </tr>\n    <tr>\n      <th>301</th>\n      <td>38.049799</td>\n    </tr>\n    <tr>\n      <th>302</th>\n      <td>-300.734385</td>\n    </tr>\n    <tr>\n      <th>303</th>\n      <td>103.304561</td>\n    </tr>\n    <tr>\n      <th>304</th>\n      <td>185.018060</td>\n    </tr>\n  </tbody>\n</table>\n<p>305 rows × 1 columns</p>\n</div>"
     },
     "execution_count": 94,
     "metadata": {},
     "output_type": "execute_result"
    }
   ],
   "source": [
    "Y_2"
   ],
   "metadata": {
    "collapsed": false,
    "pycharm": {
     "name": "#%%\n"
    }
   }
  },
  {
   "cell_type": "code",
   "execution_count": 72,
   "outputs": [
    {
     "data": {
      "text/plain": "            0         1         2         3         4         5         6  \\\n0    0.379692 -0.538707  1.297744  0.996618  1.374295  0.384446  0.369860   \n1    1.513190 -0.174841  0.304366 -0.327156 -1.139509 -1.876973 -0.916081   \n2    1.724134  0.922148  1.186358 -0.860975  0.071025  0.672305 -0.956169   \n3    1.209807 -0.034638  0.518373  1.139707  0.203427  1.413589 -1.403331   \n4    1.025935 -1.603621  0.143145 -0.888176  1.724962 -0.730521  1.104647   \n..        ...       ...       ...       ...       ...       ...       ...   \n300  0.369085  0.829032  0.095891 -0.932652  0.252840  1.523824  0.371031   \n301 -0.596272  0.955353  2.423924 -1.639020  0.073067  0.198499 -0.436227   \n302 -1.930802 -0.539940  0.003640  0.100045 -0.342410  0.059946 -2.186219   \n303  0.229888  0.706664 -1.079082  0.941274 -0.747910 -0.120137  2.271433   \n304  0.966321  0.360123  0.853645 -1.583443  0.439026  0.399868  1.055809   \n\n         Result  \n0     71.217029  \n1    103.347716  \n2    205.359452  \n3     84.740282  \n4     81.284891  \n..          ...  \n300   99.782401  \n301   38.049799  \n302 -300.734385  \n303  103.304561  \n304  185.018060  \n\n[305 rows x 8 columns]",
      "text/html": "<div>\n<style scoped>\n    .dataframe tbody tr th:only-of-type {\n        vertical-align: middle;\n    }\n\n    .dataframe tbody tr th {\n        vertical-align: top;\n    }\n\n    .dataframe thead th {\n        text-align: right;\n    }\n</style>\n<table border=\"1\" class=\"dataframe\">\n  <thead>\n    <tr style=\"text-align: right;\">\n      <th></th>\n      <th>0</th>\n      <th>1</th>\n      <th>2</th>\n      <th>3</th>\n      <th>4</th>\n      <th>5</th>\n      <th>6</th>\n      <th>Result</th>\n    </tr>\n  </thead>\n  <tbody>\n    <tr>\n      <th>0</th>\n      <td>0.379692</td>\n      <td>-0.538707</td>\n      <td>1.297744</td>\n      <td>0.996618</td>\n      <td>1.374295</td>\n      <td>0.384446</td>\n      <td>0.369860</td>\n      <td>71.217029</td>\n    </tr>\n    <tr>\n      <th>1</th>\n      <td>1.513190</td>\n      <td>-0.174841</td>\n      <td>0.304366</td>\n      <td>-0.327156</td>\n      <td>-1.139509</td>\n      <td>-1.876973</td>\n      <td>-0.916081</td>\n      <td>103.347716</td>\n    </tr>\n    <tr>\n      <th>2</th>\n      <td>1.724134</td>\n      <td>0.922148</td>\n      <td>1.186358</td>\n      <td>-0.860975</td>\n      <td>0.071025</td>\n      <td>0.672305</td>\n      <td>-0.956169</td>\n      <td>205.359452</td>\n    </tr>\n    <tr>\n      <th>3</th>\n      <td>1.209807</td>\n      <td>-0.034638</td>\n      <td>0.518373</td>\n      <td>1.139707</td>\n      <td>0.203427</td>\n      <td>1.413589</td>\n      <td>-1.403331</td>\n      <td>84.740282</td>\n    </tr>\n    <tr>\n      <th>4</th>\n      <td>1.025935</td>\n      <td>-1.603621</td>\n      <td>0.143145</td>\n      <td>-0.888176</td>\n      <td>1.724962</td>\n      <td>-0.730521</td>\n      <td>1.104647</td>\n      <td>81.284891</td>\n    </tr>\n    <tr>\n      <th>...</th>\n      <td>...</td>\n      <td>...</td>\n      <td>...</td>\n      <td>...</td>\n      <td>...</td>\n      <td>...</td>\n      <td>...</td>\n      <td>...</td>\n    </tr>\n    <tr>\n      <th>300</th>\n      <td>0.369085</td>\n      <td>0.829032</td>\n      <td>0.095891</td>\n      <td>-0.932652</td>\n      <td>0.252840</td>\n      <td>1.523824</td>\n      <td>0.371031</td>\n      <td>99.782401</td>\n    </tr>\n    <tr>\n      <th>301</th>\n      <td>-0.596272</td>\n      <td>0.955353</td>\n      <td>2.423924</td>\n      <td>-1.639020</td>\n      <td>0.073067</td>\n      <td>0.198499</td>\n      <td>-0.436227</td>\n      <td>38.049799</td>\n    </tr>\n    <tr>\n      <th>302</th>\n      <td>-1.930802</td>\n      <td>-0.539940</td>\n      <td>0.003640</td>\n      <td>0.100045</td>\n      <td>-0.342410</td>\n      <td>0.059946</td>\n      <td>-2.186219</td>\n      <td>-300.734385</td>\n    </tr>\n    <tr>\n      <th>303</th>\n      <td>0.229888</td>\n      <td>0.706664</td>\n      <td>-1.079082</td>\n      <td>0.941274</td>\n      <td>-0.747910</td>\n      <td>-0.120137</td>\n      <td>2.271433</td>\n      <td>103.304561</td>\n    </tr>\n    <tr>\n      <th>304</th>\n      <td>0.966321</td>\n      <td>0.360123</td>\n      <td>0.853645</td>\n      <td>-1.583443</td>\n      <td>0.439026</td>\n      <td>0.399868</td>\n      <td>1.055809</td>\n      <td>185.018060</td>\n    </tr>\n  </tbody>\n</table>\n<p>305 rows × 8 columns</p>\n</div>"
     },
     "execution_count": 72,
     "metadata": {},
     "output_type": "execute_result"
    }
   ],
   "source": [
    "dataframe = X_2\n",
    "dataframe['Result'] = Y_2[\"Result\"]\n",
    "dataframe"
   ],
   "metadata": {
    "collapsed": false,
    "pycharm": {
     "name": "#%%\n"
    }
   }
  },
  {
   "cell_type": "markdown",
   "source": [
    "##### 3. Сделайте количественное описание датасета: количество точек данных, признаков, статистику по каждому признаку."
   ],
   "metadata": {
    "collapsed": false,
    "pycharm": {
     "name": "#%% md\n"
    }
   }
  },
  {
   "cell_type": "code",
   "execution_count": 73,
   "outputs": [
    {
     "name": "stdout",
     "output_type": "stream",
     "text": [
      "Количество точек данных в наборе: 2\n",
      "Количество полей данных (атрибутов): \n",
      "1) 305\n",
      "2) 8\n"
     ]
    }
   ],
   "source": [
    "print(f\"Количество точек данных в наборе: {len(dataframe.shape)}\")\n",
    "print(f\"Количество полей данных (атрибутов): \\n1) {dataframe.shape[0]}\\n2) {dataframe.shape[1]}\")"
   ],
   "metadata": {
    "collapsed": false,
    "pycharm": {
     "name": "#%%\n"
    }
   }
  },
  {
   "cell_type": "code",
   "execution_count": 85,
   "outputs": [
    {
     "name": "stdout",
     "output_type": "stream",
     "text": [
      "Статистика по признаку 0:\n",
      "Количество атрибутов выборки: 305.0\n",
      "Среднее выборки: 0.08235574441797006\n",
      "Стандартное отклонение выборки: 0.9813127306519026\n",
      "Минимальное значение выборки: -2.525158313672493\n",
      "1 квартиль выборки: -0.5936423418351817\n",
      "2 квартиль выборки: 0.0554653621176518\n",
      "3 квартиль выборки: 0.7423074088894129\n",
      "Максимальное значение выборки: 2.764258420703856\n",
      "\n",
      "Статистика по признаку 1:\n",
      "Количество атрибутов выборки: 305.0\n",
      "Среднее выборки: 0.06309210964840471\n",
      "Стандартное отклонение выборки: 1.009991709069869\n",
      "Минимальное значение выборки: -2.552749735744485\n",
      "1 квартиль выборки: -0.5631235190158668\n",
      "2 квартиль выборки: 0.0257600183444568\n",
      "3 квартиль выборки: 0.700231887890992\n",
      "Максимальное значение выборки: 3.012542712292441\n",
      "\n",
      "Статистика по признаку 2:\n",
      "Количество атрибутов выборки: 305.0\n",
      "Среднее выборки: 0.010572257304067592\n",
      "Стандартное отклонение выборки: 0.9894800714541779\n",
      "Минимальное значение выборки: -2.77127598665728\n",
      "1 квартиль выборки: -0.7563444563473268\n",
      "2 квартиль выборки: 0.0291472850802796\n",
      "3 квартиль выборки: 0.7091522066980863\n",
      "Максимальное значение выборки: 2.721609414613772\n",
      "\n",
      "Статистика по признаку 3:\n",
      "Количество атрибутов выборки: 305.0\n",
      "Среднее выборки: -0.038306014268941486\n",
      "Стандартное отклонение выборки: 0.9627989297241745\n",
      "Минимальное значение выборки: -2.702670295600518\n",
      "1 квартиль выборки: -0.768392231431009\n",
      "2 квартиль выборки: -0.1200575592928395\n",
      "3 квартиль выборки: 0.7082117371392923\n",
      "Максимальное значение выборки: 2.683519286036028\n",
      "\n",
      "Статистика по признаку 4:\n",
      "Количество атрибутов выборки: 305.0\n",
      "Среднее выборки: 0.049826694652996245\n",
      "Стандартное отклонение выборки: 0.9767206693366784\n",
      "Минимальное значение выборки: -3.639806897604807\n",
      "1 квартиль выборки: -0.6051743328837553\n",
      "2 квартиль выборки: 0.1057511685597256\n",
      "3 квартиль выборки: 0.6303063014311643\n",
      "Максимальное значение выборки: 2.59436091993127\n",
      "\n",
      "Статистика по признаку 5:\n",
      "Количество атрибутов выборки: 305.0\n",
      "Среднее выборки: -0.0386583369504532\n",
      "Стандартное отклонение выборки: 0.979373314249848\n",
      "Минимальное значение выборки: -2.980766354889308\n",
      "1 квартиль выборки: -0.7330206281537089\n",
      "2 квартиль выборки: 0.0031725289434638\n",
      "3 квартиль выборки: 0.6302796684132475\n",
      "Максимальное значение выборки: 3.186462285330409\n",
      "\n",
      "Статистика по признаку 6:\n",
      "Количество атрибутов выборки: 305.0\n",
      "Среднее выборки: 0.0741515634433328\n",
      "Стандартное отклонение выборки: 1.0087143347506882\n",
      "Минимальное значение выборки: -2.850532894568856\n",
      "1 квартиль выборки: -0.6180085123887196\n",
      "2 квартиль выборки: 0.0459004562598917\n",
      "3 квартиль выборки: 0.7869588927664213\n",
      "Максимальное значение выборки: 2.940325853679707\n",
      "\n",
      "Статистика по признаку Result:\n",
      "Количество атрибутов выборки: 305.0\n",
      "Среднее выборки: 14.254489463569207\n",
      "Стандартное отклонение выборки: 112.04486726182988\n",
      "Минимальное значение выборки: -300.7343846581838\n",
      "1 квартиль выборки: -60.91131091057618\n",
      "2 квартиль выборки: 12.12077937276329\n",
      "3 квартиль выборки: 91.07313651567516\n",
      "Максимальное значение выборки: 340.4076151610883\n",
      "\n"
     ]
    }
   ],
   "source": [
    "for column in dataframe.columns:\n",
    "    statics = dataframe[column].describe()\n",
    "    print(f\"Статистика по признаку {column}:\")\n",
    "    print(f\"Количество атрибутов выборки: {statics['count']}\")\n",
    "    print(f\"Среднее выборки: {statics['mean']}\")\n",
    "    print(f\"Стандартное отклонение выборки: {statics['std']}\")\n",
    "    print(f\"Минимальное значение выборки: {statics['min']}\")\n",
    "    print(f\"1 квартиль выборки: {statics['25%']}\")\n",
    "    print(f\"2 квартиль выборки: {statics['50%']}\")\n",
    "    print(f\"3 квартиль выборки: {statics['75%']}\")\n",
    "    print(f\"Максимальное значение выборки: {statics['max']}\\n\")"
   ],
   "metadata": {
    "collapsed": false,
    "pycharm": {
     "name": "#%%\n"
    }
   }
  },
  {
   "cell_type": "markdown",
   "source": [
    "##### 4. Разделите все наблюдения на обучающую и тестовую выборки в соотношении 80-20."
   ],
   "metadata": {
    "collapsed": false,
    "pycharm": {
     "name": "#%% md\n"
    }
   }
  },
  {
   "cell_type": "code",
   "execution_count": 95,
   "outputs": [],
   "source": [
    "X_2_train, X_2_test, Y_2_train, Y_2_test = train_test_split(X_2, Y_2, test_size=0.2, random_state=9)"
   ],
   "metadata": {
    "collapsed": false,
    "pycharm": {
     "name": "#%%\n"
    }
   }
  },
  {
   "cell_type": "code",
   "execution_count": 96,
   "outputs": [
    {
     "data": {
      "text/plain": "            0         1         2         3         4         5         6\n81   0.953071  0.786225  1.448223  0.173790 -0.517871  0.004237  0.652388\n38   2.735665 -0.332992 -0.041124 -1.177510  1.264018  2.012741 -0.210833\n13   0.198674 -1.609567  1.320895  1.590611  0.192285 -1.125536  0.504975\n101 -0.120855 -1.141555  1.983823 -0.579452  1.668170 -0.172065  0.358384\n236 -0.620104  0.565298  0.133958 -0.603855 -0.253877  1.581854  1.217132\n..        ...       ...       ...       ...       ...       ...       ...\n297 -1.496107  1.605165  0.415612 -1.435500  0.812217 -0.751098  1.095259\n105 -0.822426  0.173505 -0.324586  1.283785 -2.227639 -1.021957 -0.397050\n206 -0.312069  0.278000  0.423390 -1.773203 -1.058221 -0.992419  1.008917\n32  -1.265123  0.213849  0.715933  0.263894  1.753211  0.023289  0.570446\n69   0.401382 -2.440941 -0.554803 -0.149600 -0.184977 -1.476390 -0.528607\n\n[61 rows x 7 columns]",
      "text/html": "<div>\n<style scoped>\n    .dataframe tbody tr th:only-of-type {\n        vertical-align: middle;\n    }\n\n    .dataframe tbody tr th {\n        vertical-align: top;\n    }\n\n    .dataframe thead th {\n        text-align: right;\n    }\n</style>\n<table border=\"1\" class=\"dataframe\">\n  <thead>\n    <tr style=\"text-align: right;\">\n      <th></th>\n      <th>0</th>\n      <th>1</th>\n      <th>2</th>\n      <th>3</th>\n      <th>4</th>\n      <th>5</th>\n      <th>6</th>\n    </tr>\n  </thead>\n  <tbody>\n    <tr>\n      <th>81</th>\n      <td>0.953071</td>\n      <td>0.786225</td>\n      <td>1.448223</td>\n      <td>0.173790</td>\n      <td>-0.517871</td>\n      <td>0.004237</td>\n      <td>0.652388</td>\n    </tr>\n    <tr>\n      <th>38</th>\n      <td>2.735665</td>\n      <td>-0.332992</td>\n      <td>-0.041124</td>\n      <td>-1.177510</td>\n      <td>1.264018</td>\n      <td>2.012741</td>\n      <td>-0.210833</td>\n    </tr>\n    <tr>\n      <th>13</th>\n      <td>0.198674</td>\n      <td>-1.609567</td>\n      <td>1.320895</td>\n      <td>1.590611</td>\n      <td>0.192285</td>\n      <td>-1.125536</td>\n      <td>0.504975</td>\n    </tr>\n    <tr>\n      <th>101</th>\n      <td>-0.120855</td>\n      <td>-1.141555</td>\n      <td>1.983823</td>\n      <td>-0.579452</td>\n      <td>1.668170</td>\n      <td>-0.172065</td>\n      <td>0.358384</td>\n    </tr>\n    <tr>\n      <th>236</th>\n      <td>-0.620104</td>\n      <td>0.565298</td>\n      <td>0.133958</td>\n      <td>-0.603855</td>\n      <td>-0.253877</td>\n      <td>1.581854</td>\n      <td>1.217132</td>\n    </tr>\n    <tr>\n      <th>...</th>\n      <td>...</td>\n      <td>...</td>\n      <td>...</td>\n      <td>...</td>\n      <td>...</td>\n      <td>...</td>\n      <td>...</td>\n    </tr>\n    <tr>\n      <th>297</th>\n      <td>-1.496107</td>\n      <td>1.605165</td>\n      <td>0.415612</td>\n      <td>-1.435500</td>\n      <td>0.812217</td>\n      <td>-0.751098</td>\n      <td>1.095259</td>\n    </tr>\n    <tr>\n      <th>105</th>\n      <td>-0.822426</td>\n      <td>0.173505</td>\n      <td>-0.324586</td>\n      <td>1.283785</td>\n      <td>-2.227639</td>\n      <td>-1.021957</td>\n      <td>-0.397050</td>\n    </tr>\n    <tr>\n      <th>206</th>\n      <td>-0.312069</td>\n      <td>0.278000</td>\n      <td>0.423390</td>\n      <td>-1.773203</td>\n      <td>-1.058221</td>\n      <td>-0.992419</td>\n      <td>1.008917</td>\n    </tr>\n    <tr>\n      <th>32</th>\n      <td>-1.265123</td>\n      <td>0.213849</td>\n      <td>0.715933</td>\n      <td>0.263894</td>\n      <td>1.753211</td>\n      <td>0.023289</td>\n      <td>0.570446</td>\n    </tr>\n    <tr>\n      <th>69</th>\n      <td>0.401382</td>\n      <td>-2.440941</td>\n      <td>-0.554803</td>\n      <td>-0.149600</td>\n      <td>-0.184977</td>\n      <td>-1.476390</td>\n      <td>-0.528607</td>\n    </tr>\n  </tbody>\n</table>\n<p>61 rows × 7 columns</p>\n</div>"
     },
     "execution_count": 96,
     "metadata": {},
     "output_type": "execute_result"
    }
   ],
   "source": [
    "X_2_test"
   ],
   "metadata": {
    "collapsed": false,
    "pycharm": {
     "name": "#%%\n"
    }
   }
  },
  {
   "cell_type": "code",
   "execution_count": 97,
   "outputs": [
    {
     "data": {
      "text/plain": "         Result\n81   201.008437\n38   203.684171\n13    10.271067\n101   22.699859\n236   28.399755\n..          ...\n297   -0.690694\n105 -109.338716\n206   29.487443\n32   -49.879413\n69   -97.467625\n\n[61 rows x 1 columns]",
      "text/html": "<div>\n<style scoped>\n    .dataframe tbody tr th:only-of-type {\n        vertical-align: middle;\n    }\n\n    .dataframe tbody tr th {\n        vertical-align: top;\n    }\n\n    .dataframe thead th {\n        text-align: right;\n    }\n</style>\n<table border=\"1\" class=\"dataframe\">\n  <thead>\n    <tr style=\"text-align: right;\">\n      <th></th>\n      <th>Result</th>\n    </tr>\n  </thead>\n  <tbody>\n    <tr>\n      <th>81</th>\n      <td>201.008437</td>\n    </tr>\n    <tr>\n      <th>38</th>\n      <td>203.684171</td>\n    </tr>\n    <tr>\n      <th>13</th>\n      <td>10.271067</td>\n    </tr>\n    <tr>\n      <th>101</th>\n      <td>22.699859</td>\n    </tr>\n    <tr>\n      <th>236</th>\n      <td>28.399755</td>\n    </tr>\n    <tr>\n      <th>...</th>\n      <td>...</td>\n    </tr>\n    <tr>\n      <th>297</th>\n      <td>-0.690694</td>\n    </tr>\n    <tr>\n      <th>105</th>\n      <td>-109.338716</td>\n    </tr>\n    <tr>\n      <th>206</th>\n      <td>29.487443</td>\n    </tr>\n    <tr>\n      <th>32</th>\n      <td>-49.879413</td>\n    </tr>\n    <tr>\n      <th>69</th>\n      <td>-97.467625</td>\n    </tr>\n  </tbody>\n</table>\n<p>61 rows × 1 columns</p>\n</div>"
     },
     "execution_count": 97,
     "metadata": {},
     "output_type": "execute_result"
    }
   ],
   "source": [
    "Y_2_test"
   ],
   "metadata": {
    "collapsed": false,
    "pycharm": {
     "name": "#%%\n"
    }
   }
  },
  {
   "cell_type": "code",
   "execution_count": 98,
   "outputs": [
    {
     "data": {
      "text/plain": "            0         1         2         3         4         5         6\n150 -0.089086 -1.194386  1.283810 -1.214304  0.319990 -0.072730 -0.717072\n192 -0.060129  2.488751 -1.533675  0.893367  0.788858  0.766142  1.427813\n109 -0.570800 -0.876066 -0.484024  0.104329 -1.859212  0.489226 -0.371862\n158 -1.165569  0.507034 -0.018961 -0.714858  0.148550 -0.902662 -0.263454\n231  0.499989  1.341765 -0.641766 -0.999820  1.575967  0.529680 -0.261788\n..        ...       ...       ...       ...       ...       ...       ...\n65  -1.254007 -0.938059 -0.107991 -1.226427  0.251622 -1.020946  0.584928\n125  0.783949 -2.184614 -0.396933 -0.517147  0.814473 -1.109219 -0.175421\n251  0.160967  2.363788  0.556487 -1.016747  1.589950  0.422069  1.698270\n56  -0.424735 -0.358700  1.569927 -1.248143 -0.476326 -0.227789 -0.858088\n126  0.815074 -0.438667 -0.892020 -0.603201  0.988460 -0.279975  0.941124\n\n[244 rows x 7 columns]",
      "text/html": "<div>\n<style scoped>\n    .dataframe tbody tr th:only-of-type {\n        vertical-align: middle;\n    }\n\n    .dataframe tbody tr th {\n        vertical-align: top;\n    }\n\n    .dataframe thead th {\n        text-align: right;\n    }\n</style>\n<table border=\"1\" class=\"dataframe\">\n  <thead>\n    <tr style=\"text-align: right;\">\n      <th></th>\n      <th>0</th>\n      <th>1</th>\n      <th>2</th>\n      <th>3</th>\n      <th>4</th>\n      <th>5</th>\n      <th>6</th>\n    </tr>\n  </thead>\n  <tbody>\n    <tr>\n      <th>150</th>\n      <td>-0.089086</td>\n      <td>-1.194386</td>\n      <td>1.283810</td>\n      <td>-1.214304</td>\n      <td>0.319990</td>\n      <td>-0.072730</td>\n      <td>-0.717072</td>\n    </tr>\n    <tr>\n      <th>192</th>\n      <td>-0.060129</td>\n      <td>2.488751</td>\n      <td>-1.533675</td>\n      <td>0.893367</td>\n      <td>0.788858</td>\n      <td>0.766142</td>\n      <td>1.427813</td>\n    </tr>\n    <tr>\n      <th>109</th>\n      <td>-0.570800</td>\n      <td>-0.876066</td>\n      <td>-0.484024</td>\n      <td>0.104329</td>\n      <td>-1.859212</td>\n      <td>0.489226</td>\n      <td>-0.371862</td>\n    </tr>\n    <tr>\n      <th>158</th>\n      <td>-1.165569</td>\n      <td>0.507034</td>\n      <td>-0.018961</td>\n      <td>-0.714858</td>\n      <td>0.148550</td>\n      <td>-0.902662</td>\n      <td>-0.263454</td>\n    </tr>\n    <tr>\n      <th>231</th>\n      <td>0.499989</td>\n      <td>1.341765</td>\n      <td>-0.641766</td>\n      <td>-0.999820</td>\n      <td>1.575967</td>\n      <td>0.529680</td>\n      <td>-0.261788</td>\n    </tr>\n    <tr>\n      <th>...</th>\n      <td>...</td>\n      <td>...</td>\n      <td>...</td>\n      <td>...</td>\n      <td>...</td>\n      <td>...</td>\n      <td>...</td>\n    </tr>\n    <tr>\n      <th>65</th>\n      <td>-1.254007</td>\n      <td>-0.938059</td>\n      <td>-0.107991</td>\n      <td>-1.226427</td>\n      <td>0.251622</td>\n      <td>-1.020946</td>\n      <td>0.584928</td>\n    </tr>\n    <tr>\n      <th>125</th>\n      <td>0.783949</td>\n      <td>-2.184614</td>\n      <td>-0.396933</td>\n      <td>-0.517147</td>\n      <td>0.814473</td>\n      <td>-1.109219</td>\n      <td>-0.175421</td>\n    </tr>\n    <tr>\n      <th>251</th>\n      <td>0.160967</td>\n      <td>2.363788</td>\n      <td>0.556487</td>\n      <td>-1.016747</td>\n      <td>1.589950</td>\n      <td>0.422069</td>\n      <td>1.698270</td>\n    </tr>\n    <tr>\n      <th>56</th>\n      <td>-0.424735</td>\n      <td>-0.358700</td>\n      <td>1.569927</td>\n      <td>-1.248143</td>\n      <td>-0.476326</td>\n      <td>-0.227789</td>\n      <td>-0.858088</td>\n    </tr>\n    <tr>\n      <th>126</th>\n      <td>0.815074</td>\n      <td>-0.438667</td>\n      <td>-0.892020</td>\n      <td>-0.603201</td>\n      <td>0.988460</td>\n      <td>-0.279975</td>\n      <td>0.941124</td>\n    </tr>\n  </tbody>\n</table>\n<p>244 rows × 7 columns</p>\n</div>"
     },
     "execution_count": 98,
     "metadata": {},
     "output_type": "execute_result"
    }
   ],
   "source": [
    "X_2_train"
   ],
   "metadata": {
    "collapsed": false,
    "pycharm": {
     "name": "#%%\n"
    }
   }
  },
  {
   "cell_type": "code",
   "execution_count": 99,
   "outputs": [
    {
     "data": {
      "text/plain": "         Result\n150  -51.908638\n192  121.191507\n109 -125.568591\n158  -83.069325\n231   87.712544\n..          ...\n65  -153.027376\n125  -64.208517\n251  193.921629\n56   -26.792367\n126   53.296435\n\n[244 rows x 1 columns]",
      "text/html": "<div>\n<style scoped>\n    .dataframe tbody tr th:only-of-type {\n        vertical-align: middle;\n    }\n\n    .dataframe tbody tr th {\n        vertical-align: top;\n    }\n\n    .dataframe thead th {\n        text-align: right;\n    }\n</style>\n<table border=\"1\" class=\"dataframe\">\n  <thead>\n    <tr style=\"text-align: right;\">\n      <th></th>\n      <th>Result</th>\n    </tr>\n  </thead>\n  <tbody>\n    <tr>\n      <th>150</th>\n      <td>-51.908638</td>\n    </tr>\n    <tr>\n      <th>192</th>\n      <td>121.191507</td>\n    </tr>\n    <tr>\n      <th>109</th>\n      <td>-125.568591</td>\n    </tr>\n    <tr>\n      <th>158</th>\n      <td>-83.069325</td>\n    </tr>\n    <tr>\n      <th>231</th>\n      <td>87.712544</td>\n    </tr>\n    <tr>\n      <th>...</th>\n      <td>...</td>\n    </tr>\n    <tr>\n      <th>65</th>\n      <td>-153.027376</td>\n    </tr>\n    <tr>\n      <th>125</th>\n      <td>-64.208517</td>\n    </tr>\n    <tr>\n      <th>251</th>\n      <td>193.921629</td>\n    </tr>\n    <tr>\n      <th>56</th>\n      <td>-26.792367</td>\n    </tr>\n    <tr>\n      <th>126</th>\n      <td>53.296435</td>\n    </tr>\n  </tbody>\n</table>\n<p>244 rows × 1 columns</p>\n</div>"
     },
     "execution_count": 99,
     "metadata": {},
     "output_type": "execute_result"
    }
   ],
   "source": [
    "Y_2_train"
   ],
   "metadata": {
    "collapsed": false,
    "pycharm": {
     "name": "#%%\n"
    }
   }
  },
  {
   "cell_type": "markdown",
   "source": [
    "##### 5. Для целевого и каждого из признаков постройте парную регрессионную модель. Визуализируйте линию регрессии и исходные данные на графике. При помощи коэффициентов оцените силу связи."
   ],
   "metadata": {
    "collapsed": false,
    "pycharm": {
     "name": "#%% md\n"
    }
   }
  },
  {
   "cell_type": "code",
   "execution_count": 119,
   "outputs": [
    {
     "name": "stdout",
     "output_type": "stream",
     "text": [
      "Slope: 86.83673972860664\n",
      "Intercept: 7.102985120390292\n",
      "Final score: 0.5784128761539589\n"
     ]
    }
   ],
   "source": [
    "slr = linear_model.LinearRegression()\n",
    "x_tr = np.array(X_2['0']).reshape(-1, 1)\n",
    "slr.fit(x_tr, Y_2)\n",
    "y_pred = slr.predict(x_tr)\n",
    "print(f'Slope: {slr.coef_[0][0]}')\n",
    "print(f'Intercept: {slr.intercept_[0]}')\n",
    "print(f'Final score: {slr.score(x_tr, Y_2)}')"
   ],
   "metadata": {
    "collapsed": false,
    "pycharm": {
     "name": "#%%\n"
    }
   }
  },
  {
   "cell_type": "code",
   "execution_count": 116,
   "outputs": [
    {
     "data": {
      "text/plain": "<Figure size 432x288 with 1 Axes>",
      "image/png": "[encoded data removed]"
     },
     "metadata": {
      "needs_background": "light"
     },
     "output_type": "display_data"
    }
   ],
   "source": [
    "plt.scatter(x_tr, Y_2)\n",
    "plt.title(\"Парная регрессионная модель по 1 признаку\", fontsize=14)\n",
    "plt.plot(x_tr, slr.predict(x_tr), color='red', linewidth=2)\n",
    "plt.show()"
   ],
   "metadata": {
    "collapsed": false,
    "pycharm": {
     "name": "#%%\n"
    }
   }
  },
  {
   "cell_type": "code",
   "execution_count": 120,
   "outputs": [
    {
     "name": "stdout",
     "output_type": "stream",
     "text": [
      "Slope: 40.8012792380131\n",
      "Intercept: 11.680250680089307\n",
      "Final score: 0.1352693004074379\n"
     ]
    }
   ],
   "source": [
    "slr = linear_model.LinearRegression()\n",
    "x_tr = np.array(X_2['1']).reshape(-1, 1)\n",
    "slr.fit(x_tr, Y_2)\n",
    "y_pred = slr.predict(x_tr)\n",
    "print(f'Slope: {slr.coef_[0][0]}')\n",
    "print(f'Intercept: {slr.intercept_[0]}')\n",
    "print(f'Final score: {slr.score(x_tr, Y_2)}')"
   ],
   "metadata": {
    "collapsed": false,
    "pycharm": {
     "name": "#%%\n"
    }
   }
  },
  {
   "cell_type": "code",
   "execution_count": 121,
   "outputs": [
    {
     "data": {
      "text/plain": "<Figure size 432x288 with 1 Axes>",
      "image/png": "[encoded data removed]"
     },
     "metadata": {
      "needs_background": "light"
     },
     "output_type": "display_data"
    }
   ],
   "source": [
    "plt.scatter(x_tr, Y_2)\n",
    "plt.title(\"Парная регрессионная модель по 2 признаку\", fontsize=14)\n",
    "plt.plot(x_tr, slr.predict(x_tr), color='red', linewidth=2)\n",
    "plt.show()"
   ],
   "metadata": {
    "collapsed": false,
    "pycharm": {
     "name": "#%%\n"
    }
   }
  },
  {
   "cell_type": "code",
   "execution_count": 122,
   "outputs": [
    {
     "name": "stdout",
     "output_type": "stream",
     "text": [
      "Slope: 29.5756319421535\n",
      "Intercept: 13.94180827274636\n",
      "Final score: 0.06821788279642071\n"
     ]
    }
   ],
   "source": [
    "slr = linear_model.LinearRegression()\n",
    "x_tr = np.array(X_2['2']).reshape(-1, 1)\n",
    "slr.fit(x_tr, Y_2)\n",
    "y_pred = slr.predict(x_tr)\n",
    "print(f'Slope: {slr.coef_[0][0]}')\n",
    "print(f'Intercept: {slr.intercept_[0]}')\n",
    "print(f'Final score: {slr.score(x_tr, Y_2)}')"
   ],
   "metadata": {
    "collapsed": false,
    "pycharm": {
     "name": "#%%\n"
    }
   }
  },
  {
   "cell_type": "code",
   "execution_count": 124,
   "outputs": [
    {
     "data": {
      "text/plain": "<Figure size 432x288 with 1 Axes>",
      "image/png": "[encoded data removed]"
     },
     "metadata": {
      "needs_background": "light"
     },
     "output_type": "display_data"
    }
   ],
   "source": [
    "plt.scatter(x_tr, Y_2)\n",
    "plt.title(\"Парная регрессионная модель по 3 признаку\", fontsize=14)\n",
    "plt.plot(x_tr, slr.predict(x_tr), color='red', linewidth=2)\n",
    "plt.show()"
   ],
   "metadata": {
    "collapsed": false,
    "pycharm": {
     "name": "#%%\n"
    }
   }
  },
  {
   "cell_type": "code",
   "execution_count": 125,
   "outputs": [
    {
     "name": "stdout",
     "output_type": "stream",
     "text": [
      "Slope: -3.859128660503041\n",
      "Intercept: 14.106661626034297\n",
      "Final score: 0.0010996786173483875\n"
     ]
    }
   ],
   "source": [
    "slr = linear_model.LinearRegression()\n",
    "x_tr = np.array(X_2['3']).reshape(-1, 1)\n",
    "slr.fit(x_tr, Y_2)\n",
    "y_pred = slr.predict(x_tr)\n",
    "print(f'Slope: {slr.coef_[0][0]}')\n",
    "print(f'Intercept: {slr.intercept_[0]}')\n",
    "print(f'Final score: {slr.score(x_tr, Y_2)}')"
   ],
   "metadata": {
    "collapsed": false,
    "pycharm": {
     "name": "#%%\n"
    }
   }
  },
  {
   "cell_type": "code",
   "execution_count": 126,
   "outputs": [
    {
     "data": {
      "text/plain": "<Figure size 432x288 with 1 Axes>",
      "image/png": "[encoded data removed]"
     },
     "metadata": {
      "needs_background": "light"
     },
     "output_type": "display_data"
    }
   ],
   "source": [
    "plt.scatter(x_tr, Y_2)\n",
    "plt.title(\"Парная регрессионная модель по 4 признаку\", fontsize=14)\n",
    "plt.plot(x_tr, slr.predict(x_tr), color='red', linewidth=2)\n",
    "plt.show()"
   ],
   "metadata": {
    "collapsed": false,
    "pycharm": {
     "name": "#%%\n"
    }
   }
  },
  {
   "cell_type": "code",
   "execution_count": 127,
   "outputs": [
    {
     "name": "stdout",
     "output_type": "stream",
     "text": [
      "Slope: 4.135670392286748\n",
      "Intercept: 14.048422677747299\n",
      "Final score: 0.001299716586544597\n"
     ]
    }
   ],
   "source": [
    "slr = linear_model.LinearRegression()\n",
    "x_tr = np.array(X_2['4']).reshape(-1, 1)\n",
    "slr.fit(x_tr, Y_2)\n",
    "y_pred = slr.predict(x_tr)\n",
    "print(f'Slope: {slr.coef_[0][0]}')\n",
    "print(f'Intercept: {slr.intercept_[0]}')\n",
    "print(f'Final score: {slr.score(x_tr, Y_2)}')"
   ],
   "metadata": {
    "collapsed": false,
    "pycharm": {
     "name": "#%%\n"
    }
   }
  },
  {
   "cell_type": "code",
   "execution_count": 128,
   "outputs": [
    {
     "data": {
      "text/plain": "<Figure size 432x288 with 1 Axes>",
      "image/png": "[encoded data removed]"
     },
     "metadata": {
      "needs_background": "light"
     },
     "output_type": "display_data"
    }
   ],
   "source": [
    "plt.scatter(x_tr, Y_2)\n",
    "plt.title(\"Парная регрессионная модель по 5 признаку\", fontsize=14)\n",
    "plt.plot(x_tr, slr.predict(x_tr), color='red', linewidth=2)\n",
    "plt.show()"
   ],
   "metadata": {
    "collapsed": false,
    "pycharm": {
     "name": "#%%\n"
    }
   }
  },
  {
   "cell_type": "code",
   "execution_count": 129,
   "outputs": [
    {
     "name": "stdout",
     "output_type": "stream",
     "text": [
      "Slope: 9.132590321752842\n",
      "Intercept: 14.607540217457977\n",
      "Final score: 0.006372363654025492\n"
     ]
    }
   ],
   "source": [
    "slr = linear_model.LinearRegression()\n",
    "x_tr = np.array(X_2['5']).reshape(-1, 1)\n",
    "slr.fit(x_tr, Y_2)\n",
    "y_pred = slr.predict(x_tr)\n",
    "print(f'Slope: {slr.coef_[0][0]}')\n",
    "print(f'Intercept: {slr.intercept_[0]}')\n",
    "print(f'Final score: {slr.score(x_tr, Y_2)}')"
   ],
   "metadata": {
    "collapsed": false,
    "pycharm": {
     "name": "#%%\n"
    }
   }
  },
  {
   "cell_type": "code",
   "execution_count": 130,
   "outputs": [
    {
     "data": {
      "text/plain": "<Figure size 432x288 with 1 Axes>",
      "image/png": "[encoded data removed]"
     },
     "metadata": {
      "needs_background": "light"
     },
     "output_type": "display_data"
    }
   ],
   "source": [
    "plt.scatter(x_tr, Y_2)\n",
    "plt.title(\"Парная регрессионная модель по 6 признаку\", fontsize=14)\n",
    "plt.plot(x_tr, slr.predict(x_tr), color='red', linewidth=2)\n",
    "plt.show()"
   ],
   "metadata": {
    "collapsed": false,
    "pycharm": {
     "name": "#%%\n"
    }
   }
  },
  {
   "cell_type": "code",
   "execution_count": 137,
   "outputs": [
    {
     "name": "stdout",
     "output_type": "stream",
     "text": [
      "Slope: 46.908997823433566\n",
      "Intercept: 10.776113935401714\n",
      "Final score: 0.1783465701303315\n"
     ]
    }
   ],
   "source": [
    "slr = linear_model.LinearRegression()\n",
    "x_tr = np.array(X_2['6']).reshape(-1, 1)\n",
    "slr.fit(x_tr, Y_2)\n",
    "y_pred = slr.predict(x_tr)\n",
    "print(f'Slope: {slr.coef_[0][0]}')\n",
    "print(f'Intercept: {slr.intercept_[0]}')\n",
    "print(f'Final score: {slr.score(x_tr, Y_2)}')"
   ],
   "metadata": {
    "collapsed": false,
    "pycharm": {
     "name": "#%%\n"
    }
   }
  },
  {
   "cell_type": "code",
   "execution_count": 138,
   "outputs": [
    {
     "data": {
      "text/plain": "<Figure size 432x288 with 1 Axes>",
      "image/png": "[encoded data removed]"
     },
     "metadata": {
      "needs_background": "light"
     },
     "output_type": "display_data"
    }
   ],
   "source": [
    "plt.scatter(x_tr, Y_2)\n",
    "plt.title(\"Парная регрессионная модель по 7 признаку\", fontsize=14)\n",
    "plt.plot(x_tr, slr.predict(x_tr), color='red', linewidth=2)\n",
    "plt.show()"
   ],
   "metadata": {
    "collapsed": false,
    "pycharm": {
     "name": "#%%\n"
    }
   }
  },
  {
   "cell_type": "markdown",
   "source": [
    "##### 6. Постройте модель множественной линейной регрессии целевой переменной от всех показателей. Оцените качество регрессии, сделайте вывод."
   ],
   "metadata": {
    "collapsed": false,
    "pycharm": {
     "name": "#%% md\n"
    }
   }
  },
  {
   "cell_type": "code",
   "execution_count": 142,
   "outputs": [],
   "source": [
    "slr = linear_model.LinearRegression()\n",
    "slr.fit(X_2_train, Y_2_train)\n",
    "y_train_pred = slr.predict(X_2_train)\n",
    "y_test_pred = slr.predict(X_2_test)"
   ],
   "metadata": {
    "collapsed": false,
    "pycharm": {
     "name": "#%%\n"
    }
   }
  },
  {
   "cell_type": "markdown",
   "source": [
    "Поскольку в нашей модели несколько независимых переменных, мы не можем отобразить их зависимость на двумерном пространстве, но можем нанести на график связь между остатками модели и предсказанными значениями, что также поможет нам диагностировать качество модели. Это называется Residuals plot. C его помощью мы можем увидет нелинейность и выбросы, проверить случайность распределения ошибки."
   ],
   "metadata": {
    "collapsed": false,
    "pycharm": {
     "name": "#%% md\n"
    }
   }
  },
  {
   "cell_type": "code",
   "execution_count": 143,
   "outputs": [
    {
     "name": "stdout",
     "output_type": "stream",
     "text": [
      "MSE train: 95.828, test: 142.803\n",
      "R^2 train: 0.992, test: 0.991\n"
     ]
    }
   ],
   "source": [
    "print('MSE train: {:.3f}, test: {:.3f}'.format(\n",
    "    mean_squared_error(Y_2_train, y_train_pred),\n",
    "    mean_squared_error(Y_2_test, y_test_pred)))\n",
    "print('R^2 train: {:.3f}, test: {:.3f}'.format(\n",
    "    r2_score(Y_2_train, y_train_pred),\n",
    "    r2_score(Y_2_test, y_test_pred)))"
   ],
   "metadata": {
    "collapsed": false,
    "pycharm": {
     "name": "#%%\n"
    }
   }
  },
  {
   "cell_type": "code",
   "execution_count": 144,
   "outputs": [
    {
     "data": {
      "text/plain": "<Figure size 432x288 with 1 Axes>",
      "image/png": "[encoded data removed]"
     },
     "metadata": {
      "needs_background": "light"
     },
     "output_type": "display_data"
    }
   ],
   "source": [
    "plt.scatter(y_train_pred, y_train_pred - Y_2_train, c='blue', marker='o', label='Training data')\n",
    "plt.scatter(y_test_pred, y_test_pred - Y_2_test, c='lightgreen', marker='s', label='Test data')\n",
    "plt.xlabel('Predicted values')\n",
    "plt.ylabel('Residuals')\n",
    "plt.legend(loc='upper left')\n",
    "plt.hlines(y=0, xmin=-10, xmax=50, lw=2, color='red')\n",
    "plt.xlim([-10, 50])\n",
    "plt.tight_layout()\n",
    "plt.show()"
   ],
   "metadata": {
    "collapsed": false,
    "pycharm": {
     "name": "#%%\n"
    }
   }
  },
  {
   "cell_type": "code",
   "execution_count": null,
   "outputs": [],
   "source": [],
   "metadata": {
    "collapsed": false,
    "pycharm": {
     "name": "#%%\n"
    }
   }
  }
 ],
 "metadata": {
  "kernelspec": {
   "display_name": "Python 3",
   "language": "python",
   "name": "python3"
  },
  "language_info": {
   "codemirror_mode": {
    "name": "ipython",
    "version": 2
   },
   "file_extension": ".py",
   "mimetype": "text/x-python",
   "name": "python",
   "nbconvert_exporter": "python",
   "pygments_lexer": "ipython2",
   "version": "2.7.6"
  }
 },
 "nbformat": 4,
 "nbformat_minor": 0
}